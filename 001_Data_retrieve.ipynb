{
 "cells": [
  {
   "cell_type": "code",
   "execution_count": 4,
   "id": "fdb81e9b-de92-4614-acdf-fc50d739c8d0",
   "metadata": {},
   "outputs": [
    {
     "name": "stdout",
     "output_type": "stream",
     "text": [
      "The autoreload extension is already loaded. To reload it, use:\n",
      "  %reload_ext autoreload\n"
     ]
    }
   ],
   "source": [
    "%load_ext autoreload\n",
    "%autoreload 2"
   ]
  },
  {
   "cell_type": "code",
   "execution_count": 5,
   "id": "afa8a757-add0-4723-906f-3394834be8b9",
   "metadata": {},
   "outputs": [
    {
     "name": "stdout",
     "output_type": "stream",
     "text": [
      "Requirement already satisfied: pandas in /opt/anaconda3/lib/python3.9/site-packages (1.4.4)\r\n",
      "Requirement already satisfied: python-dateutil>=2.8.1 in /opt/anaconda3/lib/python3.9/site-packages (from pandas) (2.8.2)\r\n",
      "Requirement already satisfied: pytz>=2020.1 in /opt/anaconda3/lib/python3.9/site-packages (from pandas) (2022.1)\r\n",
      "Requirement already satisfied: numpy>=1.18.5 in /opt/anaconda3/lib/python3.9/site-packages (from pandas) (1.21.5)\r\n",
      "Requirement already satisfied: six>=1.5 in /opt/anaconda3/lib/python3.9/site-packages (from python-dateutil>=2.8.1->pandas) (1.16.0)\r\n",
      "Requirement already satisfied: numpy in /opt/anaconda3/lib/python3.9/site-packages (1.21.5)\r\n",
      "Requirement already satisfied: matplotlib in /opt/anaconda3/lib/python3.9/site-packages (3.5.2)\r\n",
      "Requirement already satisfied: pyparsing>=2.2.1 in /opt/anaconda3/lib/python3.9/site-packages (from matplotlib) (3.0.9)\r\n",
      "Requirement already satisfied: python-dateutil>=2.7 in /opt/anaconda3/lib/python3.9/site-packages (from matplotlib) (2.8.2)\r\n",
      "Requirement already satisfied: cycler>=0.10 in /opt/anaconda3/lib/python3.9/site-packages (from matplotlib) (0.11.0)\r\n",
      "Requirement already satisfied: kiwisolver>=1.0.1 in /opt/anaconda3/lib/python3.9/site-packages (from matplotlib) (1.4.2)\r\n",
      "Requirement already satisfied: packaging>=20.0 in /opt/anaconda3/lib/python3.9/site-packages (from matplotlib) (21.3)\r\n",
      "Requirement already satisfied: fonttools>=4.22.0 in /opt/anaconda3/lib/python3.9/site-packages (from matplotlib) (4.25.0)\r\n",
      "Requirement already satisfied: pillow>=6.2.0 in /opt/anaconda3/lib/python3.9/site-packages (from matplotlib) (9.2.0)\r\n",
      "Requirement already satisfied: numpy>=1.17 in /opt/anaconda3/lib/python3.9/site-packages (from matplotlib) (1.21.5)\r\n",
      "Requirement already satisfied: six>=1.5 in /opt/anaconda3/lib/python3.9/site-packages (from python-dateutil>=2.7->matplotlib) (1.16.0)\r\n",
      "Requirement already satisfied: pandas-summary in /opt/anaconda3/lib/python3.9/site-packages (0.2.0)\r\n",
      "Requirement already satisfied: datatile in /opt/anaconda3/lib/python3.9/site-packages (from pandas-summary) (1.0.3)\r\n",
      "Requirement already satisfied: numpy in /opt/anaconda3/lib/python3.9/site-packages (from pandas-summary) (1.21.5)\r\n",
      "Requirement already satisfied: pandas in /opt/anaconda3/lib/python3.9/site-packages (from pandas-summary) (1.4.4)\r\n",
      "Requirement already satisfied: traceml<1.1 in /opt/anaconda3/lib/python3.9/site-packages (from datatile->pandas-summary) (1.0.8)\r\n",
      "Requirement already satisfied: python-dateutil>=2.8.1 in /opt/anaconda3/lib/python3.9/site-packages (from pandas->pandas-summary) (2.8.2)\r\n",
      "Requirement already satisfied: pytz>=2020.1 in /opt/anaconda3/lib/python3.9/site-packages (from pandas->pandas-summary) (2022.1)\r\n",
      "Requirement already satisfied: six>=1.5 in /opt/anaconda3/lib/python3.9/site-packages (from python-dateutil>=2.8.1->pandas->pandas-summary) (1.16.0)\r\n",
      "Requirement already satisfied: tensorflow in /opt/anaconda3/lib/python3.9/site-packages (2.11.0)\r\n",
      "Requirement already satisfied: six>=1.12.0 in /opt/anaconda3/lib/python3.9/site-packages (from tensorflow) (1.16.0)\r\n",
      "Requirement already satisfied: opt-einsum>=2.3.2 in /opt/anaconda3/lib/python3.9/site-packages (from tensorflow) (3.3.0)\r\n",
      "Requirement already satisfied: termcolor>=1.1.0 in /opt/anaconda3/lib/python3.9/site-packages (from tensorflow) (2.2.0)\r\n",
      "Requirement already satisfied: typing-extensions>=3.6.6 in /opt/anaconda3/lib/python3.9/site-packages (from tensorflow) (4.3.0)\r\n",
      "Requirement already satisfied: numpy>=1.20 in /opt/anaconda3/lib/python3.9/site-packages (from tensorflow) (1.21.5)\r\n",
      "Requirement already satisfied: tensorflow-io-gcs-filesystem>=0.23.1 in /opt/anaconda3/lib/python3.9/site-packages (from tensorflow) (0.30.0)\r\n",
      "Requirement already satisfied: absl-py>=1.0.0 in /opt/anaconda3/lib/python3.9/site-packages (from tensorflow) (1.4.0)\r\n",
      "Requirement already satisfied: keras<2.12,>=2.11.0 in /opt/anaconda3/lib/python3.9/site-packages (from tensorflow) (2.11.0)\r\n",
      "Requirement already satisfied: h5py>=2.9.0 in /opt/anaconda3/lib/python3.9/site-packages (from tensorflow) (3.7.0)\r\n",
      "Requirement already satisfied: google-pasta>=0.1.1 in /opt/anaconda3/lib/python3.9/site-packages (from tensorflow) (0.2.0)\r\n",
      "Requirement already satisfied: grpcio<2.0,>=1.24.3 in /opt/anaconda3/lib/python3.9/site-packages (from tensorflow) (1.51.1)\r\n",
      "Requirement already satisfied: wrapt>=1.11.0 in /opt/anaconda3/lib/python3.9/site-packages (from tensorflow) (1.14.1)\r\n",
      "Requirement already satisfied: gast<=0.4.0,>=0.2.1 in /opt/anaconda3/lib/python3.9/site-packages (from tensorflow) (0.4.0)\r\n",
      "Requirement already satisfied: tensorflow-estimator<2.12,>=2.11.0 in /opt/anaconda3/lib/python3.9/site-packages (from tensorflow) (2.11.0)\r\n",
      "Requirement already satisfied: libclang>=13.0.0 in /opt/anaconda3/lib/python3.9/site-packages (from tensorflow) (15.0.6.1)\r\n",
      "Requirement already satisfied: protobuf<3.20,>=3.9.2 in /opt/anaconda3/lib/python3.9/site-packages (from tensorflow) (3.19.6)\r\n",
      "Requirement already satisfied: packaging in /opt/anaconda3/lib/python3.9/site-packages (from tensorflow) (21.3)\r\n",
      "Requirement already satisfied: flatbuffers>=2.0 in /opt/anaconda3/lib/python3.9/site-packages (from tensorflow) (23.1.21)\r\n",
      "Requirement already satisfied: tensorboard<2.12,>=2.11 in /opt/anaconda3/lib/python3.9/site-packages (from tensorflow) (2.11.2)\r\n",
      "Requirement already satisfied: astunparse>=1.6.0 in /opt/anaconda3/lib/python3.9/site-packages (from tensorflow) (1.6.3)\r\n",
      "Requirement already satisfied: setuptools in /opt/anaconda3/lib/python3.9/site-packages (from tensorflow) (63.4.1)\r\n",
      "Requirement already satisfied: wheel<1.0,>=0.23.0 in /opt/anaconda3/lib/python3.9/site-packages (from astunparse>=1.6.0->tensorflow) (0.37.1)\r\n",
      "Requirement already satisfied: google-auth-oauthlib<0.5,>=0.4.1 in /opt/anaconda3/lib/python3.9/site-packages (from tensorboard<2.12,>=2.11->tensorflow) (0.4.6)\r\n",
      "Requirement already satisfied: markdown>=2.6.8 in /opt/anaconda3/lib/python3.9/site-packages (from tensorboard<2.12,>=2.11->tensorflow) (3.3.4)\r\n",
      "Requirement already satisfied: tensorboard-data-server<0.7.0,>=0.6.0 in /opt/anaconda3/lib/python3.9/site-packages (from tensorboard<2.12,>=2.11->tensorflow) (0.6.1)\r\n",
      "Requirement already satisfied: requests<3,>=2.21.0 in /opt/anaconda3/lib/python3.9/site-packages (from tensorboard<2.12,>=2.11->tensorflow) (2.28.1)\r\n",
      "Requirement already satisfied: google-auth<3,>=1.6.3 in /opt/anaconda3/lib/python3.9/site-packages (from tensorboard<2.12,>=2.11->tensorflow) (2.16.0)\r\n",
      "Requirement already satisfied: tensorboard-plugin-wit>=1.6.0 in /opt/anaconda3/lib/python3.9/site-packages (from tensorboard<2.12,>=2.11->tensorflow) (1.8.1)\r\n",
      "Requirement already satisfied: werkzeug>=1.0.1 in /opt/anaconda3/lib/python3.9/site-packages (from tensorboard<2.12,>=2.11->tensorflow) (2.0.3)\r\n",
      "Requirement already satisfied: pyparsing!=3.0.5,>=2.0.2 in /opt/anaconda3/lib/python3.9/site-packages (from packaging->tensorflow) (3.0.9)\r\n",
      "Requirement already satisfied: cachetools<6.0,>=2.0.0 in /opt/anaconda3/lib/python3.9/site-packages (from google-auth<3,>=1.6.3->tensorboard<2.12,>=2.11->tensorflow) (5.3.0)\r\n",
      "Requirement already satisfied: rsa<5,>=3.1.4 in /opt/anaconda3/lib/python3.9/site-packages (from google-auth<3,>=1.6.3->tensorboard<2.12,>=2.11->tensorflow) (4.9)\r\n",
      "Requirement already satisfied: pyasn1-modules>=0.2.1 in /opt/anaconda3/lib/python3.9/site-packages (from google-auth<3,>=1.6.3->tensorboard<2.12,>=2.11->tensorflow) (0.2.8)\r\n",
      "Requirement already satisfied: requests-oauthlib>=0.7.0 in /opt/anaconda3/lib/python3.9/site-packages (from google-auth-oauthlib<0.5,>=0.4.1->tensorboard<2.12,>=2.11->tensorflow) (1.3.1)\r\n",
      "Requirement already satisfied: charset-normalizer<3,>=2 in /opt/anaconda3/lib/python3.9/site-packages (from requests<3,>=2.21.0->tensorboard<2.12,>=2.11->tensorflow) (2.0.4)\r\n",
      "Requirement already satisfied: urllib3<1.27,>=1.21.1 in /opt/anaconda3/lib/python3.9/site-packages (from requests<3,>=2.21.0->tensorboard<2.12,>=2.11->tensorflow) (1.26.11)\r\n",
      "Requirement already satisfied: idna<4,>=2.5 in /opt/anaconda3/lib/python3.9/site-packages (from requests<3,>=2.21.0->tensorboard<2.12,>=2.11->tensorflow) (3.3)\r\n",
      "Requirement already satisfied: certifi>=2017.4.17 in /opt/anaconda3/lib/python3.9/site-packages (from requests<3,>=2.21.0->tensorboard<2.12,>=2.11->tensorflow) (2022.9.24)\r\n",
      "Requirement already satisfied: pyasn1<0.5.0,>=0.4.6 in /opt/anaconda3/lib/python3.9/site-packages (from pyasn1-modules>=0.2.1->google-auth<3,>=1.6.3->tensorboard<2.12,>=2.11->tensorflow) (0.4.8)\r\n",
      "Requirement already satisfied: oauthlib>=3.0.0 in /opt/anaconda3/lib/python3.9/site-packages (from requests-oauthlib>=0.7.0->google-auth-oauthlib<0.5,>=0.4.1->tensorboard<2.12,>=2.11->tensorflow) (3.2.2)\r\n",
      "Requirement already satisfied: tensorflow-addons in /opt/anaconda3/lib/python3.9/site-packages (0.19.0)\r\n",
      "Requirement already satisfied: packaging in /opt/anaconda3/lib/python3.9/site-packages (from tensorflow-addons) (21.3)\r\n",
      "Requirement already satisfied: typeguard>=2.7 in /opt/anaconda3/lib/python3.9/site-packages (from tensorflow-addons) (2.13.3)\r\n",
      "Requirement already satisfied: pyparsing!=3.0.5,>=2.0.2 in /opt/anaconda3/lib/python3.9/site-packages (from packaging->tensorflow-addons) (3.0.9)\r\n",
      "Requirement already satisfied: sklearn-pandas in /opt/anaconda3/lib/python3.9/site-packages (2.2.0)\r\n",
      "Requirement already satisfied: numpy>=1.18.1 in /opt/anaconda3/lib/python3.9/site-packages (from sklearn-pandas) (1.21.5)\r\n",
      "Requirement already satisfied: scikit-learn>=0.23.0 in /opt/anaconda3/lib/python3.9/site-packages (from sklearn-pandas) (1.0.2)\r\n",
      "Requirement already satisfied: pandas>=1.1.4 in /opt/anaconda3/lib/python3.9/site-packages (from sklearn-pandas) (1.4.4)\r\n",
      "Requirement already satisfied: scipy>=1.5.1 in /opt/anaconda3/lib/python3.9/site-packages (from sklearn-pandas) (1.8.1)\r\n",
      "Requirement already satisfied: python-dateutil>=2.8.1 in /opt/anaconda3/lib/python3.9/site-packages (from pandas>=1.1.4->sklearn-pandas) (2.8.2)\r\n",
      "Requirement already satisfied: pytz>=2020.1 in /opt/anaconda3/lib/python3.9/site-packages (from pandas>=1.1.4->sklearn-pandas) (2022.1)\r\n",
      "Requirement already satisfied: threadpoolctl>=2.0.0 in /opt/anaconda3/lib/python3.9/site-packages (from scikit-learn>=0.23.0->sklearn-pandas) (2.2.0)\r\n",
      "Requirement already satisfied: joblib>=0.11 in /opt/anaconda3/lib/python3.9/site-packages (from scikit-learn>=0.23.0->sklearn-pandas) (1.1.0)\r\n",
      "Requirement already satisfied: six>=1.5 in /opt/anaconda3/lib/python3.9/site-packages (from python-dateutil>=2.8.1->pandas>=1.1.4->sklearn-pandas) (1.16.0)\r\n",
      "Requirement already satisfied: mlflow in /opt/anaconda3/lib/python3.9/site-packages (2.1.1)\r\n",
      "Requirement already satisfied: docker<7,>=4.0.0 in /opt/anaconda3/lib/python3.9/site-packages (from mlflow) (6.0.1)\r\n",
      "Requirement already satisfied: sqlparse<1,>=0.4.0 in /opt/anaconda3/lib/python3.9/site-packages (from mlflow) (0.4.3)\r\n",
      "Requirement already satisfied: pyarrow<11,>=4.0.0 in /opt/anaconda3/lib/python3.9/site-packages (from mlflow) (10.0.1)\r\n",
      "Requirement already satisfied: entrypoints<1 in /opt/anaconda3/lib/python3.9/site-packages (from mlflow) (0.4)\r\n",
      "Requirement already satisfied: pandas<2 in /opt/anaconda3/lib/python3.9/site-packages (from mlflow) (1.4.4)\r\n",
      "Requirement already satisfied: matplotlib<4 in /opt/anaconda3/lib/python3.9/site-packages (from mlflow) (3.5.2)\r\n",
      "Requirement already satisfied: Jinja2<4,>=2.11 in /opt/anaconda3/lib/python3.9/site-packages (from mlflow) (2.11.3)\r\n",
      "Requirement already satisfied: markdown<4,>=3.3 in /opt/anaconda3/lib/python3.9/site-packages (from mlflow) (3.3.4)\r\n",
      "Requirement already satisfied: scikit-learn<2 in /opt/anaconda3/lib/python3.9/site-packages (from mlflow) (1.0.2)\r\n",
      "Requirement already satisfied: click<9,>=7.0 in /opt/anaconda3/lib/python3.9/site-packages (from mlflow) (8.0.4)\r\n",
      "Requirement already satisfied: requests<3,>=2.17.3 in /opt/anaconda3/lib/python3.9/site-packages (from mlflow) (2.28.1)\r\n",
      "Requirement already satisfied: numpy<2 in /opt/anaconda3/lib/python3.9/site-packages (from mlflow) (1.21.5)\r\n",
      "Requirement already satisfied: packaging<23 in /opt/anaconda3/lib/python3.9/site-packages (from mlflow) (21.3)\r\n",
      "Requirement already satisfied: Flask<3 in /opt/anaconda3/lib/python3.9/site-packages (from mlflow) (1.1.2)\r\n",
      "Requirement already satisfied: pytz<2023 in /opt/anaconda3/lib/python3.9/site-packages (from mlflow) (2022.1)\r\n",
      "Requirement already satisfied: gunicorn<21 in /opt/anaconda3/lib/python3.9/site-packages (from mlflow) (20.1.0)\r\n",
      "Requirement already satisfied: pyyaml<7,>=5.1 in /opt/anaconda3/lib/python3.9/site-packages (from mlflow) (6.0)\r\n",
      "Requirement already satisfied: shap<1,>=0.40 in /opt/anaconda3/lib/python3.9/site-packages (from mlflow) (0.41.0)\r\n",
      "Requirement already satisfied: alembic<2 in /opt/anaconda3/lib/python3.9/site-packages (from mlflow) (1.9.2)\r\n",
      "Requirement already satisfied: sqlalchemy<2,>=1.4.0 in /opt/anaconda3/lib/python3.9/site-packages (from mlflow) (1.4.39)\r\n",
      "Requirement already satisfied: importlib-metadata!=4.7.0,<6,>=3.7.0 in /opt/anaconda3/lib/python3.9/site-packages (from mlflow) (4.11.3)\r\n",
      "Requirement already satisfied: databricks-cli<1,>=0.8.7 in /opt/anaconda3/lib/python3.9/site-packages (from mlflow) (0.17.4)\r\n",
      "Requirement already satisfied: gitpython<4,>=2.1.0 in /opt/anaconda3/lib/python3.9/site-packages (from mlflow) (3.1.30)\r\n",
      "Requirement already satisfied: querystring-parser<2 in /opt/anaconda3/lib/python3.9/site-packages (from mlflow) (1.2.4)\r\n",
      "Requirement already satisfied: protobuf<5,>=3.12.0 in /opt/anaconda3/lib/python3.9/site-packages (from mlflow) (3.19.6)\r\n",
      "Requirement already satisfied: cloudpickle<3 in /opt/anaconda3/lib/python3.9/site-packages (from mlflow) (2.0.0)\r\n",
      "Requirement already satisfied: scipy<2 in /opt/anaconda3/lib/python3.9/site-packages (from mlflow) (1.8.1)\r\n",
      "Requirement already satisfied: Mako in /opt/anaconda3/lib/python3.9/site-packages (from alembic<2->mlflow) (1.2.4)\r\n",
      "Requirement already satisfied: six>=1.10.0 in /opt/anaconda3/lib/python3.9/site-packages (from databricks-cli<1,>=0.8.7->mlflow) (1.16.0)\r\n",
      "Requirement already satisfied: tabulate>=0.7.7 in /opt/anaconda3/lib/python3.9/site-packages (from databricks-cli<1,>=0.8.7->mlflow) (0.8.10)\r\n",
      "Requirement already satisfied: oauthlib>=3.1.0 in /opt/anaconda3/lib/python3.9/site-packages (from databricks-cli<1,>=0.8.7->mlflow) (3.2.2)\r\n",
      "Requirement already satisfied: pyjwt>=1.7.0 in /opt/anaconda3/lib/python3.9/site-packages (from databricks-cli<1,>=0.8.7->mlflow) (2.4.0)\r\n",
      "Requirement already satisfied: websocket-client>=0.32.0 in /opt/anaconda3/lib/python3.9/site-packages (from docker<7,>=4.0.0->mlflow) (0.58.0)\r\n",
      "Requirement already satisfied: urllib3>=1.26.0 in /opt/anaconda3/lib/python3.9/site-packages (from docker<7,>=4.0.0->mlflow) (1.26.11)\r\n",
      "Requirement already satisfied: Werkzeug>=0.15 in /opt/anaconda3/lib/python3.9/site-packages (from Flask<3->mlflow) (2.0.3)\r\n",
      "Requirement already satisfied: itsdangerous>=0.24 in /opt/anaconda3/lib/python3.9/site-packages (from Flask<3->mlflow) (2.0.1)\r\n",
      "Requirement already satisfied: gitdb<5,>=4.0.1 in /opt/anaconda3/lib/python3.9/site-packages (from gitpython<4,>=2.1.0->mlflow) (4.0.10)\r\n",
      "Requirement already satisfied: setuptools>=3.0 in /opt/anaconda3/lib/python3.9/site-packages (from gunicorn<21->mlflow) (63.4.1)\r\n",
      "Requirement already satisfied: zipp>=0.5 in /opt/anaconda3/lib/python3.9/site-packages (from importlib-metadata!=4.7.0,<6,>=3.7.0->mlflow) (3.8.0)\r\n",
      "Requirement already satisfied: MarkupSafe>=0.23 in /opt/anaconda3/lib/python3.9/site-packages (from Jinja2<4,>=2.11->mlflow) (2.0.1)\r\n",
      "Requirement already satisfied: fonttools>=4.22.0 in /opt/anaconda3/lib/python3.9/site-packages (from matplotlib<4->mlflow) (4.25.0)\r\n",
      "Requirement already satisfied: cycler>=0.10 in /opt/anaconda3/lib/python3.9/site-packages (from matplotlib<4->mlflow) (0.11.0)\r\n",
      "Requirement already satisfied: pillow>=6.2.0 in /opt/anaconda3/lib/python3.9/site-packages (from matplotlib<4->mlflow) (9.2.0)\r\n",
      "Requirement already satisfied: kiwisolver>=1.0.1 in /opt/anaconda3/lib/python3.9/site-packages (from matplotlib<4->mlflow) (1.4.2)\r\n",
      "Requirement already satisfied: pyparsing>=2.2.1 in /opt/anaconda3/lib/python3.9/site-packages (from matplotlib<4->mlflow) (3.0.9)\r\n",
      "Requirement already satisfied: python-dateutil>=2.7 in /opt/anaconda3/lib/python3.9/site-packages (from matplotlib<4->mlflow) (2.8.2)\r\n",
      "Requirement already satisfied: charset-normalizer<3,>=2 in /opt/anaconda3/lib/python3.9/site-packages (from requests<3,>=2.17.3->mlflow) (2.0.4)\r\n",
      "Requirement already satisfied: idna<4,>=2.5 in /opt/anaconda3/lib/python3.9/site-packages (from requests<3,>=2.17.3->mlflow) (3.3)\r\n",
      "Requirement already satisfied: certifi>=2017.4.17 in /opt/anaconda3/lib/python3.9/site-packages (from requests<3,>=2.17.3->mlflow) (2022.9.24)\r\n",
      "Requirement already satisfied: threadpoolctl>=2.0.0 in /opt/anaconda3/lib/python3.9/site-packages (from scikit-learn<2->mlflow) (2.2.0)\r\n",
      "Requirement already satisfied: joblib>=0.11 in /opt/anaconda3/lib/python3.9/site-packages (from scikit-learn<2->mlflow) (1.1.0)\r\n",
      "Requirement already satisfied: numba in /opt/anaconda3/lib/python3.9/site-packages (from shap<1,>=0.40->mlflow) (0.55.1)\r\n",
      "Requirement already satisfied: tqdm>4.25.0 in /opt/anaconda3/lib/python3.9/site-packages (from shap<1,>=0.40->mlflow) (4.64.1)\r\n",
      "Requirement already satisfied: slicer==0.0.7 in /opt/anaconda3/lib/python3.9/site-packages (from shap<1,>=0.40->mlflow) (0.0.7)\r\n",
      "Requirement already satisfied: greenlet!=0.4.17 in /opt/anaconda3/lib/python3.9/site-packages (from sqlalchemy<2,>=1.4.0->mlflow) (1.1.1)\r\n",
      "Requirement already satisfied: smmap<6,>=3.0.1 in /opt/anaconda3/lib/python3.9/site-packages (from gitdb<5,>=4.0.1->gitpython<4,>=2.1.0->mlflow) (5.0.0)\r\n",
      "Requirement already satisfied: llvmlite<0.39,>=0.38.0rc1 in /opt/anaconda3/lib/python3.9/site-packages (from numba->shap<1,>=0.40->mlflow) (0.38.0)\r\n"
     ]
    }
   ],
   "source": [
    "! pip install pandas\n",
    "! pip install numpy\n",
    "! pip install matplotlib\n",
    "! pip install pandas-summary\n",
    "! pip install tensorflow\n",
    "#! pip install -q tensorflow-model-optimization\n",
    "! pip install tensorflow-addons\n",
    "! pip install sklearn-pandas\n",
    "! pip install mlflow"
   ]
  },
  {
   "cell_type": "code",
   "execution_count": 6,
   "outputs": [
    {
     "name": "stdout",
     "output_type": "stream",
     "text": [
      "Requirement already satisfied: chembl-webresource-client in /opt/anaconda3/lib/python3.9/site-packages (0.10.8)\r\n",
      "Requirement already satisfied: easydict in /opt/anaconda3/lib/python3.9/site-packages (from chembl-webresource-client) (1.10)\r\n",
      "Requirement already satisfied: requests-cache~=0.7.0 in /opt/anaconda3/lib/python3.9/site-packages (from chembl-webresource-client) (0.7.5)\r\n",
      "Requirement already satisfied: urllib3 in /opt/anaconda3/lib/python3.9/site-packages (from chembl-webresource-client) (1.26.11)\r\n",
      "Requirement already satisfied: requests>=2.18.4 in /opt/anaconda3/lib/python3.9/site-packages (from chembl-webresource-client) (2.28.1)\r\n",
      "Requirement already satisfied: charset-normalizer<3,>=2 in /opt/anaconda3/lib/python3.9/site-packages (from requests>=2.18.4->chembl-webresource-client) (2.0.4)\r\n",
      "Requirement already satisfied: idna<4,>=2.5 in /opt/anaconda3/lib/python3.9/site-packages (from requests>=2.18.4->chembl-webresource-client) (3.3)\r\n",
      "Requirement already satisfied: certifi>=2017.4.17 in /opt/anaconda3/lib/python3.9/site-packages (from requests>=2.18.4->chembl-webresource-client) (2022.9.24)\r\n",
      "Requirement already satisfied: pyyaml>=5.4 in /opt/anaconda3/lib/python3.9/site-packages (from requests-cache~=0.7.0->chembl-webresource-client) (6.0)\r\n",
      "Requirement already satisfied: itsdangerous>=2.0.1 in /opt/anaconda3/lib/python3.9/site-packages (from requests-cache~=0.7.0->chembl-webresource-client) (2.0.1)\r\n",
      "Requirement already satisfied: url-normalize<2.0,>=1.4 in /opt/anaconda3/lib/python3.9/site-packages (from requests-cache~=0.7.0->chembl-webresource-client) (1.4.3)\r\n",
      "Requirement already satisfied: attrs<22.0,>=21.2 in /opt/anaconda3/lib/python3.9/site-packages (from requests-cache~=0.7.0->chembl-webresource-client) (21.4.0)\r\n",
      "Requirement already satisfied: six in /opt/anaconda3/lib/python3.9/site-packages (from url-normalize<2.0,>=1.4->requests-cache~=0.7.0->chembl-webresource-client) (1.16.0)\r\n",
      "Requirement already satisfied: deepchem in /opt/anaconda3/lib/python3.9/site-packages (2.7.1)\r\n",
      "Requirement already satisfied: pandas in /opt/anaconda3/lib/python3.9/site-packages (from deepchem) (1.4.4)\r\n",
      "Requirement already satisfied: numpy>=1.21 in /opt/anaconda3/lib/python3.9/site-packages (from deepchem) (1.21.5)\r\n",
      "Requirement already satisfied: scipy<1.9 in /opt/anaconda3/lib/python3.9/site-packages (from deepchem) (1.8.1)\r\n",
      "Requirement already satisfied: joblib in /opt/anaconda3/lib/python3.9/site-packages (from deepchem) (1.1.0)\r\n",
      "Requirement already satisfied: scikit-learn in /opt/anaconda3/lib/python3.9/site-packages (from deepchem) (1.0.2)\r\n",
      "Requirement already satisfied: rdkit in /opt/anaconda3/lib/python3.9/site-packages (from deepchem) (2022.9.4)\r\n",
      "Requirement already satisfied: python-dateutil>=2.8.1 in /opt/anaconda3/lib/python3.9/site-packages (from pandas->deepchem) (2.8.2)\r\n",
      "Requirement already satisfied: pytz>=2020.1 in /opt/anaconda3/lib/python3.9/site-packages (from pandas->deepchem) (2022.1)\r\n",
      "Requirement already satisfied: Pillow in /opt/anaconda3/lib/python3.9/site-packages (from rdkit->deepchem) (9.2.0)\r\n",
      "Requirement already satisfied: threadpoolctl>=2.0.0 in /opt/anaconda3/lib/python3.9/site-packages (from scikit-learn->deepchem) (2.2.0)\r\n",
      "Requirement already satisfied: six>=1.5 in /opt/anaconda3/lib/python3.9/site-packages (from python-dateutil>=2.8.1->pandas->deepchem) (1.16.0)\r\n",
      "Requirement already satisfied: seaborn in /opt/anaconda3/lib/python3.9/site-packages (0.11.2)\r\n",
      "Requirement already satisfied: pandas>=0.23 in /opt/anaconda3/lib/python3.9/site-packages (from seaborn) (1.4.4)\r\n",
      "Requirement already satisfied: matplotlib>=2.2 in /opt/anaconda3/lib/python3.9/site-packages (from seaborn) (3.5.2)\r\n",
      "Requirement already satisfied: scipy>=1.0 in /opt/anaconda3/lib/python3.9/site-packages (from seaborn) (1.8.1)\r\n",
      "Requirement already satisfied: numpy>=1.15 in /opt/anaconda3/lib/python3.9/site-packages (from seaborn) (1.21.5)\r\n",
      "Requirement already satisfied: cycler>=0.10 in /opt/anaconda3/lib/python3.9/site-packages (from matplotlib>=2.2->seaborn) (0.11.0)\r\n",
      "Requirement already satisfied: packaging>=20.0 in /opt/anaconda3/lib/python3.9/site-packages (from matplotlib>=2.2->seaborn) (21.3)\r\n",
      "Requirement already satisfied: kiwisolver>=1.0.1 in /opt/anaconda3/lib/python3.9/site-packages (from matplotlib>=2.2->seaborn) (1.4.2)\r\n",
      "Requirement already satisfied: python-dateutil>=2.7 in /opt/anaconda3/lib/python3.9/site-packages (from matplotlib>=2.2->seaborn) (2.8.2)\r\n",
      "Requirement already satisfied: pyparsing>=2.2.1 in /opt/anaconda3/lib/python3.9/site-packages (from matplotlib>=2.2->seaborn) (3.0.9)\r\n",
      "Requirement already satisfied: pillow>=6.2.0 in /opt/anaconda3/lib/python3.9/site-packages (from matplotlib>=2.2->seaborn) (9.2.0)\r\n",
      "Requirement already satisfied: fonttools>=4.22.0 in /opt/anaconda3/lib/python3.9/site-packages (from matplotlib>=2.2->seaborn) (4.25.0)\r\n",
      "Requirement already satisfied: pytz>=2020.1 in /opt/anaconda3/lib/python3.9/site-packages (from pandas>=0.23->seaborn) (2022.1)\r\n",
      "Requirement already satisfied: six>=1.5 in /opt/anaconda3/lib/python3.9/site-packages (from python-dateutil>=2.7->matplotlib>=2.2->seaborn) (1.16.0)\r\n"
     ]
    }
   ],
   "source": [
    "! pip install chembl-webresource-client\n",
    "! pip install deepchem\n",
    "! pip install seaborn"
   ],
   "metadata": {
    "collapsed": false
   }
  },
  {
   "cell_type": "markdown",
   "id": "0f63690e-2afb-4096-9462-b66f5425bcda",
   "metadata": {},
   "source": [
    "# Proyecto final Bioinformática (NLP)"
   ]
  },
  {
   "cell_type": "markdown",
   "id": "d70fde61-b8d1-4d2b-adf5-5d9670891d15",
   "metadata": {},
   "source": [
    "mirar el siguiente video. Sobre todo la primer parte como para tener contexto sobre descubrimiento de drogas:\n",
    "\n",
    "https://www.youtube.com/watch?v=jBlTQjcKuaY"
   ]
  },
  {
   "cell_type": "markdown",
   "id": "5e532b12-83cc-4a5e-9f0e-d53459b26a37",
   "metadata": {},
   "source": [
    "Resumen y puntos importantes del video:\n",
    "- Queremos entender la bioactividad de una molecúla (molecule_chembl_id) sobre una encima (Acetylcholinesterase)\n",
    "- La bioactividad se medirá en este caso con el IC50 (standard_value)\n",
    "- A menor IC50, menos droga para generar la misma actividad, es decir, mayor actividad relativa\n",
    "- La notación de la fórmula química se llama smiles (https://en.wikipedia.org/wiki/Simplified_molecular-input_line-entry_system)\n",
    "- Existen distintas técnicas para obtener features de las moléculas y en el video se describen 2:\n",
    "    - Descriptores de Lipinski\n",
    "    - Fingerprints del tipo pubchem\n",
    "- Se construye un modelo de regresión con RandomForest para estimar el pI50 (IC50 en escala logarítimica) dado los fingerprints de entrada"
   ]
  },
  {
   "cell_type": "markdown",
   "id": "1da95879-3221-4d3c-9815-2cc16d6f65b7",
   "metadata": {},
   "source": [
    "### Objetivos del proyecto:\n",
    "- Evaluar distintas alternativas de modelos de deep learning para resolver el problema\n",
    "    - LSTM\n",
    "    - CNN\n",
    "    - TextCNN\n",
    "- En vez de ingresar con los features de entrada (fingerprints) como en el video, usar técnicas de embeddings aplicadas en NLP\n",
    "    - Modo caracter dado el smiles de la fórmula química\n",
    "    - Utilizando un tokenizer sobre los smiles\n",
    "- La salida será el pIC50"
   ]
  },
  {
   "cell_type": "markdown",
   "id": "d621c55a-a01c-48c7-b6df-cf64f12b6835",
   "metadata": {},
   "source": [
    "### Librerías:\n",
    "- chembl-webresource-client: Para bajar el dataset (https://pypi.org/project/chembl-webresource-client/)\n",
    "- deepchem: libería muy interesante con muchas implementaciones de deep learning aplicadas a la química (https://github.com/deepchem/deepchem)"
   ]
  },
  {
   "cell_type": "code",
   "execution_count": 7,
   "id": "80ccdc33-30b0-4266-8703-080ad56dce22",
   "metadata": {},
   "outputs": [],
   "source": [
    "import pandas as pd\n",
    "from chembl_webresource_client.new_client import new_client"
   ]
  },
  {
   "cell_type": "markdown",
   "id": "9c5a7da0-e660-41c0-9000-e2ad86bc4a6a",
   "metadata": {},
   "source": [
    "# Cliente API\n",
    "\n",
    "En esta notebook solo se baja el dataset. No tiene que hacer nada más que ejecutarla y entenderla\n",
    "\n",
    "Librería para baja el dataset"
   ]
  },
  {
   "cell_type": "code",
   "execution_count": 8,
   "id": "996336bf-261f-47af-8fe6-4f1635acdea6",
   "metadata": {},
   "outputs": [],
   "source": [
    "target = new_client.target\n",
    "target_query = target.search('acetylcholinesterase')\n",
    "targets = pd.DataFrame.from_dict(target_query)"
   ]
  },
  {
   "cell_type": "code",
   "execution_count": 9,
   "id": "c9396382-0723-4e74-b290-8fa9b88e3daa",
   "metadata": {},
   "outputs": [
    {
     "data": {
      "text/plain": "                                    cross_references  \\\n0  [{'xref_id': 'P22303', 'xref_name': None, 'xre...   \n1                                                 []   \n2                                                 []   \n3                                                 []   \n4                                                 []   \n\n                    organism                     pref_name  score  \\\n0               Homo sapiens          Acetylcholinesterase   27.0   \n1               Homo sapiens  Cholinesterases; ACHE & BCHE   27.0   \n2    Drosophila melanogaster          Acetylcholinesterase   18.0   \n3             Bemisia tabaci                         AChE2   16.0   \n4  Leptinotarsa decemlineata          Acetylcholinesterase   16.0   \n\n   species_group_flag target_chembl_id  \\\n0               False        CHEMBL220   \n1               False    CHEMBL2095233   \n2               False    CHEMBL2242744   \n3               False    CHEMBL2366409   \n4               False    CHEMBL2366490   \n\n                                   target_components        target_type  \\\n0  [{'accession': 'P22303', 'component_descriptio...     SINGLE PROTEIN   \n1  [{'accession': 'P06276', 'component_descriptio...  SELECTIVITY GROUP   \n2  [{'accession': 'P07140', 'component_descriptio...     SINGLE PROTEIN   \n3  [{'accession': 'B3SST5', 'component_descriptio...     SINGLE PROTEIN   \n4  [{'accession': 'Q27677', 'component_descriptio...     SINGLE PROTEIN   \n\n   tax_id  \n0    9606  \n1    9606  \n2    7227  \n3    7038  \n4    7539  ",
      "text/html": "<div>\n<style scoped>\n    .dataframe tbody tr th:only-of-type {\n        vertical-align: middle;\n    }\n\n    .dataframe tbody tr th {\n        vertical-align: top;\n    }\n\n    .dataframe thead th {\n        text-align: right;\n    }\n</style>\n<table border=\"1\" class=\"dataframe\">\n  <thead>\n    <tr style=\"text-align: right;\">\n      <th></th>\n      <th>cross_references</th>\n      <th>organism</th>\n      <th>pref_name</th>\n      <th>score</th>\n      <th>species_group_flag</th>\n      <th>target_chembl_id</th>\n      <th>target_components</th>\n      <th>target_type</th>\n      <th>tax_id</th>\n    </tr>\n  </thead>\n  <tbody>\n    <tr>\n      <th>0</th>\n      <td>[{'xref_id': 'P22303', 'xref_name': None, 'xre...</td>\n      <td>Homo sapiens</td>\n      <td>Acetylcholinesterase</td>\n      <td>27.0</td>\n      <td>False</td>\n      <td>CHEMBL220</td>\n      <td>[{'accession': 'P22303', 'component_descriptio...</td>\n      <td>SINGLE PROTEIN</td>\n      <td>9606</td>\n    </tr>\n    <tr>\n      <th>1</th>\n      <td>[]</td>\n      <td>Homo sapiens</td>\n      <td>Cholinesterases; ACHE &amp; BCHE</td>\n      <td>27.0</td>\n      <td>False</td>\n      <td>CHEMBL2095233</td>\n      <td>[{'accession': 'P06276', 'component_descriptio...</td>\n      <td>SELECTIVITY GROUP</td>\n      <td>9606</td>\n    </tr>\n    <tr>\n      <th>2</th>\n      <td>[]</td>\n      <td>Drosophila melanogaster</td>\n      <td>Acetylcholinesterase</td>\n      <td>18.0</td>\n      <td>False</td>\n      <td>CHEMBL2242744</td>\n      <td>[{'accession': 'P07140', 'component_descriptio...</td>\n      <td>SINGLE PROTEIN</td>\n      <td>7227</td>\n    </tr>\n    <tr>\n      <th>3</th>\n      <td>[]</td>\n      <td>Bemisia tabaci</td>\n      <td>AChE2</td>\n      <td>16.0</td>\n      <td>False</td>\n      <td>CHEMBL2366409</td>\n      <td>[{'accession': 'B3SST5', 'component_descriptio...</td>\n      <td>SINGLE PROTEIN</td>\n      <td>7038</td>\n    </tr>\n    <tr>\n      <th>4</th>\n      <td>[]</td>\n      <td>Leptinotarsa decemlineata</td>\n      <td>Acetylcholinesterase</td>\n      <td>16.0</td>\n      <td>False</td>\n      <td>CHEMBL2366490</td>\n      <td>[{'accession': 'Q27677', 'component_descriptio...</td>\n      <td>SINGLE PROTEIN</td>\n      <td>7539</td>\n    </tr>\n  </tbody>\n</table>\n</div>"
     },
     "execution_count": 9,
     "metadata": {},
     "output_type": "execute_result"
    }
   ],
   "source": [
    "targets.head()"
   ]
  },
  {
   "cell_type": "code",
   "execution_count": 10,
   "id": "80c0c43c-b00c-4f82-b52f-1b5df6d04e59",
   "metadata": {},
   "outputs": [
    {
     "data": {
      "text/plain": "'CHEMBL220'"
     },
     "execution_count": 10,
     "metadata": {},
     "output_type": "execute_result"
    }
   ],
   "source": [
    "selected_target = targets.target_chembl_id[0]\n",
    "selected_target\n",
    "# 'CHEMBL220'"
   ]
  },
  {
   "cell_type": "code",
   "execution_count": 11,
   "id": "5f5d536c-1268-4ef5-9eff-73492f24fbec",
   "metadata": {},
   "outputs": [],
   "source": [
    "activity = new_client.activity\n",
    "res = activity.filter(target_chembl_id=selected_target).filter(standard_type=\"IC50\")"
   ]
  },
  {
   "cell_type": "markdown",
   "id": "51107422-8cb2-4b77-bab5-eb2495e1a814",
   "metadata": {},
   "source": [
    "# Bajada de data\n",
    "Puede tardar un poco dependiendo de que tan saturado este el server\n",
    "\n",
    "Por eso el for, para ver el progreso y bajar la ansiedad. Son en el orden de 7500K"
   ]
  },
  {
   "cell_type": "code",
   "execution_count": 12,
   "id": "1afbf1a9-a4c9-4aec-8255-63948e667b3c",
   "metadata": {},
   "outputs": [
    {
     "name": "stdout",
     "output_type": "stream",
     "text": [
      "8394\r"
     ]
    }
   ],
   "source": [
    "res_cols = []\n",
    "for i, r in enumerate(res):\n",
    "    print(f'{i}\\r', end='')\n",
    "    res_cols.append(r)"
   ]
  },
  {
   "cell_type": "code",
   "execution_count": 13,
   "id": "e8f48b84-3f49-42e7-9973-30e9abb55641",
   "metadata": {},
   "outputs": [],
   "source": [
    "df = pd.DataFrame(res_cols)"
   ]
  },
  {
   "cell_type": "code",
   "execution_count": 14,
   "id": "e33ba495-9f3b-4bad-9639-a4496c7e2eef",
   "metadata": {},
   "outputs": [
    {
     "data": {
      "text/plain": "     activity_comment  activity_id  \\\n0                None        33969   \n1                None        37563   \n2                None        37565   \n3                None        38902   \n4                None        41170   \n...               ...          ...   \n8390             None     23311841   \n8391   Not Determined     23311842   \n8392             None     23311843   \n8393   Not Determined     23311844   \n8394   Not Determined     23311845   \n\n                                    activity_properties assay_chembl_id  \\\n0                                                    []    CHEMBL643384   \n1                                                    []    CHEMBL643384   \n2                                                    []    CHEMBL643384   \n3                                                    []    CHEMBL643384   \n4                                                    []    CHEMBL643384   \n...                                                 ...             ...   \n8390  [{'comments': None, 'relation': '=', 'result_f...   CHEMBL4844259   \n8391  [{'comments': None, 'relation': '=', 'result_f...   CHEMBL4844259   \n8392  [{'comments': None, 'relation': '=', 'result_f...   CHEMBL4844259   \n8393  [{'comments': None, 'relation': '=', 'result_f...   CHEMBL4844259   \n8394  [{'comments': None, 'relation': '=', 'result_f...   CHEMBL4844259   \n\n                                      assay_description assay_type  \\\n0     Inhibitory concentration against acetylcholine...          B   \n1     Inhibitory concentration against acetylcholine...          B   \n2     Inhibitory concentration against acetylcholine...          B   \n3     Inhibitory concentration against acetylcholine...          B   \n4     Inhibitory concentration against acetylcholine...          B   \n...                                                 ...        ...   \n8390  Inhibition of human recombinant AChE using ace...          B   \n8391  Inhibition of human recombinant AChE using ace...          B   \n8392  Inhibition of human recombinant AChE using ace...          B   \n8393  Inhibition of human recombinant AChE using ace...          B   \n8394  Inhibition of human recombinant AChE using ace...          B   \n\n     assay_variant_accession assay_variant_mutation bao_endpoint   bao_format  \\\n0                       None                   None  BAO_0000190  BAO_0000357   \n1                       None                   None  BAO_0000190  BAO_0000357   \n2                       None                   None  BAO_0000190  BAO_0000357   \n3                       None                   None  BAO_0000190  BAO_0000357   \n4                       None                   None  BAO_0000190  BAO_0000357   \n...                      ...                    ...          ...          ...   \n8390                    None                   None  BAO_0000190  BAO_0000357   \n8391                    None                   None  BAO_0000190  BAO_0000357   \n8392                    None                   None  BAO_0000190  BAO_0000357   \n8393                    None                   None  BAO_0000190  BAO_0000357   \n8394                    None                   None  BAO_0000190  BAO_0000357   \n\n      ... target_organism      target_pref_name target_tax_id text_value  \\\n0     ...    Homo sapiens  Acetylcholinesterase          9606       None   \n1     ...    Homo sapiens  Acetylcholinesterase          9606       None   \n2     ...    Homo sapiens  Acetylcholinesterase          9606       None   \n3     ...    Homo sapiens  Acetylcholinesterase          9606       None   \n4     ...    Homo sapiens  Acetylcholinesterase          9606       None   \n...   ...             ...                   ...           ...        ...   \n8390  ...    Homo sapiens  Acetylcholinesterase          9606       None   \n8391  ...    Homo sapiens  Acetylcholinesterase          9606       None   \n8392  ...    Homo sapiens  Acetylcholinesterase          9606       None   \n8393  ...    Homo sapiens  Acetylcholinesterase          9606       None   \n8394  ...    Homo sapiens  Acetylcholinesterase          9606       None   \n\n      toid  type  units    uo_units upper_value value  \n0     None  IC50     uM  UO_0000065        None  0.75  \n1     None  IC50     uM  UO_0000065        None   0.1  \n2     None  IC50     uM  UO_0000065        None  50.0  \n3     None  IC50     uM  UO_0000065        None   0.3  \n4     None  IC50     uM  UO_0000065        None   0.8  \n...    ...   ...    ...         ...         ...   ...  \n8390  None  IC50     nM  UO_0000065        None  1.07  \n8391  None  IC50   None        None        None  None  \n8392  None  IC50     nM  UO_0000065        None  26.8  \n8393  None  IC50   None        None        None  None  \n8394  None  IC50   None        None        None  None  \n\n[8395 rows x 45 columns]",
      "text/html": "<div>\n<style scoped>\n    .dataframe tbody tr th:only-of-type {\n        vertical-align: middle;\n    }\n\n    .dataframe tbody tr th {\n        vertical-align: top;\n    }\n\n    .dataframe thead th {\n        text-align: right;\n    }\n</style>\n<table border=\"1\" class=\"dataframe\">\n  <thead>\n    <tr style=\"text-align: right;\">\n      <th></th>\n      <th>activity_comment</th>\n      <th>activity_id</th>\n      <th>activity_properties</th>\n      <th>assay_chembl_id</th>\n      <th>assay_description</th>\n      <th>assay_type</th>\n      <th>assay_variant_accession</th>\n      <th>assay_variant_mutation</th>\n      <th>bao_endpoint</th>\n      <th>bao_format</th>\n      <th>...</th>\n      <th>target_organism</th>\n      <th>target_pref_name</th>\n      <th>target_tax_id</th>\n      <th>text_value</th>\n      <th>toid</th>\n      <th>type</th>\n      <th>units</th>\n      <th>uo_units</th>\n      <th>upper_value</th>\n      <th>value</th>\n    </tr>\n  </thead>\n  <tbody>\n    <tr>\n      <th>0</th>\n      <td>None</td>\n      <td>33969</td>\n      <td>[]</td>\n      <td>CHEMBL643384</td>\n      <td>Inhibitory concentration against acetylcholine...</td>\n      <td>B</td>\n      <td>None</td>\n      <td>None</td>\n      <td>BAO_0000190</td>\n      <td>BAO_0000357</td>\n      <td>...</td>\n      <td>Homo sapiens</td>\n      <td>Acetylcholinesterase</td>\n      <td>9606</td>\n      <td>None</td>\n      <td>None</td>\n      <td>IC50</td>\n      <td>uM</td>\n      <td>UO_0000065</td>\n      <td>None</td>\n      <td>0.75</td>\n    </tr>\n    <tr>\n      <th>1</th>\n      <td>None</td>\n      <td>37563</td>\n      <td>[]</td>\n      <td>CHEMBL643384</td>\n      <td>Inhibitory concentration against acetylcholine...</td>\n      <td>B</td>\n      <td>None</td>\n      <td>None</td>\n      <td>BAO_0000190</td>\n      <td>BAO_0000357</td>\n      <td>...</td>\n      <td>Homo sapiens</td>\n      <td>Acetylcholinesterase</td>\n      <td>9606</td>\n      <td>None</td>\n      <td>None</td>\n      <td>IC50</td>\n      <td>uM</td>\n      <td>UO_0000065</td>\n      <td>None</td>\n      <td>0.1</td>\n    </tr>\n    <tr>\n      <th>2</th>\n      <td>None</td>\n      <td>37565</td>\n      <td>[]</td>\n      <td>CHEMBL643384</td>\n      <td>Inhibitory concentration against acetylcholine...</td>\n      <td>B</td>\n      <td>None</td>\n      <td>None</td>\n      <td>BAO_0000190</td>\n      <td>BAO_0000357</td>\n      <td>...</td>\n      <td>Homo sapiens</td>\n      <td>Acetylcholinesterase</td>\n      <td>9606</td>\n      <td>None</td>\n      <td>None</td>\n      <td>IC50</td>\n      <td>uM</td>\n      <td>UO_0000065</td>\n      <td>None</td>\n      <td>50.0</td>\n    </tr>\n    <tr>\n      <th>3</th>\n      <td>None</td>\n      <td>38902</td>\n      <td>[]</td>\n      <td>CHEMBL643384</td>\n      <td>Inhibitory concentration against acetylcholine...</td>\n      <td>B</td>\n      <td>None</td>\n      <td>None</td>\n      <td>BAO_0000190</td>\n      <td>BAO_0000357</td>\n      <td>...</td>\n      <td>Homo sapiens</td>\n      <td>Acetylcholinesterase</td>\n      <td>9606</td>\n      <td>None</td>\n      <td>None</td>\n      <td>IC50</td>\n      <td>uM</td>\n      <td>UO_0000065</td>\n      <td>None</td>\n      <td>0.3</td>\n    </tr>\n    <tr>\n      <th>4</th>\n      <td>None</td>\n      <td>41170</td>\n      <td>[]</td>\n      <td>CHEMBL643384</td>\n      <td>Inhibitory concentration against acetylcholine...</td>\n      <td>B</td>\n      <td>None</td>\n      <td>None</td>\n      <td>BAO_0000190</td>\n      <td>BAO_0000357</td>\n      <td>...</td>\n      <td>Homo sapiens</td>\n      <td>Acetylcholinesterase</td>\n      <td>9606</td>\n      <td>None</td>\n      <td>None</td>\n      <td>IC50</td>\n      <td>uM</td>\n      <td>UO_0000065</td>\n      <td>None</td>\n      <td>0.8</td>\n    </tr>\n    <tr>\n      <th>...</th>\n      <td>...</td>\n      <td>...</td>\n      <td>...</td>\n      <td>...</td>\n      <td>...</td>\n      <td>...</td>\n      <td>...</td>\n      <td>...</td>\n      <td>...</td>\n      <td>...</td>\n      <td>...</td>\n      <td>...</td>\n      <td>...</td>\n      <td>...</td>\n      <td>...</td>\n      <td>...</td>\n      <td>...</td>\n      <td>...</td>\n      <td>...</td>\n      <td>...</td>\n      <td>...</td>\n    </tr>\n    <tr>\n      <th>8390</th>\n      <td>None</td>\n      <td>23311841</td>\n      <td>[{'comments': None, 'relation': '=', 'result_f...</td>\n      <td>CHEMBL4844259</td>\n      <td>Inhibition of human recombinant AChE using ace...</td>\n      <td>B</td>\n      <td>None</td>\n      <td>None</td>\n      <td>BAO_0000190</td>\n      <td>BAO_0000357</td>\n      <td>...</td>\n      <td>Homo sapiens</td>\n      <td>Acetylcholinesterase</td>\n      <td>9606</td>\n      <td>None</td>\n      <td>None</td>\n      <td>IC50</td>\n      <td>nM</td>\n      <td>UO_0000065</td>\n      <td>None</td>\n      <td>1.07</td>\n    </tr>\n    <tr>\n      <th>8391</th>\n      <td>Not Determined</td>\n      <td>23311842</td>\n      <td>[{'comments': None, 'relation': '=', 'result_f...</td>\n      <td>CHEMBL4844259</td>\n      <td>Inhibition of human recombinant AChE using ace...</td>\n      <td>B</td>\n      <td>None</td>\n      <td>None</td>\n      <td>BAO_0000190</td>\n      <td>BAO_0000357</td>\n      <td>...</td>\n      <td>Homo sapiens</td>\n      <td>Acetylcholinesterase</td>\n      <td>9606</td>\n      <td>None</td>\n      <td>None</td>\n      <td>IC50</td>\n      <td>None</td>\n      <td>None</td>\n      <td>None</td>\n      <td>None</td>\n    </tr>\n    <tr>\n      <th>8392</th>\n      <td>None</td>\n      <td>23311843</td>\n      <td>[{'comments': None, 'relation': '=', 'result_f...</td>\n      <td>CHEMBL4844259</td>\n      <td>Inhibition of human recombinant AChE using ace...</td>\n      <td>B</td>\n      <td>None</td>\n      <td>None</td>\n      <td>BAO_0000190</td>\n      <td>BAO_0000357</td>\n      <td>...</td>\n      <td>Homo sapiens</td>\n      <td>Acetylcholinesterase</td>\n      <td>9606</td>\n      <td>None</td>\n      <td>None</td>\n      <td>IC50</td>\n      <td>nM</td>\n      <td>UO_0000065</td>\n      <td>None</td>\n      <td>26.8</td>\n    </tr>\n    <tr>\n      <th>8393</th>\n      <td>Not Determined</td>\n      <td>23311844</td>\n      <td>[{'comments': None, 'relation': '=', 'result_f...</td>\n      <td>CHEMBL4844259</td>\n      <td>Inhibition of human recombinant AChE using ace...</td>\n      <td>B</td>\n      <td>None</td>\n      <td>None</td>\n      <td>BAO_0000190</td>\n      <td>BAO_0000357</td>\n      <td>...</td>\n      <td>Homo sapiens</td>\n      <td>Acetylcholinesterase</td>\n      <td>9606</td>\n      <td>None</td>\n      <td>None</td>\n      <td>IC50</td>\n      <td>None</td>\n      <td>None</td>\n      <td>None</td>\n      <td>None</td>\n    </tr>\n    <tr>\n      <th>8394</th>\n      <td>Not Determined</td>\n      <td>23311845</td>\n      <td>[{'comments': None, 'relation': '=', 'result_f...</td>\n      <td>CHEMBL4844259</td>\n      <td>Inhibition of human recombinant AChE using ace...</td>\n      <td>B</td>\n      <td>None</td>\n      <td>None</td>\n      <td>BAO_0000190</td>\n      <td>BAO_0000357</td>\n      <td>...</td>\n      <td>Homo sapiens</td>\n      <td>Acetylcholinesterase</td>\n      <td>9606</td>\n      <td>None</td>\n      <td>None</td>\n      <td>IC50</td>\n      <td>None</td>\n      <td>None</td>\n      <td>None</td>\n      <td>None</td>\n    </tr>\n  </tbody>\n</table>\n<p>8395 rows × 45 columns</p>\n</div>"
     },
     "execution_count": 14,
     "metadata": {},
     "output_type": "execute_result"
    }
   ],
   "source": [
    "df"
   ]
  },
  {
   "cell_type": "markdown",
   "id": "be1247ba-95c4-4a0d-951d-f9ce7b531be4",
   "metadata": {},
   "source": [
    "# Limpio data"
   ]
  },
  {
   "cell_type": "code",
   "execution_count": 15,
   "id": "0be90440-645e-49c7-9571-eafb81238e7d",
   "metadata": {},
   "outputs": [],
   "source": [
    "df = df.dropna(subset=['standard_value', 'canonical_smiles'])\n",
    "df = df.drop_duplicates(['canonical_smiles'])"
   ]
  },
  {
   "cell_type": "code",
   "execution_count": 16,
   "id": "90e52e55-fcab-4bcd-9c57-f3f091e2b19b",
   "metadata": {},
   "outputs": [],
   "source": [
    "selection = ['molecule_chembl_id','canonical_smiles','standard_value']\n",
    "df = df[selection]"
   ]
  },
  {
   "cell_type": "code",
   "execution_count": 17,
   "id": "0b2290f4-aaf2-456a-8f8a-0a47fc61eab6",
   "metadata": {},
   "outputs": [
    {
     "data": {
      "text/plain": "     molecule_chembl_id                                   canonical_smiles  \\\n0          CHEMBL133897              CCOc1nn(-c2cccc(OCc3ccccc3)c2)c(=O)o1   \n1          CHEMBL336398         O=C(N1CCCCC1)n1nc(-c2ccc(Cl)cc2)nc1SCC1CC1   \n2          CHEMBL131588  CN(C(=O)n1nc(-c2ccc(Cl)cc2)nc1SCC(F)(F)F)c1ccccc1   \n3          CHEMBL130628      O=C(N1CCCCC1)n1nc(-c2ccc(Cl)cc2)nc1SCC(F)(F)F   \n4          CHEMBL130478          CSc1nc(-c2ccc(OC(F)(F)F)cc2)nn1C(=O)N(C)C   \n...                 ...                                                ...   \n8384      CHEMBL4859103  CC1=CC2Cc3nc4cc(Cl)ccc4c(NCCCCCCCCCNC(=O)c4cc(...   \n8385      CHEMBL4863615  CC1=CC2Cc3nc4cc(Cl)ccc4c(NCCCCCCCCC(=O)Nc4cn[n...   \n8386      CHEMBL4854913  CC1=CC2Cc3nc4cc(Cl)ccc4c(NCCCCCCCCC(=O)N4CCNC(...   \n8387      CHEMBL4848527  CC1=CC2Cc3nc4cc(Cl)ccc4c(NCCCCCCCCC(=O)NCc4cc[...   \n8388      CHEMBL4872514  COc1cc(CNC(=O)CCCCCCCCNc2c3c(nc4cc(Cl)ccc24)CC...   \n\n     standard_value  \n0             750.0  \n1             100.0  \n2           50000.0  \n3             300.0  \n4             800.0  \n...             ...  \n8384           2.57  \n8385           2.39  \n8386           0.41  \n8387           0.63  \n8388           1.25  \n\n[5824 rows x 3 columns]",
      "text/html": "<div>\n<style scoped>\n    .dataframe tbody tr th:only-of-type {\n        vertical-align: middle;\n    }\n\n    .dataframe tbody tr th {\n        vertical-align: top;\n    }\n\n    .dataframe thead th {\n        text-align: right;\n    }\n</style>\n<table border=\"1\" class=\"dataframe\">\n  <thead>\n    <tr style=\"text-align: right;\">\n      <th></th>\n      <th>molecule_chembl_id</th>\n      <th>canonical_smiles</th>\n      <th>standard_value</th>\n    </tr>\n  </thead>\n  <tbody>\n    <tr>\n      <th>0</th>\n      <td>CHEMBL133897</td>\n      <td>CCOc1nn(-c2cccc(OCc3ccccc3)c2)c(=O)o1</td>\n      <td>750.0</td>\n    </tr>\n    <tr>\n      <th>1</th>\n      <td>CHEMBL336398</td>\n      <td>O=C(N1CCCCC1)n1nc(-c2ccc(Cl)cc2)nc1SCC1CC1</td>\n      <td>100.0</td>\n    </tr>\n    <tr>\n      <th>2</th>\n      <td>CHEMBL131588</td>\n      <td>CN(C(=O)n1nc(-c2ccc(Cl)cc2)nc1SCC(F)(F)F)c1ccccc1</td>\n      <td>50000.0</td>\n    </tr>\n    <tr>\n      <th>3</th>\n      <td>CHEMBL130628</td>\n      <td>O=C(N1CCCCC1)n1nc(-c2ccc(Cl)cc2)nc1SCC(F)(F)F</td>\n      <td>300.0</td>\n    </tr>\n    <tr>\n      <th>4</th>\n      <td>CHEMBL130478</td>\n      <td>CSc1nc(-c2ccc(OC(F)(F)F)cc2)nn1C(=O)N(C)C</td>\n      <td>800.0</td>\n    </tr>\n    <tr>\n      <th>...</th>\n      <td>...</td>\n      <td>...</td>\n      <td>...</td>\n    </tr>\n    <tr>\n      <th>8384</th>\n      <td>CHEMBL4859103</td>\n      <td>CC1=CC2Cc3nc4cc(Cl)ccc4c(NCCCCCCCCCNC(=O)c4cc(...</td>\n      <td>2.57</td>\n    </tr>\n    <tr>\n      <th>8385</th>\n      <td>CHEMBL4863615</td>\n      <td>CC1=CC2Cc3nc4cc(Cl)ccc4c(NCCCCCCCCC(=O)Nc4cn[n...</td>\n      <td>2.39</td>\n    </tr>\n    <tr>\n      <th>8386</th>\n      <td>CHEMBL4854913</td>\n      <td>CC1=CC2Cc3nc4cc(Cl)ccc4c(NCCCCCCCCC(=O)N4CCNC(...</td>\n      <td>0.41</td>\n    </tr>\n    <tr>\n      <th>8387</th>\n      <td>CHEMBL4848527</td>\n      <td>CC1=CC2Cc3nc4cc(Cl)ccc4c(NCCCCCCCCC(=O)NCc4cc[...</td>\n      <td>0.63</td>\n    </tr>\n    <tr>\n      <th>8388</th>\n      <td>CHEMBL4872514</td>\n      <td>COc1cc(CNC(=O)CCCCCCCCNc2c3c(nc4cc(Cl)ccc24)CC...</td>\n      <td>1.25</td>\n    </tr>\n  </tbody>\n</table>\n<p>5824 rows × 3 columns</p>\n</div>"
     },
     "execution_count": 17,
     "metadata": {},
     "output_type": "execute_result"
    }
   ],
   "source": [
    "df"
   ]
  },
  {
   "cell_type": "markdown",
   "id": "a0e5d88c-277a-4ab2-a13b-851da0efef62",
   "metadata": {},
   "source": [
    "# Preprocesamiento y normalización"
   ]
  },
  {
   "cell_type": "code",
   "execution_count": 18,
   "id": "feaadbcf-f2c5-4deb-a67f-26c41bfd1baa",
   "metadata": {},
   "outputs": [],
   "source": [
    "import numpy as np"
   ]
  },
  {
   "cell_type": "code",
   "execution_count": 19,
   "id": "32fdc9c0-accd-4212-927c-6389be9260a9",
   "metadata": {},
   "outputs": [],
   "source": [
    "df['standard_value'] = df['standard_value'].apply(pd.to_numeric)"
   ]
  },
  {
   "cell_type": "code",
   "execution_count": 20,
   "id": "766e46cf-5e59-4a7b-806e-9a869744fbe2",
   "metadata": {},
   "outputs": [],
   "source": [
    "# En el video se hace esta normalización. No la veo del todo necesaria\n",
    "df['standard_value_norm'] = df['standard_value'].apply(lambda x: (x>1e8)*1e8 + (x<=1e8)*x)"
   ]
  },
  {
   "cell_type": "code",
   "execution_count": 21,
   "id": "e33acf0a-7260-42ec-832f-473e339df2e0",
   "metadata": {},
   "outputs": [],
   "source": [
    "df['pIC50'] = df['standard_value'].apply(lambda x: -np.log10(x*(10**-9)))"
   ]
  },
  {
   "cell_type": "code",
   "execution_count": 22,
   "id": "987515af-fb28-46f0-a752-91ff88cd0224",
   "metadata": {},
   "outputs": [
    {
     "data": {
      "text/plain": "     molecule_chembl_id                                   canonical_smiles  \\\n0          CHEMBL133897              CCOc1nn(-c2cccc(OCc3ccccc3)c2)c(=O)o1   \n1          CHEMBL336398         O=C(N1CCCCC1)n1nc(-c2ccc(Cl)cc2)nc1SCC1CC1   \n2          CHEMBL131588  CN(C(=O)n1nc(-c2ccc(Cl)cc2)nc1SCC(F)(F)F)c1ccccc1   \n3          CHEMBL130628      O=C(N1CCCCC1)n1nc(-c2ccc(Cl)cc2)nc1SCC(F)(F)F   \n4          CHEMBL130478          CSc1nc(-c2ccc(OC(F)(F)F)cc2)nn1C(=O)N(C)C   \n...                 ...                                                ...   \n8384      CHEMBL4859103  CC1=CC2Cc3nc4cc(Cl)ccc4c(NCCCCCCCCCNC(=O)c4cc(...   \n8385      CHEMBL4863615  CC1=CC2Cc3nc4cc(Cl)ccc4c(NCCCCCCCCC(=O)Nc4cn[n...   \n8386      CHEMBL4854913  CC1=CC2Cc3nc4cc(Cl)ccc4c(NCCCCCCCCC(=O)N4CCNC(...   \n8387      CHEMBL4848527  CC1=CC2Cc3nc4cc(Cl)ccc4c(NCCCCCCCCC(=O)NCc4cc[...   \n8388      CHEMBL4872514  COc1cc(CNC(=O)CCCCCCCCNc2c3c(nc4cc(Cl)ccc24)CC...   \n\n      standard_value  standard_value_norm     pIC50  \n0             750.00               750.00  6.124939  \n1             100.00               100.00  7.000000  \n2           50000.00             50000.00  4.301030  \n3             300.00               300.00  6.522879  \n4             800.00               800.00  6.096910  \n...              ...                  ...       ...  \n8384            2.57                 2.57  8.590067  \n8385            2.39                 2.39  8.621602  \n8386            0.41                 0.41  9.387216  \n8387            0.63                 0.63  9.200659  \n8388            1.25                 1.25  8.903090  \n\n[5824 rows x 5 columns]",
      "text/html": "<div>\n<style scoped>\n    .dataframe tbody tr th:only-of-type {\n        vertical-align: middle;\n    }\n\n    .dataframe tbody tr th {\n        vertical-align: top;\n    }\n\n    .dataframe thead th {\n        text-align: right;\n    }\n</style>\n<table border=\"1\" class=\"dataframe\">\n  <thead>\n    <tr style=\"text-align: right;\">\n      <th></th>\n      <th>molecule_chembl_id</th>\n      <th>canonical_smiles</th>\n      <th>standard_value</th>\n      <th>standard_value_norm</th>\n      <th>pIC50</th>\n    </tr>\n  </thead>\n  <tbody>\n    <tr>\n      <th>0</th>\n      <td>CHEMBL133897</td>\n      <td>CCOc1nn(-c2cccc(OCc3ccccc3)c2)c(=O)o1</td>\n      <td>750.00</td>\n      <td>750.00</td>\n      <td>6.124939</td>\n    </tr>\n    <tr>\n      <th>1</th>\n      <td>CHEMBL336398</td>\n      <td>O=C(N1CCCCC1)n1nc(-c2ccc(Cl)cc2)nc1SCC1CC1</td>\n      <td>100.00</td>\n      <td>100.00</td>\n      <td>7.000000</td>\n    </tr>\n    <tr>\n      <th>2</th>\n      <td>CHEMBL131588</td>\n      <td>CN(C(=O)n1nc(-c2ccc(Cl)cc2)nc1SCC(F)(F)F)c1ccccc1</td>\n      <td>50000.00</td>\n      <td>50000.00</td>\n      <td>4.301030</td>\n    </tr>\n    <tr>\n      <th>3</th>\n      <td>CHEMBL130628</td>\n      <td>O=C(N1CCCCC1)n1nc(-c2ccc(Cl)cc2)nc1SCC(F)(F)F</td>\n      <td>300.00</td>\n      <td>300.00</td>\n      <td>6.522879</td>\n    </tr>\n    <tr>\n      <th>4</th>\n      <td>CHEMBL130478</td>\n      <td>CSc1nc(-c2ccc(OC(F)(F)F)cc2)nn1C(=O)N(C)C</td>\n      <td>800.00</td>\n      <td>800.00</td>\n      <td>6.096910</td>\n    </tr>\n    <tr>\n      <th>...</th>\n      <td>...</td>\n      <td>...</td>\n      <td>...</td>\n      <td>...</td>\n      <td>...</td>\n    </tr>\n    <tr>\n      <th>8384</th>\n      <td>CHEMBL4859103</td>\n      <td>CC1=CC2Cc3nc4cc(Cl)ccc4c(NCCCCCCCCCNC(=O)c4cc(...</td>\n      <td>2.57</td>\n      <td>2.57</td>\n      <td>8.590067</td>\n    </tr>\n    <tr>\n      <th>8385</th>\n      <td>CHEMBL4863615</td>\n      <td>CC1=CC2Cc3nc4cc(Cl)ccc4c(NCCCCCCCCC(=O)Nc4cn[n...</td>\n      <td>2.39</td>\n      <td>2.39</td>\n      <td>8.621602</td>\n    </tr>\n    <tr>\n      <th>8386</th>\n      <td>CHEMBL4854913</td>\n      <td>CC1=CC2Cc3nc4cc(Cl)ccc4c(NCCCCCCCCC(=O)N4CCNC(...</td>\n      <td>0.41</td>\n      <td>0.41</td>\n      <td>9.387216</td>\n    </tr>\n    <tr>\n      <th>8387</th>\n      <td>CHEMBL4848527</td>\n      <td>CC1=CC2Cc3nc4cc(Cl)ccc4c(NCCCCCCCCC(=O)NCc4cc[...</td>\n      <td>0.63</td>\n      <td>0.63</td>\n      <td>9.200659</td>\n    </tr>\n    <tr>\n      <th>8388</th>\n      <td>CHEMBL4872514</td>\n      <td>COc1cc(CNC(=O)CCCCCCCCNc2c3c(nc4cc(Cl)ccc24)CC...</td>\n      <td>1.25</td>\n      <td>1.25</td>\n      <td>8.903090</td>\n    </tr>\n  </tbody>\n</table>\n<p>5824 rows × 5 columns</p>\n</div>"
     },
     "execution_count": 22,
     "metadata": {},
     "output_type": "execute_result"
    }
   ],
   "source": [
    "df"
   ]
  },
  {
   "cell_type": "markdown",
   "id": "09c8b053",
   "metadata": {},
   "source": [
    "# Mas analisis"
   ]
  },
  {
   "cell_type": "code",
   "execution_count": 23,
   "id": "9da17864",
   "metadata": {
    "collapsed": false,
    "jupyter": {
     "outputs_hidden": false
    }
   },
   "outputs": [
    {
     "data": {
      "text/plain": "(inf, 5462)"
     },
     "execution_count": 23,
     "metadata": {},
     "output_type": "execute_result"
    }
   ],
   "source": [
    "df['pIC50'].describe()\n",
    "df['pIC50'].max() ,df['pIC50'].argmax()"
   ]
  },
  {
   "cell_type": "code",
   "execution_count": 24,
   "id": "0df354ee",
   "metadata": {
    "collapsed": false,
    "jupyter": {
     "outputs_hidden": false
    }
   },
   "outputs": [
    {
     "data": {
      "text/plain": "0       6.124939\n1       7.000000\n2       4.301030\n3       6.522879\n4       6.096910\n          ...   \n8384    8.590067\n8385    8.621602\n8386    9.387216\n8387    9.200659\n8388    8.903090\nName: pIC50, Length: 5824, dtype: float64"
     },
     "execution_count": 24,
     "metadata": {},
     "output_type": "execute_result"
    }
   ],
   "source": [
    "df['pIC50'].isna()\n",
    "df['pIC50'].dropna()"
   ]
  },
  {
   "cell_type": "code",
   "execution_count": 25,
   "id": "d178f3b0",
   "metadata": {
    "collapsed": false,
    "jupyter": {
     "outputs_hidden": false
    }
   },
   "outputs": [
    {
     "data": {
      "text/plain": "(inf, 5462)"
     },
     "execution_count": 25,
     "metadata": {},
     "output_type": "execute_result"
    }
   ],
   "source": [
    "df['pIC50'].max() ,df['pIC50'].argmax()"
   ]
  },
  {
   "cell_type": "code",
   "execution_count": 26,
   "id": "79c8c479",
   "metadata": {
    "collapsed": false,
    "jupyter": {
     "outputs_hidden": false
    }
   },
   "outputs": [],
   "source": [
    "#borrar el que tiene infinito\n",
    "df = df.drop(df[np.isinf(df.pIC50)].index).copy()"
   ]
  },
  {
   "cell_type": "markdown",
   "id": "1658cc4f",
   "metadata": {},
   "source": [
    "# guardar archivo"
   ]
  },
  {
   "cell_type": "code",
   "execution_count": 27,
   "id": "39f45b3c",
   "metadata": {
    "collapsed": false,
    "jupyter": {
     "outputs_hidden": false
    }
   },
   "outputs": [],
   "source": [
    "! mkdir data"
   ]
  },
  {
   "cell_type": "code",
   "execution_count": 28,
   "id": "a88aed63",
   "metadata": {
    "collapsed": false,
    "jupyter": {
     "outputs_hidden": false
    }
   },
   "outputs": [],
   "source": [
    "df.to_csv('data/acetylcholinesterase_02_bioactivity_data_preprocessed.csv', index=False)"
   ]
  },
  {
   "cell_type": "code",
   "execution_count": 29,
   "id": "c20b738e-0d05-4117-9022-ada04b624550",
   "metadata": {},
   "outputs": [
    {
     "name": "stdout",
     "output_type": "stream",
     "text": [
      "date and time = 01/02/2023 20:33:05\n"
     ]
    }
   ],
   "source": [
    "from datetime import datetime\n",
    "\n",
    "# datetime object containing current date and time\n",
    "now = datetime.now()\n",
    "# dd/mm/YY H:M:S\n",
    "dt_string = now.strftime(\"%d/%m/%Y %H:%M:%S\")\n",
    "print(\"date and time =\", dt_string)"
   ]
  },
  {
   "cell_type": "code",
   "execution_count": 29,
   "id": "be7ca69e-f0f5-4a10-8f38-f3725ebf68dc",
   "metadata": {},
   "outputs": [],
   "source": []
  }
 ],
 "metadata": {
  "kernelspec": {
   "display_name": "Python 3 (ipykernel)",
   "language": "python",
   "name": "python3"
  },
  "language_info": {
   "codemirror_mode": {
    "name": "ipython",
    "version": 3
   },
   "file_extension": ".py",
   "mimetype": "text/x-python",
   "name": "python",
   "nbconvert_exporter": "python",
   "pygments_lexer": "ipython3",
   "version": "3.10.8"
  }
 },
 "nbformat": 4,
 "nbformat_minor": 5
}
