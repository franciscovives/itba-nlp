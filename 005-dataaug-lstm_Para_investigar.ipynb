{
 "cells": [
  {
   "cell_type": "markdown",
   "id": "afc92861-86dc-44ad-b27c-b5ffd044472a",
   "metadata": {},
   "source": [
    "# ¿Que más se podría hacer?"
   ]
  },
  {
   "cell_type": "markdown",
   "id": "704dd533-a652-4bbf-97b9-e2923e11d78d",
   "metadata": {},
   "source": [
    "- Test con data augmentation y la LSTM\n",
    "- Usar los tokenizadores usados en los transformers para ver como funcionan\n",
    "- TSNE de embeddings y analizar si hay interpretación\n",
    "- Probar con otras encimas o proteinas\n",
    "- Usar los embeddings entrenados para analizar resultados de proteinas o encimas con menos data\n",
    "- Entrenar una red neuronal con los features (fingerprints por ejemplo) y comparar los resultados con los embeddings\n"
   ]
  },
  {
   "cell_type": "markdown",
   "id": "2085f015-56fa-4364-958d-b7a0786372af",
   "metadata": {},
   "source": [
    "# Tome cualquiera de estas propuestas o alguna suya y desarrolle"
   ]
  },
  {
   "cell_type": "markdown",
   "id": "221d3e56",
   "metadata": {},
   "source": [
    "# Elección: TSNE de embeddings y analizar si hay interpretación"
   ]
  },
  {
   "cell_type": "markdown",
   "id": "7bcce3f6",
   "metadata": {},
   "source": [
    "## Preparacion e inicializacion"
   ]
  },
  {
   "cell_type": "code",
   "execution_count": 18,
   "id": "661bfc90",
   "metadata": {
    "collapsed": false,
    "jupyter": {
     "outputs_hidden": false
    }
   },
   "outputs": [],
   "source": [
    "import pandas as pd\n",
    "import numpy as np\n",
    "from sklearn.model_selection import train_test_split\n",
    "from tensorflow.keras import Sequential\n",
    "from tensorflow.keras.layers import Dense, Dropout, BatchNormalization, LSTM, Embedding, Bidirectional, Activation, Input, Conv1D, MaxPool1D, Concatenate, Flatten\n",
    "from tensorflow.keras.callbacks import ModelCheckpoint, EarlyStopping, ReduceLROnPlateau\n",
    "from tensorflow.keras.optimizers import Adam, RMSprop\n",
    "from tensorflow.keras import backend as K\n",
    "from datagen import smiles_dict, DataGenerator"
   ]
  },
  {
   "cell_type": "code",
   "execution_count": 2,
   "id": "2a36492b",
   "metadata": {
    "collapsed": false,
    "jupyter": {
     "outputs_hidden": false
    }
   },
   "outputs": [],
   "source": [
    "df = pd.read_csv('data/acetylcholinesterase_02_bioactivity_data_preprocessed.csv')"
   ]
  },
  {
   "cell_type": "code",
   "execution_count": 3,
   "id": "41d4e42b",
   "metadata": {
    "collapsed": false,
    "jupyter": {
     "outputs_hidden": false
    }
   },
   "outputs": [],
   "source": [
    "max_len_idx = df['canonical_smiles'].apply(len).argmax()\n",
    "min_len_idx = df['canonical_smiles'].apply(len).argmin()\n",
    "max_sequence_len = len(df['canonical_smiles'].iloc[max_len_idx]) + 20\n",
    "X = df['canonical_smiles'].values\n",
    "y = df['pIC50'].values\n",
    "vocab_size = len(smiles_dict)"
   ]
  },
  {
   "cell_type": "code",
   "execution_count": 4,
   "id": "d0875068",
   "metadata": {
    "collapsed": false,
    "jupyter": {
     "outputs_hidden": false
    }
   },
   "outputs": [],
   "source": [
    "X_train, X_test, y_train, y_test = train_test_split(X, y, test_size=0.2, random_state=42)"
   ]
  },
  {
   "cell_type": "markdown",
   "id": "6f94ee7c",
   "metadata": {},
   "source": [
    "## Genera"
   ]
  },
  {
   "cell_type": "code",
   "execution_count": 16,
   "id": "77cd2f9b",
   "metadata": {
    "collapsed": false,
    "jupyter": {
     "outputs_hidden": false
    }
   },
   "outputs": [],
   "source": [
    "dgen_train = DataGenerator(X_train, y_train, seq_length=max_sequence_len, batch_size=128, data_augmentation=True)\n",
    "\n",
    "dgen_test = DataGenerator(X_test, y_test, seq_length=max_sequence_len, batch_size=128, data_augmentation=False)"
   ]
  },
  {
   "cell_type": "code",
   "execution_count": 6,
   "id": "82e3aec4",
   "metadata": {
    "collapsed": false,
    "jupyter": {
     "outputs_hidden": false
    }
   },
   "outputs": [],
   "source": [
    "## Red"
   ]
  },
  {
   "cell_type": "code",
   "execution_count": 7,
   "id": "16a3be6f",
   "metadata": {
    "collapsed": false,
    "jupyter": {
     "outputs_hidden": false
    }
   },
   "outputs": [],
   "source": [
    "def R2(y_true, y_pred):\n",
    "    SS_res =  K.sum(K.square( y_true - y_pred ))\n",
    "    SS_tot = K.sum(K.square( y_true - K.mean(y_true) ) )\n",
    "    return ( 1 - SS_res/(SS_tot + K.epsilon()) )"
   ]
  },
  {
   "cell_type": "code",
   "execution_count": 8,
   "id": "20882c00",
   "metadata": {
    "collapsed": false,
    "jupyter": {
     "outputs_hidden": false
    }
   },
   "outputs": [],
   "source": [
    "# Hyperparametros\n",
    "learning_rate=0.01 #0.01   0.05    1e-3\n",
    "epochs = 130     #50    30\n",
    "batch_size=128     #64      32\n",
    "\n",
    "lstm = 100 #64   20\n",
    "dense_size = 512 #100 #50\n",
    "drops = 0.8   #0.4\n",
    "embeddings = 128"
   ]
  },
  {
   "cell_type": "code",
   "execution_count": 9,
   "id": "330b3edd",
   "metadata": {
    "collapsed": false,
    "jupyter": {
     "outputs_hidden": false
    }
   },
   "outputs": [
    {
     "name": "stderr",
     "output_type": "stream",
     "text": [
      "2023/02/05 10:19:31 INFO mlflow.tracking.fluent: Autologging successfully enabled for tensorflow.\n",
      "2023/02/05 10:19:32 INFO mlflow.tracking.fluent: Autologging successfully enabled for sklearn.\n"
     ]
    }
   ],
   "source": [
    "import mlflow.keras\n",
    "mlflow.autolog()\n",
    "#! mlflow ui"
   ]
  },
  {
   "cell_type": "code",
   "execution_count": 10,
   "id": "02fe901f",
   "metadata": {
    "collapsed": false,
    "jupyter": {
     "outputs_hidden": false
    }
   },
   "outputs": [
    {
     "name": "stderr",
     "output_type": "stream",
     "text": [
      "2023-02-05 10:19:32.175492: I tensorflow/core/platform/cpu_feature_guard.cc:193] This TensorFlow binary is optimized with oneAPI Deep Neural Network Library (oneDNN) to use the following CPU instructions in performance-critical operations:  AVX2 AVX512F AVX512_VNNI FMA\n",
      "To enable them in other operations, rebuild TensorFlow with the appropriate compiler flags.\n"
     ]
    },
    {
     "name": "stdout",
     "output_type": "stream",
     "text": [
      "Model: \"sequential\"\n",
      "_________________________________________________________________\n",
      " Layer (type)                Output Shape              Param #   \n",
      "=================================================================\n",
      " embedding (Embedding)       (None, 227, 128)          5504      \n",
      "                                                                 \n",
      " bidirectional (Bidirectiona  (None, 200)              183200    \n",
      " l)                                                              \n",
      "                                                                 \n",
      " dense (Dense)               (None, 512)               102912    \n",
      "                                                                 \n",
      " batch_normalization (BatchN  (None, 512)              2048      \n",
      " ormalization)                                                   \n",
      "                                                                 \n",
      " dropout (Dropout)           (None, 512)               0         \n",
      "                                                                 \n",
      " dense_1 (Dense)             (None, 512)               262656    \n",
      "                                                                 \n",
      " batch_normalization_1 (Batc  (None, 512)              2048      \n",
      " hNormalization)                                                 \n",
      "                                                                 \n",
      " dropout_1 (Dropout)         (None, 512)               0         \n",
      "                                                                 \n",
      " activation (Activation)     (None, 512)               0         \n",
      "                                                                 \n",
      " dense_2 (Dense)             (None, 1)                 513       \n",
      "                                                                 \n",
      "=================================================================\n",
      "Total params: 558,881\n",
      "Trainable params: 556,833\n",
      "Non-trainable params: 2,048\n",
      "_________________________________________________________________\n"
     ]
    }
   ],
   "source": [
    "model = Sequential()\n",
    "model.add(Embedding(vocab_size + 1, embeddings, input_length=max_sequence_len))\n",
    "model.add(Bidirectional(LSTM(lstm, return_sequences=False, return_state=False, activation='tanh')))\n",
    "model.add(Dense(dense_size))\n",
    "model.add(BatchNormalization())\n",
    "model.add(Dropout(drops))\n",
    "model.add(Dense(dense_size))\n",
    "model.add(BatchNormalization())\n",
    "model.add(Dropout(drops))\n",
    "model.add(Activation('relu'))\n",
    "model.add(Dense(1, activation='linear'))\n",
    "model.summary()"
   ]
  },
  {
   "cell_type": "code",
   "execution_count": 11,
   "id": "041b46dd",
   "metadata": {
    "collapsed": false,
    "jupyter": {
     "outputs_hidden": false
    }
   },
   "outputs": [],
   "source": [
    "model.compile(optimizer=RMSprop(learning_rate=learning_rate), loss='mse', metrics=[R2])"
   ]
  },
  {
   "cell_type": "code",
   "execution_count": 12,
   "id": "f8a3ec91",
   "metadata": {
    "collapsed": false,
    "jupyter": {
     "outputs_hidden": false
    }
   },
   "outputs": [],
   "source": [
    "# callbacks\n",
    "mcp = ModelCheckpoint('models/best_model_{epoch}', save_best_only=True, save_format=\"h5\")\n",
    "earlyStopping = EarlyStopping(monitor='val_loss', min_delta=0, patience=15, verbose=1, restore_best_weights=True)\n",
    "reduceLR = ReduceLROnPlateau(monitor ='val_loss', factor=0.2, patience=15, verbose=1, mode='auto', min_delta=0.01, cooldown=0, min_lr=1e-8)"
   ]
  },
  {
   "cell_type": "code",
   "execution_count": 13,
   "id": "e5fae4f2",
   "metadata": {
    "collapsed": false,
    "jupyter": {
     "outputs_hidden": false
    }
   },
   "outputs": [
    {
     "name": "stderr",
     "output_type": "stream",
     "text": [
      "2023/02/05 10:19:32 INFO mlflow.utils.autologging_utils: Created MLflow autologging run with ID 'd3d62469faba470f85c890567e7aa8cb', which will track hyperparameters, performance metrics, model artifacts, and lineage information for the current tensorflow workflow\n"
     ]
    },
    {
     "name": "stdout",
     "output_type": "stream",
     "text": [
      "Epoch 1/130\n",
      "37/37 [==============================] - ETA: 0s - loss: 10.0353 - R2: -2.9159"
     ]
    },
    {
     "name": "stderr",
     "output_type": "stream",
     "text": [
      "WARNING:absl:Found untraced functions such as _update_step_xla, lstm_cell_1_layer_call_fn, lstm_cell_1_layer_call_and_return_conditional_losses, lstm_cell_2_layer_call_fn, lstm_cell_2_layer_call_and_return_conditional_losses while saving (showing 5 of 5). These functions will not be directly callable after loading.\n"
     ]
    },
    {
     "name": "stdout",
     "output_type": "stream",
     "text": [
      "INFO:tensorflow:Assets written to: models/best_model_1/assets\n"
     ]
    },
    {
     "name": "stderr",
     "output_type": "stream",
     "text": [
      "INFO:tensorflow:Assets written to: models/best_model_1/assets\n"
     ]
    },
    {
     "name": "stdout",
     "output_type": "stream",
     "text": [
      "37/37 [==============================] - 38s 929ms/step - loss: 10.0353 - R2: -2.9159 - val_loss: 8.4135 - val_R2: -2.2905 - lr: 0.0100\n",
      "Epoch 2/130\n",
      "37/37 [==============================] - 26s 706ms/step - loss: 5.9044 - R2: -1.2806 - val_loss: 14.6804 - val_R2: -5.0883 - lr: 0.0100\n",
      "Epoch 3/130\n",
      "37/37 [==============================] - ETA: 0s - loss: 5.3317 - R2: -1.0909"
     ]
    },
    {
     "name": "stderr",
     "output_type": "stream",
     "text": [
      "WARNING:absl:Found untraced functions such as _update_step_xla, lstm_cell_1_layer_call_fn, lstm_cell_1_layer_call_and_return_conditional_losses, lstm_cell_2_layer_call_fn, lstm_cell_2_layer_call_and_return_conditional_losses while saving (showing 5 of 5). These functions will not be directly callable after loading.\n"
     ]
    },
    {
     "name": "stdout",
     "output_type": "stream",
     "text": [
      "INFO:tensorflow:Assets written to: models/best_model_3/assets\n"
     ]
    },
    {
     "name": "stderr",
     "output_type": "stream",
     "text": [
      "INFO:tensorflow:Assets written to: models/best_model_3/assets\n"
     ]
    },
    {
     "name": "stdout",
     "output_type": "stream",
     "text": [
      "37/37 [==============================] - 45s 1s/step - loss: 5.3317 - R2: -1.0909 - val_loss: 5.8026 - val_R2: -1.0706 - lr: 0.0100\n",
      "Epoch 4/130\n",
      "37/37 [==============================] - ETA: 0s - loss: 4.5773 - R2: -0.7869"
     ]
    },
    {
     "name": "stderr",
     "output_type": "stream",
     "text": [
      "WARNING:absl:Found untraced functions such as _update_step_xla, lstm_cell_1_layer_call_fn, lstm_cell_1_layer_call_and_return_conditional_losses, lstm_cell_2_layer_call_fn, lstm_cell_2_layer_call_and_return_conditional_losses while saving (showing 5 of 5). These functions will not be directly callable after loading.\n"
     ]
    },
    {
     "name": "stdout",
     "output_type": "stream",
     "text": [
      "INFO:tensorflow:Assets written to: models/best_model_4/assets\n"
     ]
    },
    {
     "name": "stderr",
     "output_type": "stream",
     "text": [
      "INFO:tensorflow:Assets written to: models/best_model_4/assets\n"
     ]
    },
    {
     "name": "stdout",
     "output_type": "stream",
     "text": [
      "37/37 [==============================] - 39s 1s/step - loss: 4.5773 - R2: -0.7869 - val_loss: 4.1572 - val_R2: -0.4873 - lr: 0.0100\n",
      "Epoch 5/130\n",
      "37/37 [==============================] - 29s 790ms/step - loss: 4.5602 - R2: -0.7636 - val_loss: 12.5193 - val_R2: -3.6597 - lr: 0.0100\n",
      "Epoch 6/130\n",
      "37/37 [==============================] - 32s 851ms/step - loss: 4.4555 - R2: -0.7323 - val_loss: 5.9134 - val_R2: -1.5459 - lr: 0.0100\n",
      "Epoch 7/130\n",
      "37/37 [==============================] - ETA: 0s - loss: 3.8496 - R2: -0.4691"
     ]
    },
    {
     "name": "stderr",
     "output_type": "stream",
     "text": [
      "WARNING:absl:Found untraced functions such as _update_step_xla, lstm_cell_1_layer_call_fn, lstm_cell_1_layer_call_and_return_conditional_losses, lstm_cell_2_layer_call_fn, lstm_cell_2_layer_call_and_return_conditional_losses while saving (showing 5 of 5). These functions will not be directly callable after loading.\n"
     ]
    },
    {
     "name": "stdout",
     "output_type": "stream",
     "text": [
      "INFO:tensorflow:Assets written to: models/best_model_7/assets\n"
     ]
    },
    {
     "name": "stderr",
     "output_type": "stream",
     "text": [
      "INFO:tensorflow:Assets written to: models/best_model_7/assets\n"
     ]
    },
    {
     "name": "stdout",
     "output_type": "stream",
     "text": [
      "37/37 [==============================] - 38s 1s/step - loss: 3.8496 - R2: -0.4691 - val_loss: 2.6682 - val_R2: 0.0368 - lr: 0.0100\n",
      "Epoch 8/130\n",
      "37/37 [==============================] - ETA: 0s - loss: 4.1078 - R2: -0.5949"
     ]
    },
    {
     "name": "stderr",
     "output_type": "stream",
     "text": [
      "WARNING:absl:Found untraced functions such as _update_step_xla, lstm_cell_1_layer_call_fn, lstm_cell_1_layer_call_and_return_conditional_losses, lstm_cell_2_layer_call_fn, lstm_cell_2_layer_call_and_return_conditional_losses while saving (showing 5 of 5). These functions will not be directly callable after loading.\n"
     ]
    },
    {
     "name": "stdout",
     "output_type": "stream",
     "text": [
      "INFO:tensorflow:Assets written to: models/best_model_8/assets\n"
     ]
    },
    {
     "name": "stderr",
     "output_type": "stream",
     "text": [
      "INFO:tensorflow:Assets written to: models/best_model_8/assets\n"
     ]
    },
    {
     "name": "stdout",
     "output_type": "stream",
     "text": [
      "37/37 [==============================] - 38s 1s/step - loss: 4.1078 - R2: -0.5949 - val_loss: 2.4695 - val_R2: 0.1425 - lr: 0.0100\n",
      "Epoch 9/130\n",
      "37/37 [==============================] - 29s 791ms/step - loss: 3.6510 - R2: -0.4168 - val_loss: 4.3556 - val_R2: -0.5624 - lr: 0.0100\n",
      "Epoch 10/130\n",
      "37/37 [==============================] - 31s 828ms/step - loss: 3.4867 - R2: -0.3271 - val_loss: 5.3944 - val_R2: -0.9521 - lr: 0.0100\n",
      "Epoch 11/130\n",
      "37/37 [==============================] - 30s 818ms/step - loss: 3.5966 - R2: -0.3961 - val_loss: 4.0068 - val_R2: -0.5073 - lr: 0.0100\n",
      "Epoch 12/130\n",
      "37/37 [==============================] - 31s 840ms/step - loss: 3.2457 - R2: -0.2509 - val_loss: 15.5853 - val_R2: -5.1511 - lr: 0.0100\n",
      "Epoch 13/130\n",
      "37/37 [==============================] - 31s 826ms/step - loss: 3.1103 - R2: -0.1890 - val_loss: 4.7646 - val_R2: -0.7467 - lr: 0.0100\n",
      "Epoch 14/130\n",
      "37/37 [==============================] - 31s 835ms/step - loss: 3.1458 - R2: -0.2207 - val_loss: 2.4762 - val_R2: 0.1366 - lr: 0.0100\n",
      "Epoch 15/130\n",
      "37/37 [==============================] - ETA: 0s - loss: 2.8202 - R2: -0.0744"
     ]
    },
    {
     "name": "stderr",
     "output_type": "stream",
     "text": [
      "WARNING:absl:Found untraced functions such as _update_step_xla, lstm_cell_1_layer_call_fn, lstm_cell_1_layer_call_and_return_conditional_losses, lstm_cell_2_layer_call_fn, lstm_cell_2_layer_call_and_return_conditional_losses while saving (showing 5 of 5). These functions will not be directly callable after loading.\n"
     ]
    },
    {
     "name": "stdout",
     "output_type": "stream",
     "text": [
      "INFO:tensorflow:Assets written to: models/best_model_15/assets\n"
     ]
    },
    {
     "name": "stderr",
     "output_type": "stream",
     "text": [
      "INFO:tensorflow:Assets written to: models/best_model_15/assets\n"
     ]
    },
    {
     "name": "stdout",
     "output_type": "stream",
     "text": [
      "37/37 [==============================] - 38s 1s/step - loss: 2.8202 - R2: -0.0744 - val_loss: 2.4037 - val_R2: 0.1483 - lr: 0.0100\n",
      "Epoch 16/130\n",
      "37/37 [==============================] - 30s 824ms/step - loss: 2.9256 - R2: -0.1122 - val_loss: 2.6706 - val_R2: 0.0747 - lr: 0.0100\n",
      "Epoch 17/130\n",
      "37/37 [==============================] - 31s 821ms/step - loss: 2.7674 - R2: -0.0517 - val_loss: 2.4764 - val_R2: 0.0265 - lr: 0.0100\n",
      "Epoch 18/130\n",
      "37/37 [==============================] - ETA: 0s - loss: 2.6690 - R2: -0.0122"
     ]
    },
    {
     "name": "stderr",
     "output_type": "stream",
     "text": [
      "WARNING:absl:Found untraced functions such as _update_step_xla, lstm_cell_1_layer_call_fn, lstm_cell_1_layer_call_and_return_conditional_losses, lstm_cell_2_layer_call_fn, lstm_cell_2_layer_call_and_return_conditional_losses while saving (showing 5 of 5). These functions will not be directly callable after loading.\n"
     ]
    },
    {
     "name": "stdout",
     "output_type": "stream",
     "text": [
      "INFO:tensorflow:Assets written to: models/best_model_18/assets\n"
     ]
    },
    {
     "name": "stderr",
     "output_type": "stream",
     "text": [
      "INFO:tensorflow:Assets written to: models/best_model_18/assets\n"
     ]
    },
    {
     "name": "stdout",
     "output_type": "stream",
     "text": [
      "37/37 [==============================] - 38s 1s/step - loss: 2.6690 - R2: -0.0122 - val_loss: 2.3860 - val_R2: 0.1677 - lr: 0.0100\n",
      "Epoch 19/130\n",
      "37/37 [==============================] - 31s 827ms/step - loss: 2.5856 - R2: 0.0092 - val_loss: 3.3659 - val_R2: -0.2221 - lr: 0.0100\n",
      "Epoch 20/130\n",
      "37/37 [==============================] - 30s 812ms/step - loss: 2.5395 - R2: 0.0302 - val_loss: 2.5162 - val_R2: 0.0999 - lr: 0.0100\n",
      "Epoch 21/130\n",
      "37/37 [==============================] - 30s 814ms/step - loss: 2.4151 - R2: 0.0808 - val_loss: 2.5324 - val_R2: 0.0777 - lr: 0.0100\n",
      "Epoch 22/130\n",
      "37/37 [==============================] - 30s 814ms/step - loss: 2.4429 - R2: 0.0686 - val_loss: 3.3412 - val_R2: -0.2198 - lr: 0.0100\n",
      "Epoch 23/130\n",
      "37/37 [==============================] - 31s 829ms/step - loss: 2.4152 - R2: 0.0823 - val_loss: 3.1180 - val_R2: -0.1211 - lr: 0.0100\n",
      "Epoch 24/130\n",
      "37/37 [==============================] - ETA: 0s - loss: 2.4859 - R2: 0.0549"
     ]
    },
    {
     "name": "stderr",
     "output_type": "stream",
     "text": [
      "WARNING:absl:Found untraced functions such as _update_step_xla, lstm_cell_1_layer_call_fn, lstm_cell_1_layer_call_and_return_conditional_losses, lstm_cell_2_layer_call_fn, lstm_cell_2_layer_call_and_return_conditional_losses while saving (showing 5 of 5). These functions will not be directly callable after loading.\n"
     ]
    },
    {
     "name": "stdout",
     "output_type": "stream",
     "text": [
      "INFO:tensorflow:Assets written to: models/best_model_24/assets\n"
     ]
    },
    {
     "name": "stderr",
     "output_type": "stream",
     "text": [
      "INFO:tensorflow:Assets written to: models/best_model_24/assets\n"
     ]
    },
    {
     "name": "stdout",
     "output_type": "stream",
     "text": [
      "37/37 [==============================] - 38s 1s/step - loss: 2.4859 - R2: 0.0549 - val_loss: 2.2782 - val_R2: 0.1504 - lr: 0.0100\n",
      "Epoch 25/130\n",
      "37/37 [==============================] - 30s 836ms/step - loss: 2.2820 - R2: 0.1358 - val_loss: 2.6730 - val_R2: 0.0747 - lr: 0.0100\n",
      "Epoch 26/130\n",
      "37/37 [==============================] - 30s 794ms/step - loss: 2.2749 - R2: 0.1429 - val_loss: 2.4156 - val_R2: 0.0981 - lr: 0.0100\n",
      "Epoch 27/130\n",
      "37/37 [==============================] - 30s 808ms/step - loss: 2.2284 - R2: 0.1625 - val_loss: 2.5807 - val_R2: 0.0904 - lr: 0.0100\n",
      "Epoch 28/130\n",
      "37/37 [==============================] - 30s 806ms/step - loss: 2.1335 - R2: 0.1906 - val_loss: 3.1175 - val_R2: -0.0971 - lr: 0.0100\n",
      "Epoch 29/130\n",
      "37/37 [==============================] - ETA: 0s - loss: 2.1841 - R2: 0.1696"
     ]
    },
    {
     "name": "stderr",
     "output_type": "stream",
     "text": [
      "WARNING:absl:Found untraced functions such as _update_step_xla, lstm_cell_1_layer_call_fn, lstm_cell_1_layer_call_and_return_conditional_losses, lstm_cell_2_layer_call_fn, lstm_cell_2_layer_call_and_return_conditional_losses while saving (showing 5 of 5). These functions will not be directly callable after loading.\n"
     ]
    },
    {
     "name": "stdout",
     "output_type": "stream",
     "text": [
      "INFO:tensorflow:Assets written to: models/best_model_29/assets\n"
     ]
    },
    {
     "name": "stderr",
     "output_type": "stream",
     "text": [
      "INFO:tensorflow:Assets written to: models/best_model_29/assets\n"
     ]
    },
    {
     "name": "stdout",
     "output_type": "stream",
     "text": [
      "37/37 [==============================] - 37s 1s/step - loss: 2.1841 - R2: 0.1696 - val_loss: 2.2260 - val_R2: 0.1932 - lr: 0.0100\n",
      "Epoch 30/130\n",
      "37/37 [==============================] - 29s 779ms/step - loss: 2.1149 - R2: 0.1973 - val_loss: 2.2527 - val_R2: 0.1971 - lr: 0.0100\n",
      "Epoch 31/130\n",
      "37/37 [==============================] - 30s 804ms/step - loss: 2.1087 - R2: 0.2005 - val_loss: 2.3155 - val_R2: 0.1624 - lr: 0.0100\n",
      "Epoch 32/130\n",
      "37/37 [==============================] - 30s 800ms/step - loss: 2.0990 - R2: 0.2006 - val_loss: 2.7980 - val_R2: -0.0609 - lr: 0.0100\n",
      "Epoch 33/130\n",
      "37/37 [==============================] - 29s 781ms/step - loss: 2.1296 - R2: 0.1925 - val_loss: 2.2736 - val_R2: 0.2041 - lr: 0.0100\n",
      "Epoch 34/130\n",
      "37/37 [==============================] - ETA: 0s - loss: 2.0604 - R2: 0.2210"
     ]
    },
    {
     "name": "stderr",
     "output_type": "stream",
     "text": [
      "WARNING:absl:Found untraced functions such as _update_step_xla, lstm_cell_1_layer_call_fn, lstm_cell_1_layer_call_and_return_conditional_losses, lstm_cell_2_layer_call_fn, lstm_cell_2_layer_call_and_return_conditional_losses while saving (showing 5 of 5). These functions will not be directly callable after loading.\n"
     ]
    },
    {
     "name": "stdout",
     "output_type": "stream",
     "text": [
      "INFO:tensorflow:Assets written to: models/best_model_34/assets\n"
     ]
    },
    {
     "name": "stderr",
     "output_type": "stream",
     "text": [
      "INFO:tensorflow:Assets written to: models/best_model_34/assets\n"
     ]
    },
    {
     "name": "stdout",
     "output_type": "stream",
     "text": [
      "37/37 [==============================] - 37s 1s/step - loss: 2.0604 - R2: 0.2210 - val_loss: 2.0701 - val_R2: 0.2297 - lr: 0.0100\n",
      "Epoch 35/130\n",
      "37/37 [==============================] - 28s 770ms/step - loss: 2.0569 - R2: 0.2250 - val_loss: 2.6382 - val_R2: 0.0311 - lr: 0.0100\n",
      "Epoch 36/130\n",
      "37/37 [==============================] - 31s 836ms/step - loss: 2.0907 - R2: 0.2089 - val_loss: 3.0345 - val_R2: -0.0462 - lr: 0.0100\n",
      "Epoch 37/130\n",
      "37/37 [==============================] - 29s 783ms/step - loss: 2.0151 - R2: 0.2358 - val_loss: 2.7755 - val_R2: 0.0373 - lr: 0.0100\n",
      "Epoch 38/130\n",
      "37/37 [==============================] - 31s 841ms/step - loss: 2.0167 - R2: 0.2366 - val_loss: 2.2176 - val_R2: 0.2314 - lr: 0.0100\n",
      "Epoch 39/130\n",
      "37/37 [==============================] - 32s 852ms/step - loss: 1.9645 - R2: 0.2597 - val_loss: 2.6008 - val_R2: -0.0048 - lr: 0.0100\n",
      "Epoch 40/130\n",
      "37/37 [==============================] - ETA: 0s - loss: 1.9818 - R2: 0.2471"
     ]
    },
    {
     "name": "stderr",
     "output_type": "stream",
     "text": [
      "WARNING:absl:Found untraced functions such as _update_step_xla, lstm_cell_1_layer_call_fn, lstm_cell_1_layer_call_and_return_conditional_losses, lstm_cell_2_layer_call_fn, lstm_cell_2_layer_call_and_return_conditional_losses while saving (showing 5 of 5). These functions will not be directly callable after loading.\n"
     ]
    },
    {
     "name": "stdout",
     "output_type": "stream",
     "text": [
      "INFO:tensorflow:Assets written to: models/best_model_40/assets\n"
     ]
    },
    {
     "name": "stderr",
     "output_type": "stream",
     "text": [
      "INFO:tensorflow:Assets written to: models/best_model_40/assets\n"
     ]
    },
    {
     "name": "stdout",
     "output_type": "stream",
     "text": [
      "37/37 [==============================] - 41s 1s/step - loss: 1.9818 - R2: 0.2471 - val_loss: 2.0391 - val_R2: 0.2663 - lr: 0.0100\n",
      "Epoch 41/130\n",
      "37/37 [==============================] - 31s 830ms/step - loss: 2.0719 - R2: 0.2111 - val_loss: 2.7879 - val_R2: -0.0162 - lr: 0.0100\n",
      "Epoch 42/130\n",
      "37/37 [==============================] - 31s 842ms/step - loss: 1.9285 - R2: 0.2627 - val_loss: 2.0790 - val_R2: 0.2464 - lr: 0.0100\n",
      "Epoch 43/130\n",
      "37/37 [==============================] - 29s 788ms/step - loss: 1.9366 - R2: 0.2661 - val_loss: 2.4581 - val_R2: 0.1404 - lr: 0.0100\n",
      "Epoch 44/130\n",
      "37/37 [==============================] - 29s 794ms/step - loss: 1.9545 - R2: 0.2606 - val_loss: 2.1280 - val_R2: 0.2235 - lr: 0.0100\n",
      "Epoch 45/130\n",
      "37/37 [==============================] - ETA: 0s - loss: 1.9098 - R2: 0.2742"
     ]
    },
    {
     "name": "stderr",
     "output_type": "stream",
     "text": [
      "WARNING:absl:Found untraced functions such as _update_step_xla, lstm_cell_1_layer_call_fn, lstm_cell_1_layer_call_and_return_conditional_losses, lstm_cell_2_layer_call_fn, lstm_cell_2_layer_call_and_return_conditional_losses while saving (showing 5 of 5). These functions will not be directly callable after loading.\n"
     ]
    },
    {
     "name": "stdout",
     "output_type": "stream",
     "text": [
      "INFO:tensorflow:Assets written to: models/best_model_45/assets\n"
     ]
    },
    {
     "name": "stderr",
     "output_type": "stream",
     "text": [
      "INFO:tensorflow:Assets written to: models/best_model_45/assets\n"
     ]
    },
    {
     "name": "stdout",
     "output_type": "stream",
     "text": [
      "37/37 [==============================] - 37s 993ms/step - loss: 1.9098 - R2: 0.2742 - val_loss: 1.9404 - val_R2: 0.3164 - lr: 0.0100\n",
      "Epoch 46/130\n",
      "37/37 [==============================] - 27s 754ms/step - loss: 1.8961 - R2: 0.2798 - val_loss: 2.1384 - val_R2: 0.2087 - lr: 0.0100\n",
      "Epoch 47/130\n",
      "37/37 [==============================] - 30s 798ms/step - loss: 1.9094 - R2: 0.2789 - val_loss: 2.0495 - val_R2: 0.2505 - lr: 0.0100\n",
      "Epoch 48/130\n",
      "37/37 [==============================] - 29s 780ms/step - loss: 1.8765 - R2: 0.2873 - val_loss: 2.4915 - val_R2: 0.0898 - lr: 0.0100\n",
      "Epoch 49/130\n",
      "37/37 [==============================] - 29s 773ms/step - loss: 1.9263 - R2: 0.2690 - val_loss: 2.5863 - val_R2: 0.0693 - lr: 0.0100\n",
      "Epoch 50/130\n",
      "37/37 [==============================] - 29s 775ms/step - loss: 1.9219 - R2: 0.2747 - val_loss: 2.0508 - val_R2: 0.2498 - lr: 0.0100\n",
      "Epoch 51/130\n",
      "37/37 [==============================] - 29s 784ms/step - loss: 1.8963 - R2: 0.2791 - val_loss: 2.1661 - val_R2: 0.2092 - lr: 0.0100\n",
      "Epoch 52/130\n",
      "37/37 [==============================] - 28s 764ms/step - loss: 1.8673 - R2: 0.2930 - val_loss: 2.2929 - val_R2: 0.1545 - lr: 0.0100\n",
      "Epoch 53/130\n",
      "37/37 [==============================] - 29s 774ms/step - loss: 1.8490 - R2: 0.3015 - val_loss: 1.9872 - val_R2: 0.2666 - lr: 0.0100\n",
      "Epoch 54/130\n",
      "37/37 [==============================] - 29s 779ms/step - loss: 1.8420 - R2: 0.2986 - val_loss: 1.9578 - val_R2: 0.2918 - lr: 0.0100\n",
      "Epoch 55/130\n",
      "37/37 [==============================] - ETA: 0s - loss: 1.8335 - R2: 0.3104"
     ]
    },
    {
     "name": "stderr",
     "output_type": "stream",
     "text": [
      "WARNING:absl:Found untraced functions such as _update_step_xla, lstm_cell_1_layer_call_fn, lstm_cell_1_layer_call_and_return_conditional_losses, lstm_cell_2_layer_call_fn, lstm_cell_2_layer_call_and_return_conditional_losses while saving (showing 5 of 5). These functions will not be directly callable after loading.\n"
     ]
    },
    {
     "name": "stdout",
     "output_type": "stream",
     "text": [
      "INFO:tensorflow:Assets written to: models/best_model_55/assets\n"
     ]
    },
    {
     "name": "stderr",
     "output_type": "stream",
     "text": [
      "INFO:tensorflow:Assets written to: models/best_model_55/assets\n"
     ]
    },
    {
     "name": "stdout",
     "output_type": "stream",
     "text": [
      "37/37 [==============================] - 36s 974ms/step - loss: 1.8335 - R2: 0.3104 - val_loss: 1.9265 - val_R2: 0.3241 - lr: 0.0100\n",
      "Epoch 56/130\n",
      "37/37 [==============================] - 27s 734ms/step - loss: 1.8448 - R2: 0.3015 - val_loss: 2.5112 - val_R2: 0.1199 - lr: 0.0100\n",
      "Epoch 57/130\n",
      "37/37 [==============================] - ETA: 0s - loss: 1.8008 - R2: 0.3088"
     ]
    },
    {
     "name": "stderr",
     "output_type": "stream",
     "text": [
      "WARNING:absl:Found untraced functions such as _update_step_xla, lstm_cell_1_layer_call_fn, lstm_cell_1_layer_call_and_return_conditional_losses, lstm_cell_2_layer_call_fn, lstm_cell_2_layer_call_and_return_conditional_losses while saving (showing 5 of 5). These functions will not be directly callable after loading.\n"
     ]
    },
    {
     "name": "stdout",
     "output_type": "stream",
     "text": [
      "INFO:tensorflow:Assets written to: models/best_model_57/assets\n"
     ]
    },
    {
     "name": "stderr",
     "output_type": "stream",
     "text": [
      "INFO:tensorflow:Assets written to: models/best_model_57/assets\n"
     ]
    },
    {
     "name": "stdout",
     "output_type": "stream",
     "text": [
      "37/37 [==============================] - 36s 992ms/step - loss: 1.8008 - R2: 0.3088 - val_loss: 1.9003 - val_R2: 0.3193 - lr: 0.0100\n",
      "Epoch 58/130\n",
      "37/37 [==============================] - 27s 730ms/step - loss: 1.7454 - R2: 0.3411 - val_loss: 1.9323 - val_R2: 0.3389 - lr: 0.0100\n",
      "Epoch 59/130\n",
      "37/37 [==============================] - 29s 781ms/step - loss: 1.8359 - R2: 0.3066 - val_loss: 1.9715 - val_R2: 0.2222 - lr: 0.0100\n",
      "Epoch 60/130\n",
      "37/37 [==============================] - 28s 765ms/step - loss: 1.8004 - R2: 0.3120 - val_loss: 1.9667 - val_R2: 0.2275 - lr: 0.0100\n",
      "Epoch 61/130\n",
      "37/37 [==============================] - 29s 771ms/step - loss: 1.7335 - R2: 0.3407 - val_loss: 1.9345 - val_R2: 0.3225 - lr: 0.0100\n",
      "Epoch 62/130\n",
      "37/37 [==============================] - 28s 769ms/step - loss: 1.7823 - R2: 0.3179 - val_loss: 2.2090 - val_R2: 0.1682 - lr: 0.0100\n",
      "Epoch 63/130\n",
      "37/37 [==============================] - ETA: 0s - loss: 1.7735 - R2: 0.3262"
     ]
    },
    {
     "name": "stderr",
     "output_type": "stream",
     "text": [
      "WARNING:absl:Found untraced functions such as _update_step_xla, lstm_cell_1_layer_call_fn, lstm_cell_1_layer_call_and_return_conditional_losses, lstm_cell_2_layer_call_fn, lstm_cell_2_layer_call_and_return_conditional_losses while saving (showing 5 of 5). These functions will not be directly callable after loading.\n"
     ]
    },
    {
     "name": "stdout",
     "output_type": "stream",
     "text": [
      "INFO:tensorflow:Assets written to: models/best_model_63/assets\n"
     ]
    },
    {
     "name": "stderr",
     "output_type": "stream",
     "text": [
      "INFO:tensorflow:Assets written to: models/best_model_63/assets\n"
     ]
    },
    {
     "name": "stdout",
     "output_type": "stream",
     "text": [
      "37/37 [==============================] - 35s 964ms/step - loss: 1.7735 - R2: 0.3262 - val_loss: 1.8152 - val_R2: 0.3160 - lr: 0.0100\n",
      "Epoch 64/130\n",
      "37/37 [==============================] - 27s 736ms/step - loss: 1.7633 - R2: 0.3297 - val_loss: 1.9731 - val_R2: 0.3026 - lr: 0.0100\n",
      "Epoch 65/130\n",
      "37/37 [==============================] - 29s 778ms/step - loss: 1.7214 - R2: 0.3439 - val_loss: 2.1996 - val_R2: 0.2091 - lr: 0.0100\n",
      "Epoch 66/130\n",
      "37/37 [==============================] - 29s 777ms/step - loss: 1.7274 - R2: 0.3453 - val_loss: 1.8719 - val_R2: 0.3348 - lr: 0.0100\n",
      "Epoch 67/130\n",
      "37/37 [==============================] - 28s 756ms/step - loss: 1.7298 - R2: 0.3431 - val_loss: 1.8309 - val_R2: 0.3037 - lr: 0.0100\n",
      "Epoch 68/130\n",
      "37/37 [==============================] - 28s 762ms/step - loss: 1.6795 - R2: 0.3649 - val_loss: 2.0353 - val_R2: 0.2464 - lr: 0.0100\n",
      "Epoch 69/130\n",
      "37/37 [==============================] - 28s 759ms/step - loss: 1.7031 - R2: 0.3568 - val_loss: 1.8169 - val_R2: 0.3850 - lr: 0.0100\n",
      "Epoch 70/130\n",
      "37/37 [==============================] - ETA: 0s - loss: 1.6732 - R2: 0.3663"
     ]
    },
    {
     "name": "stderr",
     "output_type": "stream",
     "text": [
      "WARNING:absl:Found untraced functions such as _update_step_xla, lstm_cell_1_layer_call_fn, lstm_cell_1_layer_call_and_return_conditional_losses, lstm_cell_2_layer_call_fn, lstm_cell_2_layer_call_and_return_conditional_losses while saving (showing 5 of 5). These functions will not be directly callable after loading.\n"
     ]
    },
    {
     "name": "stdout",
     "output_type": "stream",
     "text": [
      "INFO:tensorflow:Assets written to: models/best_model_70/assets\n"
     ]
    },
    {
     "name": "stderr",
     "output_type": "stream",
     "text": [
      "INFO:tensorflow:Assets written to: models/best_model_70/assets\n"
     ]
    },
    {
     "name": "stdout",
     "output_type": "stream",
     "text": [
      "37/37 [==============================] - 36s 979ms/step - loss: 1.6732 - R2: 0.3663 - val_loss: 1.8122 - val_R2: 0.3419 - lr: 0.0100\n",
      "Epoch 71/130\n",
      "37/37 [==============================] - 27s 731ms/step - loss: 1.6730 - R2: 0.3653 - val_loss: 1.8493 - val_R2: 0.3110 - lr: 0.0100\n",
      "Epoch 72/130\n",
      "37/37 [==============================] - 29s 782ms/step - loss: 1.6838 - R2: 0.3691 - val_loss: 1.8892 - val_R2: 0.2839 - lr: 0.0100\n",
      "Epoch 73/130\n",
      "37/37 [==============================] - 28s 760ms/step - loss: 1.6822 - R2: 0.3616 - val_loss: 1.8417 - val_R2: 0.3452 - lr: 0.0100\n",
      "Epoch 74/130\n",
      "37/37 [==============================] - ETA: 0s - loss: 1.6280 - R2: 0.3843"
     ]
    },
    {
     "name": "stderr",
     "output_type": "stream",
     "text": [
      "WARNING:absl:Found untraced functions such as _update_step_xla, lstm_cell_1_layer_call_fn, lstm_cell_1_layer_call_and_return_conditional_losses, lstm_cell_2_layer_call_fn, lstm_cell_2_layer_call_and_return_conditional_losses while saving (showing 5 of 5). These functions will not be directly callable after loading.\n"
     ]
    },
    {
     "name": "stdout",
     "output_type": "stream",
     "text": [
      "INFO:tensorflow:Assets written to: models/best_model_74/assets\n"
     ]
    },
    {
     "name": "stderr",
     "output_type": "stream",
     "text": [
      "INFO:tensorflow:Assets written to: models/best_model_74/assets\n"
     ]
    },
    {
     "name": "stdout",
     "output_type": "stream",
     "text": [
      "37/37 [==============================] - 37s 1s/step - loss: 1.6280 - R2: 0.3843 - val_loss: 1.6926 - val_R2: 0.3753 - lr: 0.0100\n",
      "Epoch 75/130\n",
      "37/37 [==============================] - ETA: 0s - loss: 1.6664 - R2: 0.3630"
     ]
    },
    {
     "name": "stderr",
     "output_type": "stream",
     "text": [
      "WARNING:absl:Found untraced functions such as _update_step_xla, lstm_cell_1_layer_call_fn, lstm_cell_1_layer_call_and_return_conditional_losses, lstm_cell_2_layer_call_fn, lstm_cell_2_layer_call_and_return_conditional_losses while saving (showing 5 of 5). These functions will not be directly callable after loading.\n"
     ]
    },
    {
     "name": "stdout",
     "output_type": "stream",
     "text": [
      "INFO:tensorflow:Assets written to: models/best_model_75/assets\n"
     ]
    },
    {
     "name": "stderr",
     "output_type": "stream",
     "text": [
      "INFO:tensorflow:Assets written to: models/best_model_75/assets\n"
     ]
    },
    {
     "name": "stdout",
     "output_type": "stream",
     "text": [
      "37/37 [==============================] - 34s 933ms/step - loss: 1.6664 - R2: 0.3630 - val_loss: 1.6505 - val_R2: 0.4022 - lr: 0.0100\n",
      "Epoch 76/130\n",
      "37/37 [==============================] - 27s 738ms/step - loss: 1.6276 - R2: 0.3794 - val_loss: 1.6775 - val_R2: 0.3927 - lr: 0.0100\n",
      "Epoch 77/130\n",
      "37/37 [==============================] - 28s 770ms/step - loss: 1.5959 - R2: 0.3962 - val_loss: 1.6984 - val_R2: 0.3627 - lr: 0.0100\n",
      "Epoch 78/130\n",
      "37/37 [==============================] - ETA: 0s - loss: 1.6460 - R2: 0.3773"
     ]
    },
    {
     "name": "stderr",
     "output_type": "stream",
     "text": [
      "WARNING:absl:Found untraced functions such as _update_step_xla, lstm_cell_1_layer_call_fn, lstm_cell_1_layer_call_and_return_conditional_losses, lstm_cell_2_layer_call_fn, lstm_cell_2_layer_call_and_return_conditional_losses while saving (showing 5 of 5). These functions will not be directly callable after loading.\n"
     ]
    },
    {
     "name": "stdout",
     "output_type": "stream",
     "text": [
      "INFO:tensorflow:Assets written to: models/best_model_78/assets\n"
     ]
    },
    {
     "name": "stderr",
     "output_type": "stream",
     "text": [
      "INFO:tensorflow:Assets written to: models/best_model_78/assets\n"
     ]
    },
    {
     "name": "stdout",
     "output_type": "stream",
     "text": [
      "37/37 [==============================] - 36s 967ms/step - loss: 1.6460 - R2: 0.3773 - val_loss: 1.6398 - val_R2: 0.4230 - lr: 0.0100\n",
      "Epoch 79/130\n",
      "37/37 [==============================] - ETA: 0s - loss: 1.5885 - R2: 0.3970"
     ]
    },
    {
     "name": "stderr",
     "output_type": "stream",
     "text": [
      "WARNING:absl:Found untraced functions such as _update_step_xla, lstm_cell_1_layer_call_fn, lstm_cell_1_layer_call_and_return_conditional_losses, lstm_cell_2_layer_call_fn, lstm_cell_2_layer_call_and_return_conditional_losses while saving (showing 5 of 5). These functions will not be directly callable after loading.\n"
     ]
    },
    {
     "name": "stdout",
     "output_type": "stream",
     "text": [
      "INFO:tensorflow:Assets written to: models/best_model_79/assets\n"
     ]
    },
    {
     "name": "stderr",
     "output_type": "stream",
     "text": [
      "INFO:tensorflow:Assets written to: models/best_model_79/assets\n"
     ]
    },
    {
     "name": "stdout",
     "output_type": "stream",
     "text": [
      "37/37 [==============================] - 34s 933ms/step - loss: 1.5885 - R2: 0.3970 - val_loss: 1.6187 - val_R2: 0.4204 - lr: 0.0100\n",
      "Epoch 80/130\n",
      "37/37 [==============================] - 27s 737ms/step - loss: 1.6093 - R2: 0.3891 - val_loss: 1.9338 - val_R2: 0.1767 - lr: 0.0100\n",
      "Epoch 81/130\n",
      "37/37 [==============================] - 28s 765ms/step - loss: 1.6056 - R2: 0.3905 - val_loss: 1.7177 - val_R2: 0.3788 - lr: 0.0100\n",
      "Epoch 82/130\n",
      "37/37 [==============================] - ETA: 0s - loss: 1.5942 - R2: 0.3915"
     ]
    },
    {
     "name": "stderr",
     "output_type": "stream",
     "text": [
      "WARNING:absl:Found untraced functions such as _update_step_xla, lstm_cell_1_layer_call_fn, lstm_cell_1_layer_call_and_return_conditional_losses, lstm_cell_2_layer_call_fn, lstm_cell_2_layer_call_and_return_conditional_losses while saving (showing 5 of 5). These functions will not be directly callable after loading.\n"
     ]
    },
    {
     "name": "stdout",
     "output_type": "stream",
     "text": [
      "INFO:tensorflow:Assets written to: models/best_model_82/assets\n"
     ]
    },
    {
     "name": "stderr",
     "output_type": "stream",
     "text": [
      "INFO:tensorflow:Assets written to: models/best_model_82/assets\n"
     ]
    },
    {
     "name": "stdout",
     "output_type": "stream",
     "text": [
      "37/37 [==============================] - 35s 962ms/step - loss: 1.5942 - R2: 0.3915 - val_loss: 1.5893 - val_R2: 0.4626 - lr: 0.0100\n",
      "Epoch 83/130\n",
      "37/37 [==============================] - 28s 749ms/step - loss: 1.5440 - R2: 0.4103 - val_loss: 1.6854 - val_R2: 0.3657 - lr: 0.0100\n",
      "Epoch 84/130\n",
      "37/37 [==============================] - 31s 851ms/step - loss: 1.5891 - R2: 0.3941 - val_loss: 1.5924 - val_R2: 0.3918 - lr: 0.0100\n",
      "Epoch 85/130\n",
      "37/37 [==============================] - 30s 824ms/step - loss: 1.5772 - R2: 0.3991 - val_loss: 1.8261 - val_R2: 0.3456 - lr: 0.0100\n",
      "Epoch 86/130\n",
      "37/37 [==============================] - 30s 820ms/step - loss: 1.5609 - R2: 0.4008 - val_loss: 1.7376 - val_R2: 0.3431 - lr: 0.0100\n",
      "Epoch 87/130\n",
      "37/37 [==============================] - ETA: 0s - loss: 1.5181 - R2: 0.4206"
     ]
    },
    {
     "name": "stderr",
     "output_type": "stream",
     "text": [
      "WARNING:absl:Found untraced functions such as _update_step_xla, lstm_cell_1_layer_call_fn, lstm_cell_1_layer_call_and_return_conditional_losses, lstm_cell_2_layer_call_fn, lstm_cell_2_layer_call_and_return_conditional_losses while saving (showing 5 of 5). These functions will not be directly callable after loading.\n"
     ]
    },
    {
     "name": "stdout",
     "output_type": "stream",
     "text": [
      "INFO:tensorflow:Assets written to: models/best_model_87/assets\n"
     ]
    },
    {
     "name": "stderr",
     "output_type": "stream",
     "text": [
      "INFO:tensorflow:Assets written to: models/best_model_87/assets\n"
     ]
    },
    {
     "name": "stdout",
     "output_type": "stream",
     "text": [
      "37/37 [==============================] - 39s 1s/step - loss: 1.5181 - R2: 0.4206 - val_loss: 1.5309 - val_R2: 0.4185 - lr: 0.0100\n",
      "Epoch 88/130\n",
      "37/37 [==============================] - 29s 777ms/step - loss: 1.5050 - R2: 0.4268 - val_loss: 1.8044 - val_R2: 0.2768 - lr: 0.0100\n",
      "Epoch 89/130\n",
      "37/37 [==============================] - ETA: 0s - loss: 1.5314 - R2: 0.4169"
     ]
    },
    {
     "name": "stderr",
     "output_type": "stream",
     "text": [
      "WARNING:absl:Found untraced functions such as _update_step_xla, lstm_cell_1_layer_call_fn, lstm_cell_1_layer_call_and_return_conditional_losses, lstm_cell_2_layer_call_fn, lstm_cell_2_layer_call_and_return_conditional_losses while saving (showing 5 of 5). These functions will not be directly callable after loading.\n"
     ]
    },
    {
     "name": "stdout",
     "output_type": "stream",
     "text": [
      "INFO:tensorflow:Assets written to: models/best_model_89/assets\n"
     ]
    },
    {
     "name": "stderr",
     "output_type": "stream",
     "text": [
      "INFO:tensorflow:Assets written to: models/best_model_89/assets\n"
     ]
    },
    {
     "name": "stdout",
     "output_type": "stream",
     "text": [
      "37/37 [==============================] - 37s 1s/step - loss: 1.5314 - R2: 0.4169 - val_loss: 1.4498 - val_R2: 0.4732 - lr: 0.0100\n",
      "Epoch 90/130\n",
      "37/37 [==============================] - 36s 965ms/step - loss: 1.5837 - R2: 0.3966 - val_loss: 1.4670 - val_R2: 0.3814 - lr: 0.0100\n",
      "Epoch 91/130\n",
      "37/37 [==============================] - 33s 886ms/step - loss: 1.5282 - R2: 0.4174 - val_loss: 1.6510 - val_R2: 0.4137 - lr: 0.0100\n",
      "Epoch 92/130\n",
      "37/37 [==============================] - 31s 837ms/step - loss: 1.5561 - R2: 0.4068 - val_loss: 1.6221 - val_R2: 0.4297 - lr: 0.0100\n",
      "Epoch 93/130\n",
      "37/37 [==============================] - 30s 811ms/step - loss: 1.4984 - R2: 0.4242 - val_loss: 1.4757 - val_R2: 0.4803 - lr: 0.0100\n",
      "Epoch 94/130\n",
      "37/37 [==============================] - 32s 869ms/step - loss: 1.5070 - R2: 0.4285 - val_loss: 1.4883 - val_R2: 0.4465 - lr: 0.0100\n",
      "Epoch 95/130\n",
      "37/37 [==============================] - 31s 841ms/step - loss: 1.4725 - R2: 0.4384 - val_loss: 1.4951 - val_R2: 0.4490 - lr: 0.0100\n",
      "Epoch 96/130\n",
      "37/37 [==============================] - 31s 832ms/step - loss: 1.4818 - R2: 0.4241 - val_loss: 2.0198 - val_R2: 0.1840 - lr: 0.0100\n",
      "Epoch 97/130\n",
      "37/37 [==============================] - 29s 782ms/step - loss: 1.5065 - R2: 0.4246 - val_loss: 1.4718 - val_R2: 0.4792 - lr: 0.0100\n",
      "Epoch 98/130\n",
      "37/37 [==============================] - ETA: 0s - loss: 1.4924 - R2: 0.4327"
     ]
    },
    {
     "name": "stderr",
     "output_type": "stream",
     "text": [
      "WARNING:absl:Found untraced functions such as _update_step_xla, lstm_cell_1_layer_call_fn, lstm_cell_1_layer_call_and_return_conditional_losses, lstm_cell_2_layer_call_fn, lstm_cell_2_layer_call_and_return_conditional_losses while saving (showing 5 of 5). These functions will not be directly callable after loading.\n"
     ]
    },
    {
     "name": "stdout",
     "output_type": "stream",
     "text": [
      "INFO:tensorflow:Assets written to: models/best_model_98/assets\n"
     ]
    },
    {
     "name": "stderr",
     "output_type": "stream",
     "text": [
      "INFO:tensorflow:Assets written to: models/best_model_98/assets\n"
     ]
    },
    {
     "name": "stdout",
     "output_type": "stream",
     "text": [
      "37/37 [==============================] - 37s 994ms/step - loss: 1.4924 - R2: 0.4327 - val_loss: 1.4275 - val_R2: 0.4459 - lr: 0.0100\n",
      "Epoch 99/130\n",
      "37/37 [==============================] - 27s 735ms/step - loss: 1.4884 - R2: 0.4331 - val_loss: 1.4342 - val_R2: 0.4921 - lr: 0.0100\n",
      "Epoch 100/130\n",
      "37/37 [==============================] - 29s 781ms/step - loss: 1.4755 - R2: 0.4368 - val_loss: 1.9483 - val_R2: 0.1946 - lr: 0.0100\n",
      "Epoch 101/130\n",
      "37/37 [==============================] - 29s 771ms/step - loss: 1.4580 - R2: 0.4436 - val_loss: 1.6026 - val_R2: 0.4342 - lr: 0.0100\n",
      "Epoch 102/130\n",
      "37/37 [==============================] - 29s 770ms/step - loss: 1.4114 - R2: 0.4619 - val_loss: 1.5601 - val_R2: 0.4046 - lr: 0.0100\n",
      "Epoch 103/130\n",
      "37/37 [==============================] - 28s 760ms/step - loss: 1.4267 - R2: 0.4557 - val_loss: 1.4652 - val_R2: 0.4933 - lr: 0.0100\n",
      "Epoch 104/130\n",
      "37/37 [==============================] - 28s 746ms/step - loss: 1.4199 - R2: 0.4572 - val_loss: 1.5941 - val_R2: 0.4434 - lr: 0.0100\n",
      "Epoch 105/130\n",
      "37/37 [==============================] - 29s 787ms/step - loss: 1.4035 - R2: 0.4648 - val_loss: 1.5101 - val_R2: 0.4217 - lr: 0.0100\n",
      "Epoch 106/130\n",
      "37/37 [==============================] - 28s 764ms/step - loss: 1.4551 - R2: 0.4402 - val_loss: 1.4324 - val_R2: 0.4757 - lr: 0.0100\n",
      "Epoch 107/130\n",
      "37/37 [==============================] - ETA: 0s - loss: 1.4035 - R2: 0.4672"
     ]
    },
    {
     "name": "stderr",
     "output_type": "stream",
     "text": [
      "WARNING:absl:Found untraced functions such as _update_step_xla, lstm_cell_1_layer_call_fn, lstm_cell_1_layer_call_and_return_conditional_losses, lstm_cell_2_layer_call_fn, lstm_cell_2_layer_call_and_return_conditional_losses while saving (showing 5 of 5). These functions will not be directly callable after loading.\n"
     ]
    },
    {
     "name": "stdout",
     "output_type": "stream",
     "text": [
      "INFO:tensorflow:Assets written to: models/best_model_107/assets\n"
     ]
    },
    {
     "name": "stderr",
     "output_type": "stream",
     "text": [
      "INFO:tensorflow:Assets written to: models/best_model_107/assets\n"
     ]
    },
    {
     "name": "stdout",
     "output_type": "stream",
     "text": [
      "37/37 [==============================] - 35s 954ms/step - loss: 1.4035 - R2: 0.4672 - val_loss: 1.3073 - val_R2: 0.5211 - lr: 0.0100\n",
      "Epoch 108/130\n",
      "37/37 [==============================] - 27s 736ms/step - loss: 1.3548 - R2: 0.4862 - val_loss: 1.3919 - val_R2: 0.4850 - lr: 0.0100\n",
      "Epoch 109/130\n",
      "37/37 [==============================] - 29s 777ms/step - loss: 1.3800 - R2: 0.4656 - val_loss: 1.4096 - val_R2: 0.4826 - lr: 0.0100\n",
      "Epoch 110/130\n",
      "37/37 [==============================] - 28s 760ms/step - loss: 1.3756 - R2: 0.4739 - val_loss: 1.5866 - val_R2: 0.4232 - lr: 0.0100\n",
      "Epoch 111/130\n",
      "37/37 [==============================] - 27s 734ms/step - loss: 1.3658 - R2: 0.4706 - val_loss: 1.5975 - val_R2: 0.4262 - lr: 0.0100\n",
      "Epoch 112/130\n",
      "37/37 [==============================] - 28s 747ms/step - loss: 1.4003 - R2: 0.4708 - val_loss: 1.4177 - val_R2: 0.4492 - lr: 0.0100\n",
      "Epoch 113/130\n",
      "37/37 [==============================] - 28s 760ms/step - loss: 1.3421 - R2: 0.4906 - val_loss: 1.3708 - val_R2: 0.4997 - lr: 0.0100\n",
      "Epoch 114/130\n",
      "37/37 [==============================] - 28s 744ms/step - loss: 1.3198 - R2: 0.4945 - val_loss: 1.6415 - val_R2: 0.4035 - lr: 0.0100\n",
      "Epoch 115/130\n",
      "37/37 [==============================] - 28s 744ms/step - loss: 1.3604 - R2: 0.4750 - val_loss: 1.5220 - val_R2: 0.4466 - lr: 0.0100\n",
      "Epoch 116/130\n",
      "37/37 [==============================] - 28s 768ms/step - loss: 1.3552 - R2: 0.4833 - val_loss: 1.3996 - val_R2: 0.4866 - lr: 0.0100\n",
      "Epoch 117/130\n",
      "37/37 [==============================] - 28s 747ms/step - loss: 1.3975 - R2: 0.4710 - val_loss: 1.5397 - val_R2: 0.4366 - lr: 0.0100\n",
      "Epoch 118/130\n",
      "37/37 [==============================] - 27s 734ms/step - loss: 1.4069 - R2: 0.4592 - val_loss: 1.7793 - val_R2: 0.3831 - lr: 0.0100\n",
      "Epoch 119/130\n",
      "37/37 [==============================] - 28s 751ms/step - loss: 1.3586 - R2: 0.4811 - val_loss: 1.3664 - val_R2: 0.4891 - lr: 0.0100\n",
      "Epoch 120/130\n",
      "37/37 [==============================] - 28s 746ms/step - loss: 1.2939 - R2: 0.5148 - val_loss: 1.4469 - val_R2: 0.5007 - lr: 0.0100\n",
      "Epoch 121/130\n",
      "37/37 [==============================] - ETA: 0s - loss: 1.3067 - R2: 0.5051"
     ]
    },
    {
     "name": "stderr",
     "output_type": "stream",
     "text": [
      "WARNING:absl:Found untraced functions such as _update_step_xla, lstm_cell_1_layer_call_fn, lstm_cell_1_layer_call_and_return_conditional_losses, lstm_cell_2_layer_call_fn, lstm_cell_2_layer_call_and_return_conditional_losses while saving (showing 5 of 5). These functions will not be directly callable after loading.\n"
     ]
    },
    {
     "name": "stdout",
     "output_type": "stream",
     "text": [
      "INFO:tensorflow:Assets written to: models/best_model_121/assets\n"
     ]
    },
    {
     "name": "stderr",
     "output_type": "stream",
     "text": [
      "INFO:tensorflow:Assets written to: models/best_model_121/assets\n"
     ]
    },
    {
     "name": "stdout",
     "output_type": "stream",
     "text": [
      "37/37 [==============================] - 35s 958ms/step - loss: 1.3067 - R2: 0.5051 - val_loss: 1.3015 - val_R2: 0.5221 - lr: 0.0100\n",
      "Epoch 122/130\n",
      "37/37 [==============================] - ETA: 0s - loss: 1.3429 - R2: 0.4893\n",
      "Epoch 122: ReduceLROnPlateau reducing learning rate to 0.0019999999552965165.\n",
      "37/37 [==============================] - 27s 730ms/step - loss: 1.3429 - R2: 0.4893 - val_loss: 1.3736 - val_R2: 0.4687 - lr: 0.0100\n",
      "Epoch 123/130\n",
      "37/37 [==============================] - ETA: 0s - loss: 1.2120 - R2: 0.5407"
     ]
    },
    {
     "name": "stderr",
     "output_type": "stream",
     "text": [
      "WARNING:absl:Found untraced functions such as _update_step_xla, lstm_cell_1_layer_call_fn, lstm_cell_1_layer_call_and_return_conditional_losses, lstm_cell_2_layer_call_fn, lstm_cell_2_layer_call_and_return_conditional_losses while saving (showing 5 of 5). These functions will not be directly callable after loading.\n"
     ]
    },
    {
     "name": "stdout",
     "output_type": "stream",
     "text": [
      "INFO:tensorflow:Assets written to: models/best_model_123/assets\n"
     ]
    },
    {
     "name": "stderr",
     "output_type": "stream",
     "text": [
      "INFO:tensorflow:Assets written to: models/best_model_123/assets\n"
     ]
    },
    {
     "name": "stdout",
     "output_type": "stream",
     "text": [
      "37/37 [==============================] - 37s 994ms/step - loss: 1.2120 - R2: 0.5407 - val_loss: 1.2598 - val_R2: 0.5080 - lr: 0.0020\n",
      "Epoch 124/130\n",
      "37/37 [==============================] - ETA: 0s - loss: 1.1944 - R2: 0.5281"
     ]
    },
    {
     "name": "stderr",
     "output_type": "stream",
     "text": [
      "WARNING:absl:Found untraced functions such as _update_step_xla, lstm_cell_1_layer_call_fn, lstm_cell_1_layer_call_and_return_conditional_losses, lstm_cell_2_layer_call_fn, lstm_cell_2_layer_call_and_return_conditional_losses while saving (showing 5 of 5). These functions will not be directly callable after loading.\n"
     ]
    },
    {
     "name": "stdout",
     "output_type": "stream",
     "text": [
      "INFO:tensorflow:Assets written to: models/best_model_124/assets\n"
     ]
    },
    {
     "name": "stderr",
     "output_type": "stream",
     "text": [
      "INFO:tensorflow:Assets written to: models/best_model_124/assets\n"
     ]
    },
    {
     "name": "stdout",
     "output_type": "stream",
     "text": [
      "37/37 [==============================] - 35s 939ms/step - loss: 1.1944 - R2: 0.5281 - val_loss: 1.2111 - val_R2: 0.5677 - lr: 0.0020\n",
      "Epoch 125/130\n",
      "37/37 [==============================] - 27s 738ms/step - loss: 1.1491 - R2: 0.5618 - val_loss: 1.2364 - val_R2: 0.5128 - lr: 0.0020\n",
      "Epoch 126/130\n",
      "37/37 [==============================] - ETA: 0s - loss: 1.2058 - R2: 0.5362"
     ]
    },
    {
     "name": "stderr",
     "output_type": "stream",
     "text": [
      "WARNING:absl:Found untraced functions such as _update_step_xla, lstm_cell_1_layer_call_fn, lstm_cell_1_layer_call_and_return_conditional_losses, lstm_cell_2_layer_call_fn, lstm_cell_2_layer_call_and_return_conditional_losses while saving (showing 5 of 5). These functions will not be directly callable after loading.\n"
     ]
    },
    {
     "name": "stdout",
     "output_type": "stream",
     "text": [
      "INFO:tensorflow:Assets written to: models/best_model_126/assets\n"
     ]
    },
    {
     "name": "stderr",
     "output_type": "stream",
     "text": [
      "INFO:tensorflow:Assets written to: models/best_model_126/assets\n"
     ]
    },
    {
     "name": "stdout",
     "output_type": "stream",
     "text": [
      "37/37 [==============================] - 36s 983ms/step - loss: 1.2058 - R2: 0.5362 - val_loss: 1.1899 - val_R2: 0.5483 - lr: 0.0020\n",
      "Epoch 127/130\n",
      "37/37 [==============================] - ETA: 0s - loss: 1.1256 - R2: 0.5682"
     ]
    },
    {
     "name": "stderr",
     "output_type": "stream",
     "text": [
      "WARNING:absl:Found untraced functions such as _update_step_xla, lstm_cell_1_layer_call_fn, lstm_cell_1_layer_call_and_return_conditional_losses, lstm_cell_2_layer_call_fn, lstm_cell_2_layer_call_and_return_conditional_losses while saving (showing 5 of 5). These functions will not be directly callable after loading.\n"
     ]
    },
    {
     "name": "stdout",
     "output_type": "stream",
     "text": [
      "INFO:tensorflow:Assets written to: models/best_model_127/assets\n"
     ]
    },
    {
     "name": "stderr",
     "output_type": "stream",
     "text": [
      "INFO:tensorflow:Assets written to: models/best_model_127/assets\n"
     ]
    },
    {
     "name": "stdout",
     "output_type": "stream",
     "text": [
      "37/37 [==============================] - 35s 944ms/step - loss: 1.1256 - R2: 0.5682 - val_loss: 1.1745 - val_R2: 0.5560 - lr: 0.0020\n",
      "Epoch 128/130\n",
      "37/37 [==============================] - ETA: 0s - loss: 1.1175 - R2: 0.5692"
     ]
    },
    {
     "name": "stderr",
     "output_type": "stream",
     "text": [
      "WARNING:absl:Found untraced functions such as _update_step_xla, lstm_cell_1_layer_call_fn, lstm_cell_1_layer_call_and_return_conditional_losses, lstm_cell_2_layer_call_fn, lstm_cell_2_layer_call_and_return_conditional_losses while saving (showing 5 of 5). These functions will not be directly callable after loading.\n"
     ]
    },
    {
     "name": "stdout",
     "output_type": "stream",
     "text": [
      "INFO:tensorflow:Assets written to: models/best_model_128/assets\n"
     ]
    },
    {
     "name": "stderr",
     "output_type": "stream",
     "text": [
      "INFO:tensorflow:Assets written to: models/best_model_128/assets\n"
     ]
    },
    {
     "name": "stdout",
     "output_type": "stream",
     "text": [
      "37/37 [==============================] - 34s 933ms/step - loss: 1.1175 - R2: 0.5692 - val_loss: 1.1695 - val_R2: 0.5672 - lr: 0.0020\n",
      "Epoch 129/130\n",
      "37/37 [==============================] - ETA: 0s - loss: 1.0918 - R2: 0.5845"
     ]
    },
    {
     "name": "stderr",
     "output_type": "stream",
     "text": [
      "WARNING:absl:Found untraced functions such as _update_step_xla, lstm_cell_1_layer_call_fn, lstm_cell_1_layer_call_and_return_conditional_losses, lstm_cell_2_layer_call_fn, lstm_cell_2_layer_call_and_return_conditional_losses while saving (showing 5 of 5). These functions will not be directly callable after loading.\n"
     ]
    },
    {
     "name": "stdout",
     "output_type": "stream",
     "text": [
      "INFO:tensorflow:Assets written to: models/best_model_129/assets\n"
     ]
    },
    {
     "name": "stderr",
     "output_type": "stream",
     "text": [
      "INFO:tensorflow:Assets written to: models/best_model_129/assets\n"
     ]
    },
    {
     "name": "stdout",
     "output_type": "stream",
     "text": [
      "37/37 [==============================] - 34s 934ms/step - loss: 1.0918 - R2: 0.5845 - val_loss: 1.1607 - val_R2: 0.5489 - lr: 0.0020\n",
      "Epoch 130/130\n",
      "37/37 [==============================] - ETA: 0s - loss: 1.1151 - R2: 0.5737"
     ]
    },
    {
     "name": "stderr",
     "output_type": "stream",
     "text": [
      "WARNING:absl:Found untraced functions such as _update_step_xla, lstm_cell_1_layer_call_fn, lstm_cell_1_layer_call_and_return_conditional_losses, lstm_cell_2_layer_call_fn, lstm_cell_2_layer_call_and_return_conditional_losses while saving (showing 5 of 5). These functions will not be directly callable after loading.\n"
     ]
    },
    {
     "name": "stdout",
     "output_type": "stream",
     "text": [
      "INFO:tensorflow:Assets written to: models/best_model_130/assets\n"
     ]
    },
    {
     "name": "stderr",
     "output_type": "stream",
     "text": [
      "INFO:tensorflow:Assets written to: models/best_model_130/assets\n"
     ]
    },
    {
     "name": "stdout",
     "output_type": "stream",
     "text": [
      "37/37 [==============================] - 35s 944ms/step - loss: 1.1151 - R2: 0.5737 - val_loss: 1.1504 - val_R2: 0.5902 - lr: 0.0020\n"
     ]
    },
    {
     "name": "stderr",
     "output_type": "stream",
     "text": [
      "2023/02/05 11:26:53 WARNING mlflow.tensorflow: Failed to infer model signature: could not sample data to infer model signature: unsupported operand type(s) for *: 'slice' and 'int'\n",
      "2023/02/05 11:26:53 WARNING mlflow.tensorflow: You are saving a TensorFlow Core model or Keras model without a signature. Inference with mlflow.pyfunc.spark_udf() will not work unless the model's pyfunc representation accepts pandas DataFrames as inference inputs.\n",
      "WARNING:absl:Found untraced functions such as _update_step_xla, lstm_cell_1_layer_call_fn, lstm_cell_1_layer_call_and_return_conditional_losses, lstm_cell_2_layer_call_fn, lstm_cell_2_layer_call_and_return_conditional_losses while saving (showing 5 of 5). These functions will not be directly callable after loading.\n"
     ]
    },
    {
     "name": "stdout",
     "output_type": "stream",
     "text": [
      "INFO:tensorflow:Assets written to: /var/folders/cc/hfx_w22x28j8f0l38h8ww1zc0000gn/T/tmp9x6p1hsg/model/data/model/assets\n"
     ]
    },
    {
     "name": "stderr",
     "output_type": "stream",
     "text": [
      "INFO:tensorflow:Assets written to: /var/folders/cc/hfx_w22x28j8f0l38h8ww1zc0000gn/T/tmp9x6p1hsg/model/data/model/assets\n",
      "2023/02/05 11:27:06 WARNING mlflow.utils.environment: Encountered an unexpected error while inferring pip requirements (model URI: /var/folders/cc/hfx_w22x28j8f0l38h8ww1zc0000gn/T/tmp9x6p1hsg/model, flavor: tensorflow), fall back to return ['tensorflow==2.11.0']. Set logging level to DEBUG to see the full traceback.\n",
      "2023/02/05 11:27:06 WARNING mlflow.utils.autologging_utils: MLflow autologging encountered a warning: \"/opt/anaconda3/lib/python3.9/site-packages/_distutils_hack/__init__.py:33: UserWarning: Setuptools is replacing distutils.\"\n"
     ]
    },
    {
     "name": "stdout",
     "output_type": "stream",
     "text": [
      "CPU times: user 3h 27min 40s, sys: 2h 23min 28s, total: 5h 51min 8s\n",
      "Wall time: 1h 7min 34s\n"
     ]
    }
   ],
   "source": [
    "%%time\n",
    "history = model.fit(dgen_train, epochs=epochs, batch_size=batch_size, validation_data=augm_test, callbacks=[mcp, reduceLR])"
   ]
  },
  {
   "cell_type": "code",
   "execution_count": 19,
   "id": "2743ef9d",
   "metadata": {
    "collapsed": false,
    "jupyter": {
     "outputs_hidden": false
    }
   },
   "outputs": [
    {
     "name": "stdout",
     "output_type": "stream",
     "text": [
      "37/37 [==============================] - 2s 45ms/step\n"
     ]
    }
   ],
   "source": [
    "X_test_eval = []\n",
    "y_t_eval = []\n",
    "for X_t, y_t in dgen_test:\n",
    "    X_test_eval = X_test_eval + [list(t) for t in X_t]\n",
    "    y_t_eval = y_t_eval + list(y_t)\n",
    "X_test_eval = np.array(X_test_eval)\n",
    "y_test = np.array(y_t_eval)\n",
    "\n",
    "y_pred = model.predict(X_test_eval)"
   ]
  },
  {
   "cell_type": "code",
   "execution_count": 21,
   "id": "0d56fce5",
   "metadata": {
    "collapsed": false,
    "jupyter": {
     "outputs_hidden": false
    }
   },
   "outputs": [
    {
     "data": {
      "text/plain": [
       "0.5898812204959437"
      ]
     },
     "execution_count": 21,
     "metadata": {},
     "output_type": "execute_result"
    }
   ],
   "source": [
    "r2 = 1 - ((y_test - y_pred.reshape(-1)) ** 2).sum() / ((y_test - y_test.mean()) ** 2).sum()\n",
    "r2"
   ]
  },
  {
   "cell_type": "code",
   "execution_count": 22,
   "id": "de02ca06",
   "metadata": {
    "collapsed": false,
    "jupyter": {
     "outputs_hidden": false
    }
   },
   "outputs": [],
   "source": [
    "model.save('005/lstm_augment.h5', )"
   ]
  },
  {
   "cell_type": "markdown",
   "id": "e91445ae-195d-4774-8bd1-eae851b4de66",
   "metadata": {
    "jupyter": {
     "outputs_hidden": false
    }
   },
   "source": [
    "# Conclusion\n",
    "No mejoró, le llevó mas iteraciones llegar a valores de R2 similares, la loss fue más alta."
   ]
  },
  {
   "cell_type": "code",
   "execution_count": 23,
   "id": "f742128c",
   "metadata": {
    "collapsed": false,
    "jupyter": {
     "outputs_hidden": false
    }
   },
   "outputs": [
    {
     "name": "stdout",
     "output_type": "stream",
     "text": [
      "date and time = 05/02/2023 11:54:06\n"
     ]
    }
   ],
   "source": [
    "from datetime import datetime\n",
    "\n",
    "# datetime object containing current date and time\n",
    "now = datetime.now()\n",
    "# dd/mm/YY H:M:S\n",
    "dt_string = now.strftime(\"%d/%m/%Y %H:%M:%S\")\n",
    "print(\"date and time =\", dt_string)"
   ]
  },
  {
   "cell_type": "code",
   "execution_count": null,
   "id": "acdec79f-b580-4591-9898-dc8f115a144f",
   "metadata": {},
   "outputs": [],
   "source": []
  }
 ],
 "metadata": {
  "kernelspec": {
   "display_name": "Python 3 (ipykernel)",
   "language": "python",
   "name": "python3"
  },
  "language_info": {
   "codemirror_mode": {
    "name": "ipython",
    "version": 3
   },
   "file_extension": ".py",
   "mimetype": "text/x-python",
   "name": "python",
   "nbconvert_exporter": "python",
   "pygments_lexer": "ipython3",
   "version": "3.9.13"
  }
 },
 "nbformat": 4,
 "nbformat_minor": 5
}
