{
 "cells": [
  {
   "cell_type": "code",
   "execution_count": 48,
   "id": "21bee0a3-79a7-43b2-9ac2-15cad5630e22",
   "metadata": {},
   "outputs": [],
   "source": [
    "import pandas as pd\n",
    "import numpy as np"
   ]
  },
  {
   "cell_type": "code",
   "execution_count": 49,
   "id": "353a2d75-f0f4-4563-9842-c68d77118161",
   "metadata": {},
   "outputs": [],
   "source": [
    "df = pd.read_csv('data/acetylcholinesterase_02_bioactivity_data_preprocessed.csv')"
   ]
  },
  {
   "cell_type": "code",
   "execution_count": 50,
   "id": "d1554fa5-d9ee-456c-be20-80571e319fc6",
   "metadata": {},
   "outputs": [
    {
     "data": {
      "text/html": [
       "<div>\n",
       "<style scoped>\n",
       "    .dataframe tbody tr th:only-of-type {\n",
       "        vertical-align: middle;\n",
       "    }\n",
       "\n",
       "    .dataframe tbody tr th {\n",
       "        vertical-align: top;\n",
       "    }\n",
       "\n",
       "    .dataframe thead th {\n",
       "        text-align: right;\n",
       "    }\n",
       "</style>\n",
       "<table border=\"1\" class=\"dataframe\">\n",
       "  <thead>\n",
       "    <tr style=\"text-align: right;\">\n",
       "      <th></th>\n",
       "      <th>molecule_chembl_id</th>\n",
       "      <th>canonical_smiles</th>\n",
       "      <th>standard_value</th>\n",
       "      <th>standard_value_norm</th>\n",
       "      <th>pIC50</th>\n",
       "    </tr>\n",
       "  </thead>\n",
       "  <tbody>\n",
       "    <tr>\n",
       "      <th>0</th>\n",
       "      <td>CHEMBL133897</td>\n",
       "      <td>CCOc1nn(-c2cccc(OCc3ccccc3)c2)c(=O)o1</td>\n",
       "      <td>750.00</td>\n",
       "      <td>750.00</td>\n",
       "      <td>6.124939</td>\n",
       "    </tr>\n",
       "    <tr>\n",
       "      <th>1</th>\n",
       "      <td>CHEMBL336398</td>\n",
       "      <td>O=C(N1CCCCC1)n1nc(-c2ccc(Cl)cc2)nc1SCC1CC1</td>\n",
       "      <td>100.00</td>\n",
       "      <td>100.00</td>\n",
       "      <td>7.000000</td>\n",
       "    </tr>\n",
       "    <tr>\n",
       "      <th>2</th>\n",
       "      <td>CHEMBL131588</td>\n",
       "      <td>CN(C(=O)n1nc(-c2ccc(Cl)cc2)nc1SCC(F)(F)F)c1ccccc1</td>\n",
       "      <td>50000.00</td>\n",
       "      <td>50000.00</td>\n",
       "      <td>4.301030</td>\n",
       "    </tr>\n",
       "    <tr>\n",
       "      <th>3</th>\n",
       "      <td>CHEMBL130628</td>\n",
       "      <td>O=C(N1CCCCC1)n1nc(-c2ccc(Cl)cc2)nc1SCC(F)(F)F</td>\n",
       "      <td>300.00</td>\n",
       "      <td>300.00</td>\n",
       "      <td>6.522879</td>\n",
       "    </tr>\n",
       "    <tr>\n",
       "      <th>4</th>\n",
       "      <td>CHEMBL130478</td>\n",
       "      <td>CSc1nc(-c2ccc(OC(F)(F)F)cc2)nn1C(=O)N(C)C</td>\n",
       "      <td>800.00</td>\n",
       "      <td>800.00</td>\n",
       "      <td>6.096910</td>\n",
       "    </tr>\n",
       "    <tr>\n",
       "      <th>...</th>\n",
       "      <td>...</td>\n",
       "      <td>...</td>\n",
       "      <td>...</td>\n",
       "      <td>...</td>\n",
       "      <td>...</td>\n",
       "    </tr>\n",
       "    <tr>\n",
       "      <th>5818</th>\n",
       "      <td>CHEMBL4859103</td>\n",
       "      <td>CC1=CC2Cc3nc4cc(Cl)ccc4c(NCCCCCCCCCNC(=O)c4cc(...</td>\n",
       "      <td>2.57</td>\n",
       "      <td>2.57</td>\n",
       "      <td>8.590067</td>\n",
       "    </tr>\n",
       "    <tr>\n",
       "      <th>5819</th>\n",
       "      <td>CHEMBL4863615</td>\n",
       "      <td>CC1=CC2Cc3nc4cc(Cl)ccc4c(NCCCCCCCCC(=O)Nc4cn[n...</td>\n",
       "      <td>2.39</td>\n",
       "      <td>2.39</td>\n",
       "      <td>8.621602</td>\n",
       "    </tr>\n",
       "    <tr>\n",
       "      <th>5820</th>\n",
       "      <td>CHEMBL4854913</td>\n",
       "      <td>CC1=CC2Cc3nc4cc(Cl)ccc4c(NCCCCCCCCC(=O)N4CCNC(...</td>\n",
       "      <td>0.41</td>\n",
       "      <td>0.41</td>\n",
       "      <td>9.387216</td>\n",
       "    </tr>\n",
       "    <tr>\n",
       "      <th>5821</th>\n",
       "      <td>CHEMBL4848527</td>\n",
       "      <td>CC1=CC2Cc3nc4cc(Cl)ccc4c(NCCCCCCCCC(=O)NCc4cc[...</td>\n",
       "      <td>0.63</td>\n",
       "      <td>0.63</td>\n",
       "      <td>9.200659</td>\n",
       "    </tr>\n",
       "    <tr>\n",
       "      <th>5822</th>\n",
       "      <td>CHEMBL4872514</td>\n",
       "      <td>COc1cc(CNC(=O)CCCCCCCCNc2c3c(nc4cc(Cl)ccc24)CC...</td>\n",
       "      <td>1.25</td>\n",
       "      <td>1.25</td>\n",
       "      <td>8.903090</td>\n",
       "    </tr>\n",
       "  </tbody>\n",
       "</table>\n",
       "<p>5823 rows × 5 columns</p>\n",
       "</div>"
      ],
      "text/plain": [
       "     molecule_chembl_id                                   canonical_smiles  \\\n",
       "0          CHEMBL133897              CCOc1nn(-c2cccc(OCc3ccccc3)c2)c(=O)o1   \n",
       "1          CHEMBL336398         O=C(N1CCCCC1)n1nc(-c2ccc(Cl)cc2)nc1SCC1CC1   \n",
       "2          CHEMBL131588  CN(C(=O)n1nc(-c2ccc(Cl)cc2)nc1SCC(F)(F)F)c1ccccc1   \n",
       "3          CHEMBL130628      O=C(N1CCCCC1)n1nc(-c2ccc(Cl)cc2)nc1SCC(F)(F)F   \n",
       "4          CHEMBL130478          CSc1nc(-c2ccc(OC(F)(F)F)cc2)nn1C(=O)N(C)C   \n",
       "...                 ...                                                ...   \n",
       "5818      CHEMBL4859103  CC1=CC2Cc3nc4cc(Cl)ccc4c(NCCCCCCCCCNC(=O)c4cc(...   \n",
       "5819      CHEMBL4863615  CC1=CC2Cc3nc4cc(Cl)ccc4c(NCCCCCCCCC(=O)Nc4cn[n...   \n",
       "5820      CHEMBL4854913  CC1=CC2Cc3nc4cc(Cl)ccc4c(NCCCCCCCCC(=O)N4CCNC(...   \n",
       "5821      CHEMBL4848527  CC1=CC2Cc3nc4cc(Cl)ccc4c(NCCCCCCCCC(=O)NCc4cc[...   \n",
       "5822      CHEMBL4872514  COc1cc(CNC(=O)CCCCCCCCNc2c3c(nc4cc(Cl)ccc24)CC...   \n",
       "\n",
       "      standard_value  standard_value_norm     pIC50  \n",
       "0             750.00               750.00  6.124939  \n",
       "1             100.00               100.00  7.000000  \n",
       "2           50000.00             50000.00  4.301030  \n",
       "3             300.00               300.00  6.522879  \n",
       "4             800.00               800.00  6.096910  \n",
       "...              ...                  ...       ...  \n",
       "5818            2.57                 2.57  8.590067  \n",
       "5819            2.39                 2.39  8.621602  \n",
       "5820            0.41                 0.41  9.387216  \n",
       "5821            0.63                 0.63  9.200659  \n",
       "5822            1.25                 1.25  8.903090  \n",
       "\n",
       "[5823 rows x 5 columns]"
      ]
     },
     "execution_count": 50,
     "metadata": {},
     "output_type": "execute_result"
    }
   ],
   "source": [
    "df"
   ]
  },
  {
   "cell_type": "markdown",
   "id": "2985df76-23b9-45a8-83ed-ce8ae510219f",
   "metadata": {},
   "source": [
    "# Canonical_smiles To secuence"
   ]
  },
  {
   "cell_type": "code",
   "execution_count": 51,
   "id": "f1127332",
   "metadata": {
    "collapsed": false,
    "jupyter": {
     "outputs_hidden": false
    }
   },
   "outputs": [
    {
     "name": "stderr",
     "output_type": "stream",
     "text": [
      "2023/02/04 13:58:10 INFO mlflow.tracking.fluent: Autologging successfully enabled for tensorflow.\n",
      "2023/02/04 13:58:10 INFO mlflow.tracking.fluent: Autologging successfully enabled for sklearn.\n",
      "2023/02/04 13:58:10 INFO mlflow.tracking.fluent: Autologging successfully enabled for statsmodels.\n"
     ]
    }
   ],
   "source": [
    "import mlflow.keras\n",
    "mlflow.autolog()\n",
    "#! mlflow ui"
   ]
  },
  {
   "cell_type": "code",
   "execution_count": 52,
   "id": "aa6c327b",
   "metadata": {
    "collapsed": false,
    "jupyter": {
     "outputs_hidden": false
    }
   },
   "outputs": [],
   "source": [
    "# Hyperparametros\n",
    "test_size=0.2\n",
    "padding_type = 'pre'   #post"
   ]
  },
  {
   "cell_type": "code",
   "execution_count": 53,
   "id": "50c67290",
   "metadata": {
    "collapsed": false,
    "jupyter": {
     "outputs_hidden": false
    }
   },
   "outputs": [],
   "source": [
    "from tensorflow.keras.preprocessing.text import Tokenizer\n",
    "from tensorflow.keras.preprocessing.sequence import pad_sequences"
   ]
  },
  {
   "cell_type": "code",
   "execution_count": 54,
   "id": "807c2cc6",
   "metadata": {
    "collapsed": false,
    "jupyter": {
     "outputs_hidden": false
    }
   },
   "outputs": [
    {
     "data": {
      "text/plain": [
       "(2929, 595)"
      ]
     },
     "execution_count": 54,
     "metadata": {},
     "output_type": "execute_result"
    }
   ],
   "source": [
    "max_len_idx = df['canonical_smiles'].apply(len).argmax()\n",
    "min_len_idx = df['canonical_smiles'].apply(len).argmin()\n",
    "max_len_idx, min_len_idx #(2930, 595)"
   ]
  },
  {
   "cell_type": "code",
   "execution_count": 55,
   "id": "a234f3e0",
   "metadata": {
    "collapsed": false,
    "jupyter": {
     "outputs_hidden": false
    }
   },
   "outputs": [
    {
     "data": {
      "text/plain": [
       "(14.30102999566398, -6.77)"
      ]
     },
     "execution_count": 55,
     "metadata": {},
     "output_type": "execute_result"
    }
   ],
   "source": [
    "X = df['canonical_smiles']\n",
    "y = df['pIC50']\n",
    "\n",
    "max(y), min(y)\n",
    "#(18.0, -6.77)"
   ]
  },
  {
   "cell_type": "code",
   "execution_count": 56,
   "id": "f60be72a",
   "metadata": {
    "collapsed": false,
    "jupyter": {
     "outputs_hidden": false
    }
   },
   "outputs": [
    {
     "data": {
      "text/plain": [
       "{'c': 1,\n",
       " 'C': 2,\n",
       " '(': 3,\n",
       " ')': 4,\n",
       " '1': 5,\n",
       " 'O': 6,\n",
       " '2': 7,\n",
       " 'N': 8,\n",
       " '=': 9,\n",
       " '3': 10,\n",
       " '[': 11,\n",
       " ']': 12,\n",
       " 'n': 13,\n",
       " '@': 14,\n",
       " '4': 15,\n",
       " 'H': 16,\n",
       " '-': 17,\n",
       " '/': 18,\n",
       " 'l': 19,\n",
       " '.': 20,\n",
       " '+': 21,\n",
       " 'F': 22,\n",
       " '5': 23,\n",
       " 'o': 24,\n",
       " 'B': 25,\n",
       " 'r': 26,\n",
       " 'S': 27,\n",
       " '\\\\': 28,\n",
       " '#': 29,\n",
       " 's': 30,\n",
       " '6': 31,\n",
       " 'I': 32,\n",
       " 'e': 33,\n",
       " 'P': 34,\n",
       " '7': 35,\n",
       " '8': 36,\n",
       " 'i': 37,\n",
       " 'a': 38}"
      ]
     },
     "execution_count": 56,
     "metadata": {},
     "output_type": "execute_result"
    }
   ],
   "source": [
    "tk = Tokenizer(char_level=True, lower=False)\n",
    "tk.fit_on_texts(X)\n",
    "tk.word_index"
   ]
  },
  {
   "cell_type": "code",
   "execution_count": 57,
   "id": "2e6b26b9",
   "metadata": {
    "collapsed": false,
    "jupyter": {
     "outputs_hidden": false
    }
   },
   "outputs": [],
   "source": [
    "X_seq = tk.texts_to_sequences(X)\n",
    "max_len = max([len(x) for x in X_seq])\n",
    "X_seq_pad = pad_sequences(X_seq, padding=padding_type, maxlen=max_len)"
   ]
  },
  {
   "cell_type": "code",
   "execution_count": 58,
   "id": "f7480095",
   "metadata": {
    "collapsed": false,
    "jupyter": {
     "outputs_hidden": false
    }
   },
   "outputs": [
    {
     "data": {
      "text/plain": [
       "array([ 2, 11,  2, 14, 14, 12,  5,  7,  2,  2, 11,  2, 14, 16, 12, 10, 11,\n",
       "        2, 14, 12, 15,  3,  2,  4,  2,  2,  2, 11,  2, 14, 14, 12, 23,  3,\n",
       "        2,  4,  2,  3,  9,  6,  4,  6,  2,  2, 11,  8, 21, 12,  3,  2,  4,\n",
       "        3,  2,  4,  2,  2,  2,  2,  2,  2,  2,  2,  2, 11,  8, 21, 12,  3,\n",
       "        2,  4,  3,  2,  4,  2,  2,  6,  2,  3,  9,  6,  4, 11,  2, 14, 12,\n",
       "       31,  3,  2,  4,  2,  2,  2, 11,  2, 14, 12, 35,  3,  2,  4, 11,  2,\n",
       "       14, 14, 16, 12, 31,  2,  2, 11,  2, 14, 14, 12, 31, 36,  2, 11,  2,\n",
       "       14, 14, 16, 12,  3,  6,  2,  3,  9,  6,  4,  2,  2,  2,  2,  2,  2,\n",
       "        2,  2,  2,  3,  9,  6,  4,  6, 11,  2, 14, 14, 16, 12,  5,  2, 11,\n",
       "        2, 14, 14, 12, 10,  3,  2,  2, 11,  2, 14, 14, 16, 12, 15, 23,  4,\n",
       "        2,  7,  4, 11,  2, 14, 14, 12,  3,  2,  4,  3,  2,  2, 11,  2, 14,\n",
       "       14, 16, 12, 35, 31,  4,  2, 36, 20, 11, 25, 26, 17, 12, 20, 11, 25,\n",
       "       26, 17, 12], dtype=int32)"
      ]
     },
     "execution_count": 58,
     "metadata": {},
     "output_type": "execute_result"
    }
   ],
   "source": [
    "X_seq_pad[max_len_idx]"
   ]
  },
  {
   "cell_type": "code",
   "execution_count": 59,
   "id": "951cf9f4",
   "metadata": {
    "collapsed": false,
    "jupyter": {
     "outputs_hidden": false
    }
   },
   "outputs": [
    {
     "data": {
      "text/plain": [
       "array([0, 0, 0, 0, 0, 0, 0, 0, 0, 0, 0, 0, 0, 0, 0, 0, 0, 0, 0, 0, 0, 0,\n",
       "       0, 0, 0, 0, 0, 0, 0, 0, 0, 0, 0, 0, 0, 0, 0, 0, 0, 0, 0, 0, 0, 0,\n",
       "       0, 0, 0, 0, 0, 0, 0, 0, 0, 0, 0, 0, 0, 0, 0, 0, 0, 0, 0, 0, 0, 0,\n",
       "       0, 0, 0, 0, 0, 0, 0, 0, 0, 0, 0, 0, 0, 0, 0, 0, 0, 0, 0, 0, 0, 0,\n",
       "       0, 0, 0, 0, 0, 0, 0, 0, 0, 0, 0, 0, 0, 0, 0, 0, 0, 0, 0, 0, 0, 0,\n",
       "       0, 0, 0, 0, 0, 0, 0, 0, 0, 0, 0, 0, 0, 0, 0, 0, 0, 0, 0, 0, 0, 0,\n",
       "       0, 0, 0, 0, 0, 0, 0, 0, 0, 0, 0, 0, 0, 0, 0, 0, 0, 0, 0, 0, 0, 0,\n",
       "       0, 0, 0, 0, 0, 0, 0, 0, 0, 0, 0, 0, 0, 0, 0, 0, 0, 0, 0, 0, 0, 0,\n",
       "       0, 0, 0, 0, 0, 0, 0, 0, 0, 0, 0, 0, 0, 0, 0, 0, 0, 0, 0, 0, 0, 0,\n",
       "       0, 0, 8, 2, 3, 9, 6, 4, 6], dtype=int32)"
      ]
     },
     "execution_count": 59,
     "metadata": {},
     "output_type": "execute_result"
    }
   ],
   "source": [
    "X_seq_pad[min_len_idx]"
   ]
  },
  {
   "cell_type": "markdown",
   "id": "d5e7225f",
   "metadata": {},
   "source": [
    "# Split"
   ]
  },
  {
   "cell_type": "code",
   "execution_count": 60,
   "id": "ce7a95e6-2486-42fb-97fb-865e3fd6a561",
   "metadata": {},
   "outputs": [],
   "source": [
    "from sklearn.model_selection import train_test_split"
   ]
  },
  {
   "cell_type": "code",
   "execution_count": 61,
   "id": "fcb9840f-2f41-45be-99a5-f05f3ab73ed8",
   "metadata": {},
   "outputs": [],
   "source": [
    "X_train, X_test, y_train, y_test = train_test_split(X_seq_pad, y, test_size=test_size, random_state=42)"
   ]
  },
  {
   "cell_type": "code",
   "execution_count": 62,
   "id": "4ad17134-3e15-42d1-b8c9-0c793169e145",
   "metadata": {},
   "outputs": [
    {
     "data": {
      "text/plain": [
       "(4658, 4658, 1165)"
      ]
     },
     "execution_count": 62,
     "metadata": {},
     "output_type": "execute_result"
    }
   ],
   "source": [
    "len(X_train), len(y_train), len(X_test)"
   ]
  },
  {
   "cell_type": "code",
   "execution_count": 63,
   "id": "ed6ce7b4",
   "metadata": {
    "collapsed": false,
    "jupyter": {
     "outputs_hidden": false
    }
   },
   "outputs": [
    {
     "data": {
      "text/plain": [
       "array([[ 0,  0,  0, ...,  5,  6,  2],\n",
       "       [ 0,  0,  0, ...,  2,  2,  5],\n",
       "       [ 0,  0,  0, ..., 26, 17, 12],\n",
       "       ...,\n",
       "       [ 0,  0,  0, ...,  1,  1,  5],\n",
       "       [ 0,  0,  0, ...,  4,  6,  7],\n",
       "       [ 0,  0,  0, ...,  4, 24,  5]], dtype=int32)"
      ]
     },
     "execution_count": 63,
     "metadata": {},
     "output_type": "execute_result"
    }
   ],
   "source": [
    "X_train"
   ]
  },
  {
   "cell_type": "code",
   "execution_count": 64,
   "id": "81693ba6",
   "metadata": {
    "collapsed": false,
    "jupyter": {
     "outputs_hidden": false
    }
   },
   "outputs": [
    {
     "data": {
      "text/plain": [
       "array([[ 2,  6,  5, ...,  0,  0,  0],\n",
       "       [ 5,  2,  2, ...,  0,  0,  0],\n",
       "       [12, 17, 26, ...,  0,  0,  0],\n",
       "       ...,\n",
       "       [ 5,  1,  1, ...,  0,  0,  0],\n",
       "       [ 7,  6,  4, ...,  0,  0,  0],\n",
       "       [ 5, 24,  4, ...,  0,  0,  0]], dtype=int32)"
      ]
     },
     "execution_count": 64,
     "metadata": {},
     "output_type": "execute_result"
    }
   ],
   "source": [
    "X_train[:, ::-1]"
   ]
  },
  {
   "cell_type": "markdown",
   "id": "547d87a7-98e3-442e-9f7b-2c4d9d6600de",
   "metadata": {},
   "source": [
    "# Data augmentation (Optional)"
   ]
  },
  {
   "cell_type": "code",
   "execution_count": 65,
   "id": "5ddd8741-95b9-4853-b5af-a7ad0d9f92c2",
   "metadata": {},
   "outputs": [],
   "source": [
    "X_train = np.vstack([X_train, X_train[:, ::-1]])"
   ]
  },
  {
   "cell_type": "code",
   "execution_count": 66,
   "id": "40594f07-9dee-4b22-8e67-99783778485e",
   "metadata": {},
   "outputs": [
    {
     "data": {
      "text/plain": [
       "(9316, 207)"
      ]
     },
     "execution_count": 66,
     "metadata": {},
     "output_type": "execute_result"
    }
   ],
   "source": [
    "X_train.shape"
   ]
  },
  {
   "cell_type": "code",
   "execution_count": 67,
   "id": "fda1f529-e7f0-41d1-b3e8-9f8fc49181b1",
   "metadata": {},
   "outputs": [],
   "source": [
    "y_train = np.hstack([y_train, y_train])"
   ]
  },
  {
   "cell_type": "code",
   "execution_count": 68,
   "id": "72d7302f-351b-45cc-974c-35288a31d556",
   "metadata": {},
   "outputs": [
    {
     "data": {
      "text/plain": [
       "(9316,)"
      ]
     },
     "execution_count": 68,
     "metadata": {},
     "output_type": "execute_result"
    }
   ],
   "source": [
    "y_train.shape"
   ]
  },
  {
   "cell_type": "markdown",
   "id": "85941430-2534-4d7d-ba52-d934a31c1bf6",
   "metadata": {},
   "source": [
    "# Network Model"
   ]
  },
  {
   "cell_type": "code",
   "execution_count": 69,
   "id": "6bd5d1bf-4640-4cbc-acd3-72881ddcc07e",
   "metadata": {},
   "outputs": [],
   "source": [
    "from tensorflow.keras import Sequential\n",
    "from tensorflow.keras.layers import LSTM, Dense, Embedding, Bidirectional, Dropout, Activation, BatchNormalization\n",
    "from tensorflow.keras.callbacks import ModelCheckpoint, EarlyStopping, ReduceLROnPlateau\n",
    "from tensorflow.keras.optimizers import Adam, RMSprop\n",
    "from tensorflow.keras import backend as K"
   ]
  },
  {
   "cell_type": "code",
   "execution_count": 70,
   "id": "4bf115a2-9f1b-42b8-9b62-59728f1da977",
   "metadata": {},
   "outputs": [],
   "source": [
    "def R2(y_true, y_pred):\n",
    "    SS_res =  K.sum(K.square( y_true-y_pred ))\n",
    "    SS_tot = K.sum(K.square( y_true - K.mean(y_true) ) )\n",
    "    return ( 1 - SS_res/(SS_tot + K.epsilon()) )"
   ]
  },
  {
   "cell_type": "code",
   "execution_count": 71,
   "id": "92d30b68-3110-459c-887d-a06f056d067b",
   "metadata": {},
   "outputs": [
    {
     "data": {
      "text/plain": [
       "38"
      ]
     },
     "execution_count": 71,
     "metadata": {},
     "output_type": "execute_result"
    }
   ],
   "source": [
    "vocab_size = len(tk.word_index)\n",
    "vocab_size"
   ]
  },
  {
   "cell_type": "code",
   "execution_count": 72,
   "id": "6166a72b-ccd1-459c-a3a1-fa43bf31a369",
   "metadata": {},
   "outputs": [],
   "source": [
    "max_sequence_len = X_seq_pad.shape[1]"
   ]
  },
  {
   "cell_type": "code",
   "execution_count": 73,
   "id": "526ace24",
   "metadata": {
    "collapsed": false,
    "jupyter": {
     "outputs_hidden": false
    }
   },
   "outputs": [],
   "source": [
    "# Hyperparametros\n",
    "learning_rate=0.01 #0.01   0.05    1e-3\n",
    "epochs = 200     #50    30\n",
    "batch_size=128     #64      32\n",
    "\n",
    "lstm = 100 #64   20\n",
    "dense_size = 512 #100 #50\n",
    "drops = 0.8   #0.4\n",
    "embeddings = 128"
   ]
  },
  {
   "cell_type": "code",
   "execution_count": 74,
   "id": "e380336b",
   "metadata": {
    "collapsed": false,
    "jupyter": {
     "outputs_hidden": false
    }
   },
   "outputs": [],
   "source": [
    "model = Sequential()\n",
    "model.add(Embedding(vocab_size + 1, embeddings, input_length=max_sequence_len))\n",
    "model.add(Bidirectional(LSTM(lstm, return_sequences=False, return_state=False, activation='tanh')))\n",
    "model.add(Dense(dense_size))\n",
    "model.add(Dropout(drops))\n",
    "#model.add(BatchNormalization())\n",
    "model.add(Activation('relu'))\n",
    "model.add(Dense(1, activation='linear'))"
   ]
  },
  {
   "cell_type": "code",
   "execution_count": 75,
   "id": "6d385705",
   "metadata": {
    "collapsed": false,
    "jupyter": {
     "outputs_hidden": false
    }
   },
   "outputs": [],
   "source": [
    "model = Sequential()\n",
    "model.add(Embedding(vocab_size + 1, embeddings, input_length=max_sequence_len))\n",
    "model.add(Bidirectional(LSTM(lstm, return_sequences=False, return_state=False, activation='tanh')))\n",
    "model.add(Dense(dense_size))\n",
    "model.add(BatchNormalization())\n",
    "model.add(Dropout(drops))\n",
    "model.add(Dense(dense_size))\n",
    "model.add(BatchNormalization())\n",
    "model.add(Dropout(drops))\n",
    "model.add(Activation('relu'))\n",
    "model.add(Dense(1, activation='linear'))"
   ]
  },
  {
   "cell_type": "code",
   "execution_count": 76,
   "id": "237c1327-028f-4f70-bd29-ea94cd999686",
   "metadata": {},
   "outputs": [
    {
     "name": "stdout",
     "output_type": "stream",
     "text": [
      "Model: \"sequential_3\"\n",
      "_________________________________________________________________\n",
      " Layer (type)                Output Shape              Param #   \n",
      "=================================================================\n",
      " embedding_3 (Embedding)     (None, 207, 128)          4992      \n",
      "                                                                 \n",
      " bidirectional_3 (Bidirectio  (None, 200)              183200    \n",
      " nal)                                                            \n",
      "                                                                 \n",
      " dense_7 (Dense)             (None, 512)               102912    \n",
      "                                                                 \n",
      " batch_normalization_2 (Batc  (None, 512)              2048      \n",
      " hNormalization)                                                 \n",
      "                                                                 \n",
      " dropout_4 (Dropout)         (None, 512)               0         \n",
      "                                                                 \n",
      " dense_8 (Dense)             (None, 512)               262656    \n",
      "                                                                 \n",
      " batch_normalization_3 (Batc  (None, 512)              2048      \n",
      " hNormalization)                                                 \n",
      "                                                                 \n",
      " dropout_5 (Dropout)         (None, 512)               0         \n",
      "                                                                 \n",
      " activation_3 (Activation)   (None, 512)               0         \n",
      "                                                                 \n",
      " dense_9 (Dense)             (None, 1)                 513       \n",
      "                                                                 \n",
      "=================================================================\n",
      "Total params: 558,369\n",
      "Trainable params: 556,321\n",
      "Non-trainable params: 2,048\n",
      "_________________________________________________________________\n"
     ]
    }
   ],
   "source": [
    "model.summary()"
   ]
  },
  {
   "cell_type": "code",
   "execution_count": 77,
   "id": "9138b411-fc5d-41bd-8c8e-c12580cc5b14",
   "metadata": {},
   "outputs": [],
   "source": [
    "model.compile(optimizer=RMSprop(learning_rate=learning_rate), loss='mse', metrics=[R2])"
   ]
  },
  {
   "cell_type": "code",
   "execution_count": 78,
   "id": "62c3f792-f413-4150-8ebf-1f59c5fb986d",
   "metadata": {},
   "outputs": [],
   "source": [
    "# callbacks\n",
    "mcp = ModelCheckpoint('models/best_model_{epoch}', save_best_only=True, save_format=\"h5\")\n",
    "earlyStopping = EarlyStopping(monitor='val_loss', min_delta=0, patience=15, verbose=1, restore_best_weights=True)\n",
    "reduceLR = ReduceLROnPlateau(monitor ='val_loss', factor=0.2, patience=15, verbose=1, mode='auto', min_delta=0.01, cooldown=0, min_lr=1e-8)"
   ]
  },
  {
   "cell_type": "code",
   "execution_count": 79,
   "id": "3f37ab4e-0e3a-44c6-a572-ba5c67930c61",
   "metadata": {},
   "outputs": [
    {
     "name": "stderr",
     "output_type": "stream",
     "text": [
      "2023/02/04 13:58:12 INFO mlflow.utils.autologging_utils: Created MLflow autologging run with ID '45b22488bde840a4a5dab5b69ad6eb5d', which will track hyperparameters, performance metrics, model artifacts, and lineage information for the current tensorflow workflow\n"
     ]
    },
    {
     "name": "stdout",
     "output_type": "stream",
     "text": [
      "Epoch 1/200\n",
      "73/73 [==============================] - ETA: 0s - loss: 8.0116 - R2: -2.0935"
     ]
    },
    {
     "name": "stderr",
     "output_type": "stream",
     "text": [
      "WARNING:absl:Found untraced functions such as _update_step_xla, lstm_cell_13_layer_call_fn, lstm_cell_13_layer_call_and_return_conditional_losses, lstm_cell_14_layer_call_fn, lstm_cell_14_layer_call_and_return_conditional_losses while saving (showing 5 of 5). These functions will not be directly callable after loading.\n"
     ]
    },
    {
     "name": "stdout",
     "output_type": "stream",
     "text": [
      "INFO:tensorflow:Assets written to: models/best_model_1/assets\n"
     ]
    },
    {
     "name": "stderr",
     "output_type": "stream",
     "text": [
      "INFO:tensorflow:Assets written to: models/best_model_1/assets\n"
     ]
    },
    {
     "name": "stdout",
     "output_type": "stream",
     "text": [
      "73/73 [==============================] - 62s 804ms/step - loss: 8.0116 - R2: -2.0935 - val_loss: 153.2007 - val_R2: -55.9361 - lr: 0.0100\n",
      "Epoch 2/200\n",
      "73/73 [==============================] - 59s 805ms/step - loss: 5.0858 - R2: -0.9909 - val_loss: 317.0960 - val_R2: -116.9647 - lr: 0.0100\n",
      "Epoch 3/200\n",
      "73/73 [==============================] - ETA: 0s - loss: 4.4887 - R2: -0.7312"
     ]
    },
    {
     "name": "stderr",
     "output_type": "stream",
     "text": [
      "WARNING:absl:Found untraced functions such as _update_step_xla, lstm_cell_13_layer_call_fn, lstm_cell_13_layer_call_and_return_conditional_losses, lstm_cell_14_layer_call_fn, lstm_cell_14_layer_call_and_return_conditional_losses while saving (showing 5 of 5). These functions will not be directly callable after loading.\n"
     ]
    },
    {
     "name": "stdout",
     "output_type": "stream",
     "text": [
      "INFO:tensorflow:Assets written to: models/best_model_3/assets\n"
     ]
    },
    {
     "name": "stderr",
     "output_type": "stream",
     "text": [
      "INFO:tensorflow:Assets written to: models/best_model_3/assets\n"
     ]
    },
    {
     "name": "stdout",
     "output_type": "stream",
     "text": [
      "73/73 [==============================] - 66s 908ms/step - loss: 4.4887 - R2: -0.7312 - val_loss: 8.0969 - val_R2: -1.9491 - lr: 0.0100\n",
      "Epoch 4/200\n",
      "73/73 [==============================] - ETA: 0s - loss: 3.8546 - R2: -0.4857"
     ]
    },
    {
     "name": "stderr",
     "output_type": "stream",
     "text": [
      "WARNING:absl:Found untraced functions such as _update_step_xla, lstm_cell_13_layer_call_fn, lstm_cell_13_layer_call_and_return_conditional_losses, lstm_cell_14_layer_call_fn, lstm_cell_14_layer_call_and_return_conditional_losses while saving (showing 5 of 5). These functions will not be directly callable after loading.\n"
     ]
    },
    {
     "name": "stdout",
     "output_type": "stream",
     "text": [
      "INFO:tensorflow:Assets written to: models/best_model_4/assets\n"
     ]
    },
    {
     "name": "stderr",
     "output_type": "stream",
     "text": [
      "INFO:tensorflow:Assets written to: models/best_model_4/assets\n"
     ]
    },
    {
     "name": "stdout",
     "output_type": "stream",
     "text": [
      "73/73 [==============================] - 60s 819ms/step - loss: 3.8546 - R2: -0.4857 - val_loss: 3.4783 - val_R2: -0.2411 - lr: 0.0100\n",
      "Epoch 5/200\n",
      "73/73 [==============================] - 52s 711ms/step - loss: 3.7041 - R2: -0.4187 - val_loss: 11.1713 - val_R2: -3.0529 - lr: 0.0100\n",
      "Epoch 6/200\n",
      "73/73 [==============================] - ETA: 0s - loss: 3.3128 - R2: -0.2737"
     ]
    },
    {
     "name": "stderr",
     "output_type": "stream",
     "text": [
      "WARNING:absl:Found untraced functions such as _update_step_xla, lstm_cell_13_layer_call_fn, lstm_cell_13_layer_call_and_return_conditional_losses, lstm_cell_14_layer_call_fn, lstm_cell_14_layer_call_and_return_conditional_losses while saving (showing 5 of 5). These functions will not be directly callable after loading.\n"
     ]
    },
    {
     "name": "stdout",
     "output_type": "stream",
     "text": [
      "INFO:tensorflow:Assets written to: models/best_model_6/assets\n"
     ]
    },
    {
     "name": "stderr",
     "output_type": "stream",
     "text": [
      "INFO:tensorflow:Assets written to: models/best_model_6/assets\n"
     ]
    },
    {
     "name": "stdout",
     "output_type": "stream",
     "text": [
      "73/73 [==============================] - 76s 1s/step - loss: 3.3128 - R2: -0.2737 - val_loss: 2.4089 - val_R2: 0.1363 - lr: 0.0100\n",
      "Epoch 7/200\n",
      "73/73 [==============================] - 54s 742ms/step - loss: 3.0694 - R2: -0.1756 - val_loss: 2.5564 - val_R2: 0.0661 - lr: 0.0100\n",
      "Epoch 8/200\n",
      "73/73 [==============================] - ETA: 0s - loss: 2.8304 - R2: -0.0846"
     ]
    },
    {
     "name": "stderr",
     "output_type": "stream",
     "text": [
      "WARNING:absl:Found untraced functions such as _update_step_xla, lstm_cell_13_layer_call_fn, lstm_cell_13_layer_call_and_return_conditional_losses, lstm_cell_14_layer_call_fn, lstm_cell_14_layer_call_and_return_conditional_losses while saving (showing 5 of 5). These functions will not be directly callable after loading.\n"
     ]
    },
    {
     "name": "stdout",
     "output_type": "stream",
     "text": [
      "INFO:tensorflow:Assets written to: models/best_model_8/assets\n"
     ]
    },
    {
     "name": "stderr",
     "output_type": "stream",
     "text": [
      "INFO:tensorflow:Assets written to: models/best_model_8/assets\n"
     ]
    },
    {
     "name": "stdout",
     "output_type": "stream",
     "text": [
      "73/73 [==============================] - 61s 844ms/step - loss: 2.8304 - R2: -0.0846 - val_loss: 2.2705 - val_R2: 0.1796 - lr: 0.0100\n",
      "Epoch 9/200\n",
      "73/73 [==============================] - ETA: 0s - loss: 2.5662 - R2: 0.0223"
     ]
    },
    {
     "name": "stderr",
     "output_type": "stream",
     "text": [
      "WARNING:absl:Found untraced functions such as _update_step_xla, lstm_cell_13_layer_call_fn, lstm_cell_13_layer_call_and_return_conditional_losses, lstm_cell_14_layer_call_fn, lstm_cell_14_layer_call_and_return_conditional_losses while saving (showing 5 of 5). These functions will not be directly callable after loading.\n"
     ]
    },
    {
     "name": "stdout",
     "output_type": "stream",
     "text": [
      "INFO:tensorflow:Assets written to: models/best_model_9/assets\n"
     ]
    },
    {
     "name": "stderr",
     "output_type": "stream",
     "text": [
      "INFO:tensorflow:Assets written to: models/best_model_9/assets\n"
     ]
    },
    {
     "name": "stdout",
     "output_type": "stream",
     "text": [
      "73/73 [==============================] - 63s 862ms/step - loss: 2.5662 - R2: 0.0223 - val_loss: 2.2411 - val_R2: 0.1897 - lr: 0.0100\n",
      "Epoch 10/200\n",
      "73/73 [==============================] - 53s 730ms/step - loss: 2.4011 - R2: 0.0849 - val_loss: 2.6300 - val_R2: 0.0342 - lr: 0.0100\n",
      "Epoch 11/200\n",
      "73/73 [==============================] - 53s 722ms/step - loss: 2.2946 - R2: 0.1255 - val_loss: 2.3409 - val_R2: 0.1421 - lr: 0.0100\n",
      "Epoch 12/200\n",
      "73/73 [==============================] - ETA: 0s - loss: 2.1601 - R2: 0.1815"
     ]
    },
    {
     "name": "stderr",
     "output_type": "stream",
     "text": [
      "WARNING:absl:Found untraced functions such as _update_step_xla, lstm_cell_13_layer_call_fn, lstm_cell_13_layer_call_and_return_conditional_losses, lstm_cell_14_layer_call_fn, lstm_cell_14_layer_call_and_return_conditional_losses while saving (showing 5 of 5). These functions will not be directly callable after loading.\n"
     ]
    },
    {
     "name": "stdout",
     "output_type": "stream",
     "text": [
      "INFO:tensorflow:Assets written to: models/best_model_12/assets\n"
     ]
    },
    {
     "name": "stderr",
     "output_type": "stream",
     "text": [
      "INFO:tensorflow:Assets written to: models/best_model_12/assets\n"
     ]
    },
    {
     "name": "stdout",
     "output_type": "stream",
     "text": [
      "73/73 [==============================] - 61s 833ms/step - loss: 2.1601 - R2: 0.1815 - val_loss: 2.0719 - val_R2: 0.2620 - lr: 0.0100\n",
      "Epoch 13/200\n",
      "73/73 [==============================] - ETA: 0s - loss: 2.0748 - R2: 0.2106"
     ]
    },
    {
     "name": "stderr",
     "output_type": "stream",
     "text": [
      "WARNING:absl:Found untraced functions such as _update_step_xla, lstm_cell_13_layer_call_fn, lstm_cell_13_layer_call_and_return_conditional_losses, lstm_cell_14_layer_call_fn, lstm_cell_14_layer_call_and_return_conditional_losses while saving (showing 5 of 5). These functions will not be directly callable after loading.\n"
     ]
    },
    {
     "name": "stdout",
     "output_type": "stream",
     "text": [
      "INFO:tensorflow:Assets written to: models/best_model_13/assets\n"
     ]
    },
    {
     "name": "stderr",
     "output_type": "stream",
     "text": [
      "INFO:tensorflow:Assets written to: models/best_model_13/assets\n"
     ]
    },
    {
     "name": "stdout",
     "output_type": "stream",
     "text": [
      "73/73 [==============================] - 60s 827ms/step - loss: 2.0748 - R2: 0.2106 - val_loss: 1.9441 - val_R2: 0.2984 - lr: 0.0100\n",
      "Epoch 14/200\n",
      "73/73 [==============================] - 53s 727ms/step - loss: 1.9392 - R2: 0.2664 - val_loss: 2.5546 - val_R2: 0.0574 - lr: 0.0100\n",
      "Epoch 15/200\n",
      "73/73 [==============================] - 56s 767ms/step - loss: 1.8505 - R2: 0.2959 - val_loss: 1.9964 - val_R2: 0.2770 - lr: 0.0100\n",
      "Epoch 16/200\n",
      "73/73 [==============================] - ETA: 0s - loss: 1.8208 - R2: 0.3100"
     ]
    },
    {
     "name": "stderr",
     "output_type": "stream",
     "text": [
      "WARNING:absl:Found untraced functions such as _update_step_xla, lstm_cell_13_layer_call_fn, lstm_cell_13_layer_call_and_return_conditional_losses, lstm_cell_14_layer_call_fn, lstm_cell_14_layer_call_and_return_conditional_losses while saving (showing 5 of 5). These functions will not be directly callable after loading.\n"
     ]
    },
    {
     "name": "stdout",
     "output_type": "stream",
     "text": [
      "INFO:tensorflow:Assets written to: models/best_model_16/assets\n"
     ]
    },
    {
     "name": "stderr",
     "output_type": "stream",
     "text": [
      "INFO:tensorflow:Assets written to: models/best_model_16/assets\n"
     ]
    },
    {
     "name": "stdout",
     "output_type": "stream",
     "text": [
      "73/73 [==============================] - 72s 986ms/step - loss: 1.8208 - R2: 0.3100 - val_loss: 1.9229 - val_R2: 0.3057 - lr: 0.0100\n",
      "Epoch 17/200\n",
      "73/73 [==============================] - ETA: 0s - loss: 1.7314 - R2: 0.3444"
     ]
    },
    {
     "name": "stderr",
     "output_type": "stream",
     "text": [
      "WARNING:absl:Found untraced functions such as _update_step_xla, lstm_cell_13_layer_call_fn, lstm_cell_13_layer_call_and_return_conditional_losses, lstm_cell_14_layer_call_fn, lstm_cell_14_layer_call_and_return_conditional_losses while saving (showing 5 of 5). These functions will not be directly callable after loading.\n"
     ]
    },
    {
     "name": "stdout",
     "output_type": "stream",
     "text": [
      "INFO:tensorflow:Assets written to: models/best_model_17/assets\n"
     ]
    },
    {
     "name": "stderr",
     "output_type": "stream",
     "text": [
      "INFO:tensorflow:Assets written to: models/best_model_17/assets\n"
     ]
    },
    {
     "name": "stdout",
     "output_type": "stream",
     "text": [
      "73/73 [==============================] - 66s 907ms/step - loss: 1.7314 - R2: 0.3444 - val_loss: 1.8612 - val_R2: 0.3384 - lr: 0.0100\n",
      "Epoch 18/200\n",
      "73/73 [==============================] - ETA: 0s - loss: 1.6985 - R2: 0.3572"
     ]
    },
    {
     "name": "stderr",
     "output_type": "stream",
     "text": [
      "WARNING:absl:Found untraced functions such as _update_step_xla, lstm_cell_13_layer_call_fn, lstm_cell_13_layer_call_and_return_conditional_losses, lstm_cell_14_layer_call_fn, lstm_cell_14_layer_call_and_return_conditional_losses while saving (showing 5 of 5). These functions will not be directly callable after loading.\n"
     ]
    },
    {
     "name": "stdout",
     "output_type": "stream",
     "text": [
      "INFO:tensorflow:Assets written to: models/best_model_18/assets\n"
     ]
    },
    {
     "name": "stderr",
     "output_type": "stream",
     "text": [
      "INFO:tensorflow:Assets written to: models/best_model_18/assets\n"
     ]
    },
    {
     "name": "stdout",
     "output_type": "stream",
     "text": [
      "73/73 [==============================] - 72s 996ms/step - loss: 1.6985 - R2: 0.3572 - val_loss: 1.7551 - val_R2: 0.3805 - lr: 0.0100\n",
      "Epoch 19/200\n",
      "73/73 [==============================] - 57s 773ms/step - loss: 1.6676 - R2: 0.3687 - val_loss: 2.0145 - val_R2: 0.2764 - lr: 0.0100\n",
      "Epoch 20/200\n",
      "73/73 [==============================] - 54s 743ms/step - loss: 1.6728 - R2: 0.3692 - val_loss: 2.0479 - val_R2: 0.2533 - lr: 0.0100\n",
      "Epoch 21/200\n",
      "73/73 [==============================] - ETA: 0s - loss: 1.5814 - R2: 0.3995"
     ]
    },
    {
     "name": "stderr",
     "output_type": "stream",
     "text": [
      "WARNING:absl:Found untraced functions such as _update_step_xla, lstm_cell_13_layer_call_fn, lstm_cell_13_layer_call_and_return_conditional_losses, lstm_cell_14_layer_call_fn, lstm_cell_14_layer_call_and_return_conditional_losses while saving (showing 5 of 5). These functions will not be directly callable after loading.\n"
     ]
    },
    {
     "name": "stdout",
     "output_type": "stream",
     "text": [
      "INFO:tensorflow:Assets written to: models/best_model_21/assets\n"
     ]
    },
    {
     "name": "stderr",
     "output_type": "stream",
     "text": [
      "INFO:tensorflow:Assets written to: models/best_model_21/assets\n"
     ]
    },
    {
     "name": "stdout",
     "output_type": "stream",
     "text": [
      "73/73 [==============================] - 62s 852ms/step - loss: 1.5814 - R2: 0.3995 - val_loss: 1.6878 - val_R2: 0.4017 - lr: 0.0100\n",
      "Epoch 22/200\n",
      "73/73 [==============================] - 59s 815ms/step - loss: 1.5344 - R2: 0.4200 - val_loss: 1.7907 - val_R2: 0.3590 - lr: 0.0100\n",
      "Epoch 23/200\n",
      "73/73 [==============================] - 54s 745ms/step - loss: 1.5352 - R2: 0.4197 - val_loss: 1.8466 - val_R2: 0.3499 - lr: 0.0100\n",
      "Epoch 24/200\n",
      "73/73 [==============================] - ETA: 0s - loss: 1.5648 - R2: 0.4029"
     ]
    },
    {
     "name": "stderr",
     "output_type": "stream",
     "text": [
      "WARNING:absl:Found untraced functions such as _update_step_xla, lstm_cell_13_layer_call_fn, lstm_cell_13_layer_call_and_return_conditional_losses, lstm_cell_14_layer_call_fn, lstm_cell_14_layer_call_and_return_conditional_losses while saving (showing 5 of 5). These functions will not be directly callable after loading.\n"
     ]
    },
    {
     "name": "stdout",
     "output_type": "stream",
     "text": [
      "INFO:tensorflow:Assets written to: models/best_model_24/assets\n"
     ]
    },
    {
     "name": "stderr",
     "output_type": "stream",
     "text": [
      "INFO:tensorflow:Assets written to: models/best_model_24/assets\n"
     ]
    },
    {
     "name": "stdout",
     "output_type": "stream",
     "text": [
      "73/73 [==============================] - 62s 857ms/step - loss: 1.5648 - R2: 0.4029 - val_loss: 1.6758 - val_R2: 0.4018 - lr: 0.0100\n",
      "Epoch 25/200\n",
      "73/73 [==============================] - 54s 735ms/step - loss: 1.4725 - R2: 0.4448 - val_loss: 2.7186 - val_R2: 0.0040 - lr: 0.0100\n",
      "Epoch 26/200\n",
      "73/73 [==============================] - ETA: 0s - loss: 1.4385 - R2: 0.4537"
     ]
    },
    {
     "name": "stderr",
     "output_type": "stream",
     "text": [
      "WARNING:absl:Found untraced functions such as _update_step_xla, lstm_cell_13_layer_call_fn, lstm_cell_13_layer_call_and_return_conditional_losses, lstm_cell_14_layer_call_fn, lstm_cell_14_layer_call_and_return_conditional_losses while saving (showing 5 of 5). These functions will not be directly callable after loading.\n"
     ]
    },
    {
     "name": "stdout",
     "output_type": "stream",
     "text": [
      "INFO:tensorflow:Assets written to: models/best_model_26/assets\n"
     ]
    },
    {
     "name": "stderr",
     "output_type": "stream",
     "text": [
      "INFO:tensorflow:Assets written to: models/best_model_26/assets\n"
     ]
    },
    {
     "name": "stdout",
     "output_type": "stream",
     "text": [
      "73/73 [==============================] - 62s 849ms/step - loss: 1.4385 - R2: 0.4537 - val_loss: 1.6632 - val_R2: 0.4068 - lr: 0.0100\n",
      "Epoch 27/200\n",
      "73/73 [==============================] - ETA: 0s - loss: 1.3967 - R2: 0.4760"
     ]
    },
    {
     "name": "stderr",
     "output_type": "stream",
     "text": [
      "WARNING:absl:Found untraced functions such as _update_step_xla, lstm_cell_13_layer_call_fn, lstm_cell_13_layer_call_and_return_conditional_losses, lstm_cell_14_layer_call_fn, lstm_cell_14_layer_call_and_return_conditional_losses while saving (showing 5 of 5). These functions will not be directly callable after loading.\n"
     ]
    },
    {
     "name": "stdout",
     "output_type": "stream",
     "text": [
      "INFO:tensorflow:Assets written to: models/best_model_27/assets\n"
     ]
    },
    {
     "name": "stderr",
     "output_type": "stream",
     "text": [
      "INFO:tensorflow:Assets written to: models/best_model_27/assets\n"
     ]
    },
    {
     "name": "stdout",
     "output_type": "stream",
     "text": [
      "73/73 [==============================] - 62s 848ms/step - loss: 1.3967 - R2: 0.4760 - val_loss: 1.5964 - val_R2: 0.4312 - lr: 0.0100\n",
      "Epoch 28/200\n",
      "73/73 [==============================] - ETA: 0s - loss: 1.3765 - R2: 0.4772"
     ]
    },
    {
     "name": "stderr",
     "output_type": "stream",
     "text": [
      "WARNING:absl:Found untraced functions such as _update_step_xla, lstm_cell_13_layer_call_fn, lstm_cell_13_layer_call_and_return_conditional_losses, lstm_cell_14_layer_call_fn, lstm_cell_14_layer_call_and_return_conditional_losses while saving (showing 5 of 5). These functions will not be directly callable after loading.\n"
     ]
    },
    {
     "name": "stdout",
     "output_type": "stream",
     "text": [
      "INFO:tensorflow:Assets written to: models/best_model_28/assets\n"
     ]
    },
    {
     "name": "stderr",
     "output_type": "stream",
     "text": [
      "INFO:tensorflow:Assets written to: models/best_model_28/assets\n"
     ]
    },
    {
     "name": "stdout",
     "output_type": "stream",
     "text": [
      "73/73 [==============================] - 66s 900ms/step - loss: 1.3765 - R2: 0.4772 - val_loss: 1.5491 - val_R2: 0.4405 - lr: 0.0100\n",
      "Epoch 29/200\n",
      "73/73 [==============================] - ETA: 0s - loss: 1.3460 - R2: 0.4896"
     ]
    },
    {
     "name": "stderr",
     "output_type": "stream",
     "text": [
      "WARNING:absl:Found untraced functions such as _update_step_xla, lstm_cell_13_layer_call_fn, lstm_cell_13_layer_call_and_return_conditional_losses, lstm_cell_14_layer_call_fn, lstm_cell_14_layer_call_and_return_conditional_losses while saving (showing 5 of 5). These functions will not be directly callable after loading.\n"
     ]
    },
    {
     "name": "stdout",
     "output_type": "stream",
     "text": [
      "INFO:tensorflow:Assets written to: models/best_model_29/assets\n"
     ]
    },
    {
     "name": "stderr",
     "output_type": "stream",
     "text": [
      "INFO:tensorflow:Assets written to: models/best_model_29/assets\n"
     ]
    },
    {
     "name": "stdout",
     "output_type": "stream",
     "text": [
      "73/73 [==============================] - 74s 1s/step - loss: 1.3460 - R2: 0.4896 - val_loss: 1.4295 - val_R2: 0.4987 - lr: 0.0100\n",
      "Epoch 30/200\n",
      "73/73 [==============================] - 60s 822ms/step - loss: 1.3099 - R2: 0.5020 - val_loss: 1.5256 - val_R2: 0.4559 - lr: 0.0100\n",
      "Epoch 31/200\n",
      "73/73 [==============================] - 61s 832ms/step - loss: 1.3005 - R2: 0.5061 - val_loss: 1.5817 - val_R2: 0.4461 - lr: 0.0100\n",
      "Epoch 32/200\n",
      "73/73 [==============================] - 53s 719ms/step - loss: 1.3083 - R2: 0.5046 - val_loss: 1.4614 - val_R2: 0.4909 - lr: 0.0100\n",
      "Epoch 33/200\n",
      "73/73 [==============================] - 58s 790ms/step - loss: 1.2527 - R2: 0.5185 - val_loss: 1.5739 - val_R2: 0.4412 - lr: 0.0100\n",
      "Epoch 34/200\n",
      "73/73 [==============================] - 61s 841ms/step - loss: 1.2228 - R2: 0.5390 - val_loss: 1.4306 - val_R2: 0.4843 - lr: 0.0100\n",
      "Epoch 35/200\n",
      "73/73 [==============================] - ETA: 0s - loss: 1.2331 - R2: 0.5315"
     ]
    },
    {
     "name": "stderr",
     "output_type": "stream",
     "text": [
      "WARNING:absl:Found untraced functions such as _update_step_xla, lstm_cell_13_layer_call_fn, lstm_cell_13_layer_call_and_return_conditional_losses, lstm_cell_14_layer_call_fn, lstm_cell_14_layer_call_and_return_conditional_losses while saving (showing 5 of 5). These functions will not be directly callable after loading.\n"
     ]
    },
    {
     "name": "stdout",
     "output_type": "stream",
     "text": [
      "INFO:tensorflow:Assets written to: models/best_model_35/assets\n"
     ]
    },
    {
     "name": "stderr",
     "output_type": "stream",
     "text": [
      "INFO:tensorflow:Assets written to: models/best_model_35/assets\n"
     ]
    },
    {
     "name": "stdout",
     "output_type": "stream",
     "text": [
      "73/73 [==============================] - 74s 1s/step - loss: 1.2331 - R2: 0.5315 - val_loss: 1.3410 - val_R2: 0.5383 - lr: 0.0100\n",
      "Epoch 36/200\n",
      "73/73 [==============================] - 62s 847ms/step - loss: 1.1818 - R2: 0.5569 - val_loss: 1.4255 - val_R2: 0.5033 - lr: 0.0100\n",
      "Epoch 37/200\n",
      "73/73 [==============================] - 60s 820ms/step - loss: 1.2017 - R2: 0.5417 - val_loss: 1.3681 - val_R2: 0.5101 - lr: 0.0100\n",
      "Epoch 38/200\n",
      "73/73 [==============================] - 56s 766ms/step - loss: 1.1545 - R2: 0.5609 - val_loss: 1.4017 - val_R2: 0.5011 - lr: 0.0100\n",
      "Epoch 39/200\n",
      "73/73 [==============================] - ETA: 0s - loss: 1.1425 - R2: 0.5652"
     ]
    },
    {
     "name": "stderr",
     "output_type": "stream",
     "text": [
      "WARNING:absl:Found untraced functions such as _update_step_xla, lstm_cell_13_layer_call_fn, lstm_cell_13_layer_call_and_return_conditional_losses, lstm_cell_14_layer_call_fn, lstm_cell_14_layer_call_and_return_conditional_losses while saving (showing 5 of 5). These functions will not be directly callable after loading.\n"
     ]
    },
    {
     "name": "stdout",
     "output_type": "stream",
     "text": [
      "INFO:tensorflow:Assets written to: models/best_model_39/assets\n"
     ]
    },
    {
     "name": "stderr",
     "output_type": "stream",
     "text": [
      "INFO:tensorflow:Assets written to: models/best_model_39/assets\n"
     ]
    },
    {
     "name": "stdout",
     "output_type": "stream",
     "text": [
      "73/73 [==============================] - 66s 911ms/step - loss: 1.1425 - R2: 0.5652 - val_loss: 1.2674 - val_R2: 0.5602 - lr: 0.0100\n",
      "Epoch 40/200\n",
      "73/73 [==============================] - 57s 781ms/step - loss: 1.1165 - R2: 0.5794 - val_loss: 1.3102 - val_R2: 0.5488 - lr: 0.0100\n",
      "Epoch 41/200\n",
      "73/73 [==============================] - 56s 767ms/step - loss: 1.1207 - R2: 0.5734 - val_loss: 1.3527 - val_R2: 0.5325 - lr: 0.0100\n",
      "Epoch 42/200\n",
      "73/73 [==============================] - 56s 773ms/step - loss: 1.1322 - R2: 0.5697 - val_loss: 1.2912 - val_R2: 0.5555 - lr: 0.0100\n",
      "Epoch 43/200\n",
      "73/73 [==============================] - 59s 809ms/step - loss: 1.0884 - R2: 0.5897 - val_loss: 1.3776 - val_R2: 0.5225 - lr: 0.0100\n",
      "Epoch 44/200\n",
      "73/73 [==============================] - 60s 820ms/step - loss: 1.0490 - R2: 0.6030 - val_loss: 1.3015 - val_R2: 0.5526 - lr: 0.0100\n",
      "Epoch 45/200\n",
      "73/73 [==============================] - 62s 853ms/step - loss: 1.0621 - R2: 0.5980 - val_loss: 1.4339 - val_R2: 0.4914 - lr: 0.0100\n",
      "Epoch 46/200\n",
      "73/73 [==============================] - 55s 759ms/step - loss: 1.0344 - R2: 0.6099 - val_loss: 1.3656 - val_R2: 0.5144 - lr: 0.0100\n",
      "Epoch 47/200\n",
      "73/73 [==============================] - 58s 799ms/step - loss: 1.0137 - R2: 0.6149 - val_loss: 1.3736 - val_R2: 0.5249 - lr: 0.0100\n",
      "Epoch 48/200\n",
      "73/73 [==============================] - ETA: 0s - loss: 1.0470 - R2: 0.6037"
     ]
    },
    {
     "name": "stderr",
     "output_type": "stream",
     "text": [
      "WARNING:absl:Found untraced functions such as _update_step_xla, lstm_cell_13_layer_call_fn, lstm_cell_13_layer_call_and_return_conditional_losses, lstm_cell_14_layer_call_fn, lstm_cell_14_layer_call_and_return_conditional_losses while saving (showing 5 of 5). These functions will not be directly callable after loading.\n"
     ]
    },
    {
     "name": "stdout",
     "output_type": "stream",
     "text": [
      "INFO:tensorflow:Assets written to: models/best_model_48/assets\n"
     ]
    },
    {
     "name": "stderr",
     "output_type": "stream",
     "text": [
      "INFO:tensorflow:Assets written to: models/best_model_48/assets\n"
     ]
    },
    {
     "name": "stdout",
     "output_type": "stream",
     "text": [
      "73/73 [==============================] - 68s 940ms/step - loss: 1.0470 - R2: 0.6037 - val_loss: 1.2286 - val_R2: 0.5749 - lr: 0.0100\n",
      "Epoch 49/200\n",
      "73/73 [==============================] - ETA: 0s - loss: 0.9886 - R2: 0.6267"
     ]
    },
    {
     "name": "stderr",
     "output_type": "stream",
     "text": [
      "WARNING:absl:Found untraced functions such as _update_step_xla, lstm_cell_13_layer_call_fn, lstm_cell_13_layer_call_and_return_conditional_losses, lstm_cell_14_layer_call_fn, lstm_cell_14_layer_call_and_return_conditional_losses while saving (showing 5 of 5). These functions will not be directly callable after loading.\n"
     ]
    },
    {
     "name": "stdout",
     "output_type": "stream",
     "text": [
      "INFO:tensorflow:Assets written to: models/best_model_49/assets\n"
     ]
    },
    {
     "name": "stderr",
     "output_type": "stream",
     "text": [
      "INFO:tensorflow:Assets written to: models/best_model_49/assets\n"
     ]
    },
    {
     "name": "stdout",
     "output_type": "stream",
     "text": [
      "73/73 [==============================] - 66s 904ms/step - loss: 0.9886 - R2: 0.6267 - val_loss: 1.2086 - val_R2: 0.5757 - lr: 0.0100\n",
      "Epoch 50/200\n",
      "73/73 [==============================] - 53s 725ms/step - loss: 0.9999 - R2: 0.6194 - val_loss: 1.2115 - val_R2: 0.5805 - lr: 0.0100\n",
      "Epoch 51/200\n",
      "73/73 [==============================] - ETA: 0s - loss: 0.9879 - R2: 0.6257"
     ]
    },
    {
     "name": "stderr",
     "output_type": "stream",
     "text": [
      "WARNING:absl:Found untraced functions such as _update_step_xla, lstm_cell_13_layer_call_fn, lstm_cell_13_layer_call_and_return_conditional_losses, lstm_cell_14_layer_call_fn, lstm_cell_14_layer_call_and_return_conditional_losses while saving (showing 5 of 5). These functions will not be directly callable after loading.\n"
     ]
    },
    {
     "name": "stdout",
     "output_type": "stream",
     "text": [
      "INFO:tensorflow:Assets written to: models/best_model_51/assets\n"
     ]
    },
    {
     "name": "stderr",
     "output_type": "stream",
     "text": [
      "INFO:tensorflow:Assets written to: models/best_model_51/assets\n"
     ]
    },
    {
     "name": "stdout",
     "output_type": "stream",
     "text": [
      "73/73 [==============================] - 73s 1s/step - loss: 0.9879 - R2: 0.6257 - val_loss: 1.0916 - val_R2: 0.6210 - lr: 0.0100\n",
      "Epoch 52/200\n",
      "73/73 [==============================] - 58s 795ms/step - loss: 0.9517 - R2: 0.6404 - val_loss: 1.3157 - val_R2: 0.5399 - lr: 0.0100\n",
      "Epoch 53/200\n",
      "73/73 [==============================] - 58s 794ms/step - loss: 0.9980 - R2: 0.6187 - val_loss: 1.1774 - val_R2: 0.5850 - lr: 0.0100\n",
      "Epoch 54/200\n",
      "73/73 [==============================] - 54s 739ms/step - loss: 0.9694 - R2: 0.6339 - val_loss: 1.1514 - val_R2: 0.5839 - lr: 0.0100\n",
      "Epoch 55/200\n",
      "73/73 [==============================] - 55s 753ms/step - loss: 0.9543 - R2: 0.6373 - val_loss: 1.3870 - val_R2: 0.5000 - lr: 0.0100\n",
      "Epoch 56/200\n",
      "73/73 [==============================] - 54s 747ms/step - loss: 0.9548 - R2: 0.6382 - val_loss: 1.2002 - val_R2: 0.5792 - lr: 0.0100\n",
      "Epoch 57/200\n",
      "73/73 [==============================] - 73s 1s/step - loss: 0.9095 - R2: 0.6544 - val_loss: 1.1479 - val_R2: 0.5957 - lr: 0.0100\n",
      "Epoch 58/200\n",
      "73/73 [==============================] - 63s 861ms/step - loss: 0.9539 - R2: 0.6366 - val_loss: 1.1065 - val_R2: 0.6158 - lr: 0.0100\n",
      "Epoch 59/200\n",
      "73/73 [==============================] - 59s 807ms/step - loss: 0.9286 - R2: 0.6450 - val_loss: 1.1954 - val_R2: 0.5834 - lr: 0.0100\n",
      "Epoch 60/200\n",
      "73/73 [==============================] - ETA: 0s - loss: 0.9172 - R2: 0.6528"
     ]
    },
    {
     "name": "stderr",
     "output_type": "stream",
     "text": [
      "WARNING:absl:Found untraced functions such as _update_step_xla, lstm_cell_13_layer_call_fn, lstm_cell_13_layer_call_and_return_conditional_losses, lstm_cell_14_layer_call_fn, lstm_cell_14_layer_call_and_return_conditional_losses while saving (showing 5 of 5). These functions will not be directly callable after loading.\n"
     ]
    },
    {
     "name": "stdout",
     "output_type": "stream",
     "text": [
      "INFO:tensorflow:Assets written to: models/best_model_60/assets\n"
     ]
    },
    {
     "name": "stderr",
     "output_type": "stream",
     "text": [
      "INFO:tensorflow:Assets written to: models/best_model_60/assets\n"
     ]
    },
    {
     "name": "stdout",
     "output_type": "stream",
     "text": [
      "73/73 [==============================] - 67s 919ms/step - loss: 0.9172 - R2: 0.6528 - val_loss: 1.0844 - val_R2: 0.6201 - lr: 0.0100\n",
      "Epoch 61/200\n",
      "73/73 [==============================] - 63s 863ms/step - loss: 0.9241 - R2: 0.6499 - val_loss: 1.0857 - val_R2: 0.6135 - lr: 0.0100\n",
      "Epoch 62/200\n",
      "73/73 [==============================] - ETA: 0s - loss: 0.8889 - R2: 0.6616"
     ]
    },
    {
     "name": "stderr",
     "output_type": "stream",
     "text": [
      "WARNING:absl:Found untraced functions such as _update_step_xla, lstm_cell_13_layer_call_fn, lstm_cell_13_layer_call_and_return_conditional_losses, lstm_cell_14_layer_call_fn, lstm_cell_14_layer_call_and_return_conditional_losses while saving (showing 5 of 5). These functions will not be directly callable after loading.\n"
     ]
    },
    {
     "name": "stdout",
     "output_type": "stream",
     "text": [
      "INFO:tensorflow:Assets written to: models/best_model_62/assets\n"
     ]
    },
    {
     "name": "stderr",
     "output_type": "stream",
     "text": [
      "INFO:tensorflow:Assets written to: models/best_model_62/assets\n"
     ]
    },
    {
     "name": "stdout",
     "output_type": "stream",
     "text": [
      "73/73 [==============================] - 71s 982ms/step - loss: 0.8889 - R2: 0.6616 - val_loss: 1.0525 - val_R2: 0.6267 - lr: 0.0100\n",
      "Epoch 63/200\n",
      "73/73 [==============================] - 62s 858ms/step - loss: 0.9050 - R2: 0.6572 - val_loss: 1.3648 - val_R2: 0.5163 - lr: 0.0100\n",
      "Epoch 64/200\n",
      "73/73 [==============================] - 57s 781ms/step - loss: 0.9124 - R2: 0.6495 - val_loss: 1.1246 - val_R2: 0.6017 - lr: 0.0100\n",
      "Epoch 65/200\n",
      "73/73 [==============================] - 61s 830ms/step - loss: 0.8695 - R2: 0.6650 - val_loss: 1.1575 - val_R2: 0.5808 - lr: 0.0100\n",
      "Epoch 66/200\n",
      "73/73 [==============================] - 58s 793ms/step - loss: 0.8686 - R2: 0.6708 - val_loss: 1.0722 - val_R2: 0.6129 - lr: 0.0100\n",
      "Epoch 67/200\n",
      "73/73 [==============================] - 48s 661ms/step - loss: 0.8115 - R2: 0.6897 - val_loss: 1.2554 - val_R2: 0.5501 - lr: 0.0100\n",
      "Epoch 68/200\n",
      "73/73 [==============================] - 48s 653ms/step - loss: 0.8574 - R2: 0.6724 - val_loss: 1.0602 - val_R2: 0.6152 - lr: 0.0100\n",
      "Epoch 69/200\n",
      "73/73 [==============================] - ETA: 0s - loss: 0.8372 - R2: 0.6789"
     ]
    },
    {
     "name": "stderr",
     "output_type": "stream",
     "text": [
      "WARNING:absl:Found untraced functions such as _update_step_xla, lstm_cell_13_layer_call_fn, lstm_cell_13_layer_call_and_return_conditional_losses, lstm_cell_14_layer_call_fn, lstm_cell_14_layer_call_and_return_conditional_losses while saving (showing 5 of 5). These functions will not be directly callable after loading.\n"
     ]
    },
    {
     "name": "stdout",
     "output_type": "stream",
     "text": [
      "INFO:tensorflow:Assets written to: models/best_model_69/assets\n"
     ]
    },
    {
     "name": "stderr",
     "output_type": "stream",
     "text": [
      "INFO:tensorflow:Assets written to: models/best_model_69/assets\n"
     ]
    },
    {
     "name": "stdout",
     "output_type": "stream",
     "text": [
      "73/73 [==============================] - 56s 764ms/step - loss: 0.8372 - R2: 0.6789 - val_loss: 1.0497 - val_R2: 0.6286 - lr: 0.0100\n",
      "Epoch 70/200\n",
      "73/73 [==============================] - ETA: 0s - loss: 0.8233 - R2: 0.6842"
     ]
    },
    {
     "name": "stderr",
     "output_type": "stream",
     "text": [
      "WARNING:absl:Found untraced functions such as _update_step_xla, lstm_cell_13_layer_call_fn, lstm_cell_13_layer_call_and_return_conditional_losses, lstm_cell_14_layer_call_fn, lstm_cell_14_layer_call_and_return_conditional_losses while saving (showing 5 of 5). These functions will not be directly callable after loading.\n"
     ]
    },
    {
     "name": "stdout",
     "output_type": "stream",
     "text": [
      "INFO:tensorflow:Assets written to: models/best_model_70/assets\n"
     ]
    },
    {
     "name": "stderr",
     "output_type": "stream",
     "text": [
      "INFO:tensorflow:Assets written to: models/best_model_70/assets\n"
     ]
    },
    {
     "name": "stdout",
     "output_type": "stream",
     "text": [
      "73/73 [==============================] - 56s 764ms/step - loss: 0.8233 - R2: 0.6842 - val_loss: 1.0279 - val_R2: 0.6281 - lr: 0.0100\n",
      "Epoch 71/200\n",
      "73/73 [==============================] - 47s 639ms/step - loss: 0.8724 - R2: 0.6661 - val_loss: 1.1324 - val_R2: 0.5920 - lr: 0.0100\n",
      "Epoch 72/200\n",
      "73/73 [==============================] - ETA: 0s - loss: 0.8527 - R2: 0.6743"
     ]
    },
    {
     "name": "stderr",
     "output_type": "stream",
     "text": [
      "WARNING:absl:Found untraced functions such as _update_step_xla, lstm_cell_13_layer_call_fn, lstm_cell_13_layer_call_and_return_conditional_losses, lstm_cell_14_layer_call_fn, lstm_cell_14_layer_call_and_return_conditional_losses while saving (showing 5 of 5). These functions will not be directly callable after loading.\n"
     ]
    },
    {
     "name": "stdout",
     "output_type": "stream",
     "text": [
      "INFO:tensorflow:Assets written to: models/best_model_72/assets\n"
     ]
    },
    {
     "name": "stderr",
     "output_type": "stream",
     "text": [
      "INFO:tensorflow:Assets written to: models/best_model_72/assets\n"
     ]
    },
    {
     "name": "stdout",
     "output_type": "stream",
     "text": [
      "73/73 [==============================] - 56s 764ms/step - loss: 0.8527 - R2: 0.6743 - val_loss: 0.9874 - val_R2: 0.6433 - lr: 0.0100\n",
      "Epoch 73/200\n",
      "73/73 [==============================] - 46s 637ms/step - loss: 0.8763 - R2: 0.6672 - val_loss: 1.0175 - val_R2: 0.6411 - lr: 0.0100\n",
      "Epoch 74/200\n",
      "73/73 [==============================] - 48s 657ms/step - loss: 0.8348 - R2: 0.6811 - val_loss: 1.1075 - val_R2: 0.6088 - lr: 0.0100\n",
      "Epoch 75/200\n",
      "73/73 [==============================] - 47s 643ms/step - loss: 0.8408 - R2: 0.6763 - val_loss: 1.0608 - val_R2: 0.6178 - lr: 0.0100\n",
      "Epoch 76/200\n",
      "73/73 [==============================] - 48s 652ms/step - loss: 0.8184 - R2: 0.6899 - val_loss: 1.0338 - val_R2: 0.6317 - lr: 0.0100\n",
      "Epoch 77/200\n",
      "73/73 [==============================] - ETA: 0s - loss: 0.8302 - R2: 0.6811"
     ]
    },
    {
     "name": "stderr",
     "output_type": "stream",
     "text": [
      "WARNING:absl:Found untraced functions such as _update_step_xla, lstm_cell_13_layer_call_fn, lstm_cell_13_layer_call_and_return_conditional_losses, lstm_cell_14_layer_call_fn, lstm_cell_14_layer_call_and_return_conditional_losses while saving (showing 5 of 5). These functions will not be directly callable after loading.\n"
     ]
    },
    {
     "name": "stdout",
     "output_type": "stream",
     "text": [
      "INFO:tensorflow:Assets written to: models/best_model_77/assets\n"
     ]
    },
    {
     "name": "stderr",
     "output_type": "stream",
     "text": [
      "INFO:tensorflow:Assets written to: models/best_model_77/assets\n"
     ]
    },
    {
     "name": "stdout",
     "output_type": "stream",
     "text": [
      "73/73 [==============================] - 55s 755ms/step - loss: 0.8302 - R2: 0.6811 - val_loss: 0.8945 - val_R2: 0.6745 - lr: 0.0100\n",
      "Epoch 78/200\n",
      "73/73 [==============================] - 47s 639ms/step - loss: 0.8270 - R2: 0.6849 - val_loss: 0.9401 - val_R2: 0.6613 - lr: 0.0100\n",
      "Epoch 79/200\n",
      "73/73 [==============================] - 48s 653ms/step - loss: 0.8491 - R2: 0.6740 - val_loss: 0.9407 - val_R2: 0.6604 - lr: 0.0100\n",
      "Epoch 80/200\n",
      "73/73 [==============================] - 47s 651ms/step - loss: 0.8089 - R2: 0.6888 - val_loss: 0.9324 - val_R2: 0.6606 - lr: 0.0100\n",
      "Epoch 81/200\n",
      "73/73 [==============================] - 47s 649ms/step - loss: 0.8114 - R2: 0.6887 - val_loss: 0.9190 - val_R2: 0.6614 - lr: 0.0100\n",
      "Epoch 82/200\n",
      "73/73 [==============================] - 48s 654ms/step - loss: 0.7869 - R2: 0.6978 - val_loss: 1.0232 - val_R2: 0.6307 - lr: 0.0100\n",
      "Epoch 83/200\n",
      "73/73 [==============================] - 47s 641ms/step - loss: 0.8018 - R2: 0.6937 - val_loss: 0.9967 - val_R2: 0.6401 - lr: 0.0100\n",
      "Epoch 84/200\n",
      "73/73 [==============================] - 47s 646ms/step - loss: 0.7848 - R2: 0.6979 - val_loss: 1.0012 - val_R2: 0.6416 - lr: 0.0100\n",
      "Epoch 85/200\n",
      "73/73 [==============================] - 47s 648ms/step - loss: 0.8006 - R2: 0.6889 - val_loss: 0.9495 - val_R2: 0.6542 - lr: 0.0100\n",
      "Epoch 86/200\n",
      "73/73 [==============================] - 47s 650ms/step - loss: 0.7788 - R2: 0.7006 - val_loss: 0.9448 - val_R2: 0.6611 - lr: 0.0100\n",
      "Epoch 87/200\n",
      "73/73 [==============================] - 47s 651ms/step - loss: 0.8256 - R2: 0.6815 - val_loss: 0.9726 - val_R2: 0.6385 - lr: 0.0100\n",
      "Epoch 88/200\n",
      "73/73 [==============================] - 47s 647ms/step - loss: 0.8568 - R2: 0.6732 - val_loss: 0.9586 - val_R2: 0.6518 - lr: 0.0100\n",
      "Epoch 89/200\n",
      "73/73 [==============================] - 47s 645ms/step - loss: 0.8244 - R2: 0.6856 - val_loss: 0.9915 - val_R2: 0.6438 - lr: 0.0100\n",
      "Epoch 90/200\n",
      "73/73 [==============================] - 47s 639ms/step - loss: 0.8051 - R2: 0.6886 - val_loss: 0.9346 - val_R2: 0.6606 - lr: 0.0100\n",
      "Epoch 91/200\n",
      "73/73 [==============================] - 49s 671ms/step - loss: 0.7942 - R2: 0.6937 - val_loss: 1.0686 - val_R2: 0.6159 - lr: 0.0100\n",
      "Epoch 92/200\n",
      "73/73 [==============================] - ETA: 0s - loss: 0.8228 - R2: 0.6800Restoring model weights from the end of the best epoch: 77.\n",
      "\n",
      "Epoch 92: ReduceLROnPlateau reducing learning rate to 0.0019999999552965165.\n",
      "73/73 [==============================] - 51s 704ms/step - loss: 0.8228 - R2: 0.6800 - val_loss: 1.0208 - val_R2: 0.6308 - lr: 0.0100\n",
      "Epoch 92: early stopping\n",
      "1/1 [==============================] - 1s 562ms/step\n"
     ]
    },
    {
     "name": "stderr",
     "output_type": "stream",
     "text": [
      "WARNING:absl:Found untraced functions such as _update_step_xla, lstm_cell_13_layer_call_fn, lstm_cell_13_layer_call_and_return_conditional_losses, lstm_cell_14_layer_call_fn, lstm_cell_14_layer_call_and_return_conditional_losses while saving (showing 5 of 5). These functions will not be directly callable after loading.\n"
     ]
    },
    {
     "name": "stdout",
     "output_type": "stream",
     "text": [
      "INFO:tensorflow:Assets written to: /var/folders/cc/hfx_w22x28j8f0l38h8ww1zc0000gn/T/tmpnmkiz7fd/model/data/model/assets\n"
     ]
    },
    {
     "name": "stderr",
     "output_type": "stream",
     "text": [
      "INFO:tensorflow:Assets written to: /var/folders/cc/hfx_w22x28j8f0l38h8ww1zc0000gn/T/tmpnmkiz7fd/model/data/model/assets\n",
      "2023/02/04 15:26:31 WARNING mlflow.utils.environment: Encountered an unexpected error while inferring pip requirements (model URI: /var/folders/cc/hfx_w22x28j8f0l38h8ww1zc0000gn/T/tmpnmkiz7fd/model, flavor: tensorflow), fall back to return ['tensorflow==2.11.0']. Set logging level to DEBUG to see the full traceback.\n"
     ]
    },
    {
     "name": "stdout",
     "output_type": "stream",
     "text": [
      "CPU times: user 4h 10min 48s, sys: 2h 53min 31s, total: 7h 4min 20s\n",
      "Wall time: 1h 28min 19s\n"
     ]
    }
   ],
   "source": [
    "%%time\n",
    "history = model.fit(X_train, y_train, epochs=epochs, batch_size=batch_size, validation_data=(X_test, y_test), callbacks=[mcp, earlyStopping, reduceLR])"
   ]
  },
  {
   "cell_type": "code",
   "execution_count": 80,
   "id": "0084fbb1-e83e-4808-99bf-1458f3ea3076",
   "metadata": {},
   "outputs": [
    {
     "name": "stdout",
     "output_type": "stream",
     "text": [
      "37/37 [==============================] - 2s 47ms/step\n"
     ]
    }
   ],
   "source": [
    "y_pred = model.predict(X_test)"
   ]
  },
  {
   "cell_type": "markdown",
   "id": "382979a3-f299-4762-8b6d-10a6ea4d3c70",
   "metadata": {},
   "source": [
    "# Score"
   ]
  },
  {
   "cell_type": "code",
   "execution_count": 81,
   "id": "f9fd5d60-841f-46c3-94b6-5755b4d548cd",
   "metadata": {},
   "outputs": [],
   "source": [
    "r2 = 1 - ((y_test.values - y_pred.reshape(-1)) ** 2).sum() / ((y_test - y_test.mean()) ** 2).sum()"
   ]
  },
  {
   "cell_type": "code",
   "execution_count": 82,
   "id": "4d2bfabe-2e3e-40cf-a1e8-2d458ee7f328",
   "metadata": {},
   "outputs": [
    {
     "data": {
      "text/plain": [
       "0.6811023779012132"
      ]
     },
     "execution_count": 82,
     "metadata": {},
     "output_type": "execute_result"
    }
   ],
   "source": [
    "r2\n",
    "# 0.4984533246797399\n",
    "# 0.56\n",
    "# 0.6 Emb64-bid100dense100drop\n",
    "# 0.63 Emb64-bid100dense100drop con reduce y early"
   ]
  },
  {
   "cell_type": "code",
   "execution_count": 83,
   "id": "85262541-e04a-4ff2-b3e6-a47643db66f6",
   "metadata": {},
   "outputs": [],
   "source": [
    "model.save('models/003-embed_bi_lstm_dense_bn.h5', )"
   ]
  },
  {
   "cell_type": "markdown",
   "id": "5f683e18-c876-4f7c-93ea-a33d495dcdaa",
   "metadata": {},
   "source": [
    "# Load model (solo si se grabo el modelo)"
   ]
  },
  {
   "cell_type": "code",
   "execution_count": 84,
   "id": "285c8740-f0bb-4237-8593-ff9b815de0e3",
   "metadata": {},
   "outputs": [],
   "source": [
    "from tensorflow.keras.models import load_model"
   ]
  },
  {
   "cell_type": "code",
   "execution_count": 85,
   "id": "2168984f-770c-436e-92da-c1344b1d3abc",
   "metadata": {},
   "outputs": [],
   "source": [
    "model_loaded = load_model('models/003-embed_bi_lstm_dense_bn.h5', custom_objects={'R2': R2})"
   ]
  },
  {
   "cell_type": "code",
   "execution_count": 86,
   "id": "13a9d7d8-41e0-44a0-a8b9-02157a11f8f2",
   "metadata": {},
   "outputs": [
    {
     "name": "stdout",
     "output_type": "stream",
     "text": [
      "37/37 [==============================] - 2s 43ms/step\n"
     ]
    }
   ],
   "source": [
    "y_pred = model_loaded.predict(X_test)"
   ]
  },
  {
   "cell_type": "code",
   "execution_count": 87,
   "id": "26c63493-3f25-4383-9654-58ee62aa3ae5",
   "metadata": {},
   "outputs": [
    {
     "data": {
      "text/plain": [
       "0.6811023779012132"
      ]
     },
     "execution_count": 87,
     "metadata": {},
     "output_type": "execute_result"
    }
   ],
   "source": [
    "r2 = 1 - ((y_test.values - y_pred.reshape(-1)) ** 2).sum() / ((y_test - y_test.mean()) ** 2).sum()\n",
    "# 0.69\n",
    "r2"
   ]
  },
  {
   "cell_type": "markdown",
   "id": "7f1a6260-e31f-4e5e-a923-ce67bf31152f",
   "metadata": {},
   "source": [
    "# Evaluación"
   ]
  },
  {
   "cell_type": "code",
   "execution_count": 88,
   "id": "7dd9d7e6-2789-459e-b9dd-593e10847fc4",
   "metadata": {},
   "outputs": [
    {
     "data": {
      "text/plain": [
       "<function matplotlib.pyplot.show(close=None, block=None)>"
      ]
     },
     "execution_count": 88,
     "metadata": {},
     "output_type": "execute_result"
    },
    {
     "data": {
      "image/png": "[encoded data removed]",
      "text/plain": [
       "<Figure size 500x500 with 1 Axes>"
      ]
     },
     "metadata": {},
     "output_type": "display_data"
    }
   ],
   "source": [
    "import seaborn as sns\n",
    "import matplotlib.pyplot as plt\n",
    "\n",
    "sns.set(color_codes=True)\n",
    "sns.set_style(\"white\")\n",
    "\n",
    "ax = sns.regplot(x=y_test, y=y_pred, scatter_kws={'alpha':0.4})\n",
    "ax.set_xlabel('Experimental pIC50', fontsize='large', fontweight='bold')\n",
    "ax.set_ylabel('Predicted pIC50', fontsize='large', fontweight='bold')\n",
    "ax.set_xlim(0, 12)\n",
    "ax.set_ylim(0, 12)\n",
    "ax.figure.set_size_inches(5, 5)\n",
    "plt.show"
   ]
  },
  {
   "cell_type": "markdown",
   "id": "76f567be-4a4a-4e73-998a-575a6afbf603",
   "metadata": {},
   "source": [
    "# TSNE"
   ]
  },
  {
   "cell_type": "code",
   "execution_count": 89,
   "id": "77f4b582-a35b-42db-896d-e2986a77c521",
   "metadata": {},
   "outputs": [],
   "source": [
    "from sklearn.manifold import TSNE\n",
    "from matplotlib import pyplot as plt"
   ]
  },
  {
   "cell_type": "code",
   "execution_count": 90,
   "id": "4927e494-6cb0-4598-93ff-4efd5363b6fb",
   "metadata": {},
   "outputs": [],
   "source": [
    "embedings = model.layers[0].get_weights()[0][1:]"
   ]
  },
  {
   "cell_type": "code",
   "execution_count": 91,
   "id": "1033e69d-2e6c-4a56-9237-8f8063c0b8b8",
   "metadata": {},
   "outputs": [
    {
     "data": {
      "text/plain": [
       "(38, 128)"
      ]
     },
     "execution_count": 91,
     "metadata": {},
     "output_type": "execute_result"
    }
   ],
   "source": [
    "embedings.shape"
   ]
  },
  {
   "cell_type": "code",
   "execution_count": 92,
   "id": "321d751f-a071-40ee-995e-6b111090a782",
   "metadata": {},
   "outputs": [
    {
     "name": "stderr",
     "output_type": "stream",
     "text": [
      "2023/02/04 15:26:36 INFO mlflow.utils.autologging_utils: Created MLflow autologging run with ID '56fe4a865df747868ad98f497a3cc756', which will track hyperparameters, performance metrics, model artifacts, and lineage information for the current sklearn workflow\n",
      "/opt/anaconda3/lib/python3.9/site-packages/sklearn/manifold/_t_sne.py:780: FutureWarning: The default initialization in TSNE will change from 'random' to 'pca' in 1.2.\n",
      "  warnings.warn(\n",
      "/opt/anaconda3/lib/python3.9/site-packages/sklearn/manifold/_t_sne.py:790: FutureWarning: The default learning rate in TSNE will change from 200.0 to 'auto' in 1.2.\n",
      "  warnings.warn(\n",
      "2023/02/04 15:26:37 WARNING mlflow.sklearn: Training metrics will not be recorded because training labels were not specified. To automatically record training metrics, provide training labels as inputs to the model training function.\n",
      "2023/02/04 15:26:37 WARNING mlflow.sklearn: Failed to infer model signature: the trained model does not specify a `predict` function, which is required in order to infer the signature\n",
      "2023/02/04 15:26:37 WARNING mlflow.sklearn: Model was missing function: predict. Not logging python_function flavor!\n"
     ]
    }
   ],
   "source": [
    "tsne = TSNE(2)\n",
    "X_2d = tsne.fit_transform(embedings)"
   ]
  },
  {
   "cell_type": "code",
   "execution_count": 93,
   "id": "922a0be0-332b-4f08-9455-77b02e1c33bf",
   "metadata": {},
   "outputs": [
    {
     "data": {
      "image/png": "[encoded data removed]",
      "text/plain": [
       "<Figure size 640x480 with 1 Axes>"
      ]
     },
     "metadata": {},
     "output_type": "display_data"
    }
   ],
   "source": [
    "plt.scatter(X_2d[:, 0], X_2d[:, 1], s=1)\n",
    "for i, t in enumerate(tk.word_index):\n",
    "    plt.text(X_2d[i, 0], X_2d[i, 1], t)"
   ]
  },
  {
   "cell_type": "code",
   "execution_count": 94,
   "id": "3f9f2cc6-8687-4676-b1aa-437914379f12",
   "metadata": {},
   "outputs": [
    {
     "name": "stdout",
     "output_type": "stream",
     "text": [
      "date and time = 04/02/2023 15:26:41\n"
     ]
    }
   ],
   "source": [
    "from datetime import datetime\n",
    "\n",
    "# datetime object containing current date and time\n",
    "now = datetime.now()\n",
    "# dd/mm/YY H:M:S\n",
    "dt_string = now.strftime(\"%d/%m/%Y %H:%M:%S\")\n",
    "print(\"date and time =\", dt_string)"
   ]
  }
 ],
 "metadata": {
  "kernelspec": {
   "display_name": "Python 3 (ipykernel)",
   "language": "python",
   "name": "python3"
  },
  "language_info": {
   "codemirror_mode": {
    "name": "ipython",
    "version": 3
   },
   "file_extension": ".py",
   "mimetype": "text/x-python",
   "name": "python",
   "nbconvert_exporter": "python",
   "pygments_lexer": "ipython3",
   "version": "3.9.13"
  }
 },
 "nbformat": 4,
 "nbformat_minor": 5
}
